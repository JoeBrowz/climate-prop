{
 "cells": [
  {
   "cell_type": "markdown",
   "id": "challenging-prairie",
   "metadata": {},
   "source": [
    "# Import Packages"
   ]
  },
  {
   "cell_type": "code",
   "execution_count": 118,
   "id": "empty-lecture",
   "metadata": {},
   "outputs": [],
   "source": [
    "import pandas as pd\n",
    "import numpy as np\n",
    "import pickle\n",
    "import re\n",
    "\n",
    "import nltk\n",
    "# nltk.download('wordnet')\n",
    "from nltk.stem import WordNetLemmatizer\n",
    "from nltk.corpus import stopwords\n",
    "import string\n",
    "from nltk import word_tokenize, FreqDist\n",
    "from nltk.sentiment.vader import SentimentIntensityAnalyzer\n",
    "\n",
    "import spacy\n",
    "\n",
    "from sklearn.model_selection import train_test_split\n",
    "from sklearn.feature_extraction.text import TfidfVectorizer\n",
    "from sklearn.metrics import accuracy_score\n",
    "from sklearn.ensemble import RandomForestClassifier\n",
    "from sklearn.naive_bayes import MultinomialNB\n",
    "from xgboost import XGBClassifier"
   ]
  },
  {
   "cell_type": "code",
   "execution_count": 2,
   "id": "complete-retreat",
   "metadata": {},
   "outputs": [],
   "source": [
    "pickle_in = open('data/pickle_jar/cleaned.pkl', 'rb')\n",
    "tweets = pickle.load(pickle_in)\n",
    "pickle_in.close()\n",
    "\n",
    "tweets.reset_index(inplace=True)\n",
    "tweets.drop(columns = 'index', inplace=True)"
   ]
  },
  {
   "cell_type": "code",
   "execution_count": 3,
   "id": "shared-madrid",
   "metadata": {},
   "outputs": [
    {
     "name": "stdout",
     "output_type": "stream",
     "text": [
      "<class 'pandas.core.frame.DataFrame'>\n",
      "RangeIndex: 1970258 entries, 0 to 1970257\n",
      "Data columns (total 21 columns):\n",
      " #   Column                   Dtype         \n",
      "---  ------                   -----         \n",
      " 0   created_at               datetime64[ns]\n",
      " 1   id                       int64         \n",
      " 2   full_text                object        \n",
      " 3   truncated                bool          \n",
      " 4   in_reply_to_screen_name  object        \n",
      " 5   is_quote_status          bool          \n",
      " 6   retweet_count            int64         \n",
      " 7   favorite_count           int64         \n",
      " 8   lang                     object        \n",
      " 9   retweeted_status         object        \n",
      " 10  names                    object        \n",
      " 11  screen_names             object        \n",
      " 12  locations                object        \n",
      " 13  follower_counts          int64         \n",
      " 14  user_created_at          object        \n",
      " 15  verified                 bool          \n",
      " 16  statuses_counts          int64         \n",
      " 17  location                 object        \n",
      " 18  country                  object        \n",
      " 19  hashtags                 object        \n",
      " 20  withheld_in_countries    object        \n",
      "dtypes: bool(3), datetime64[ns](1), int64(5), object(12)\n",
      "memory usage: 276.2+ MB\n"
     ]
    }
   ],
   "source": [
    "tweets.info()"
   ]
  },
  {
   "cell_type": "code",
   "execution_count": 4,
   "id": "approximate-cleanup",
   "metadata": {},
   "outputs": [
    {
     "data": {
      "text/plain": [
       "(1970258, 21)"
      ]
     },
     "execution_count": 4,
     "metadata": {},
     "output_type": "execute_result"
    }
   ],
   "source": [
    "tweets.shape"
   ]
  },
  {
   "cell_type": "code",
   "execution_count": 5,
   "id": "interpreted-mitchell",
   "metadata": {},
   "outputs": [
    {
     "data": {
      "text/plain": [
       "created_at                       0\n",
       "id                               0\n",
       "full_text                        0\n",
       "truncated                        0\n",
       "in_reply_to_screen_name    1525932\n",
       "is_quote_status                  0\n",
       "retweet_count                    0\n",
       "favorite_count                   0\n",
       "lang                             0\n",
       "retweeted_status           1970258\n",
       "names                            0\n",
       "screen_names                     0\n",
       "locations                        0\n",
       "follower_counts                  0\n",
       "user_created_at                  0\n",
       "verified                         0\n",
       "statuses_counts                  0\n",
       "location                   1889581\n",
       "country                    1889581\n",
       "hashtags                   1234431\n",
       "withheld_in_countries      1970213\n",
       "dtype: int64"
      ]
     },
     "execution_count": 5,
     "metadata": {},
     "output_type": "execute_result"
    }
   ],
   "source": [
    "tweets.isna().sum()"
   ]
  },
  {
   "cell_type": "code",
   "execution_count": 6,
   "id": "silver-analysis",
   "metadata": {},
   "outputs": [
    {
     "name": "stdout",
     "output_type": "stream",
     "text": [
      "4.095% of the dataset has location data\n"
     ]
    }
   ],
   "source": [
    "location_perc = 100 * tweets.dropna(subset =['location']).shape[0] / tweets.shape[0]\n",
    "print(f'{round(location_perc, 3)}% of the dataset has location data')"
   ]
  },
  {
   "cell_type": "code",
   "execution_count": 7,
   "id": "rubber-departure",
   "metadata": {},
   "outputs": [],
   "source": [
    "df = tweets.dropna(subset=['hashtags'])"
   ]
  },
  {
   "cell_type": "code",
   "execution_count": 8,
   "id": "celtic-diploma",
   "metadata": {},
   "outputs": [],
   "source": [
    "hashtags_all = []\n",
    "for row in df['hashtags']:\n",
    "    for item in row:\n",
    "        hashtags_all.append(item.lower())"
   ]
  },
  {
   "cell_type": "code",
   "execution_count": 9,
   "id": "victorian-tourist",
   "metadata": {
    "scrolled": false
   },
   "outputs": [
    {
     "data": {
      "text/plain": [
       "climatechange                     403207\n",
       "globalwarming                      55929\n",
       "climateaction                      50345\n",
       "environment                        48337\n",
       "climate                            38087\n",
       "                                   ...  \n",
       "theresatrumptweetforeverything         1\n",
       "newbridge                              1\n",
       "thehappening                           1\n",
       "ruthbaderginsburg                      1\n",
       "airqualityaproblem                     1\n",
       "Length: 166071, dtype: int64"
      ]
     },
     "execution_count": 9,
     "metadata": {},
     "output_type": "execute_result"
    }
   ],
   "source": [
    "pd.Series(hashtags_all).value_counts()"
   ]
  },
  {
   "cell_type": "code",
   "execution_count": 10,
   "id": "relevant-vienna",
   "metadata": {},
   "outputs": [],
   "source": [
    "unique_hashtags = list(pd.Series(hashtags_all).value_counts().index)"
   ]
  },
  {
   "cell_type": "code",
   "execution_count": 11,
   "id": "southeast-closure",
   "metadata": {},
   "outputs": [
    {
     "data": {
      "text/plain": [
       "['climatechange',\n",
       " 'globalwarming',\n",
       " 'climateaction',\n",
       " 'environment',\n",
       " 'climate',\n",
       " 'actonclimate',\n",
       " 'energy',\n",
       " 'climatechangeisreal',\n",
       " 'auspol',\n",
       " 'sustainability']"
      ]
     },
     "execution_count": 11,
     "metadata": {},
     "output_type": "execute_result"
    }
   ],
   "source": [
    "unique_hashtags[:10]"
   ]
  },
  {
   "cell_type": "code",
   "execution_count": 12,
   "id": "egyptian-visitor",
   "metadata": {},
   "outputs": [],
   "source": [
    "denier_tags = ['climatechangeisfalse', 'climatechangenotreal', 'climatechangehoax', \n",
    "               'globalwarminghoax', 'tcot', 'ccot', 'tlot', 'pjnet', 'rednationrising', 'votered', \n",
    "               'libtard', 'libtards', 'maga']\n",
    "\n",
    "believer_tags = ['climatechangeisreal', 'actonclimate', 'extinctionrebellion', 'climateemergency', \n",
    "                  'climateactionnow', 'capitalism', 'public_health', 'climateaction', 'humanityextinction',\n",
    "                'activism', 'noplanetb']"
   ]
  },
  {
   "cell_type": "code",
   "execution_count": 13,
   "id": "ultimate-vitamin",
   "metadata": {
    "scrolled": true
   },
   "outputs": [],
   "source": [
    "believer = []\n",
    "denier = []\n",
    "unsure = []\n",
    "believe_series = []\n",
    "count = 0\n",
    "for idx, row in df['hashtags'].iteritems():\n",
    "    believe = 0\n",
    "    deny = 0 \n",
    "    for tag in row:\n",
    "        if tag.lower() in denier_tags:\n",
    "            deny += 1\n",
    "        elif tag.lower() in believer_tags:\n",
    "            believe += 1\n",
    "    if (believe > 0) and (deny == 0):\n",
    "        believer.append(int(idx))\n",
    "        believe_series.append(True)\n",
    "    elif (believe == 0) and (deny > 0):\n",
    "        denier.append(int(idx))\n",
    "        believe_series.append(False)\n",
    "    else:\n",
    "        unsure.append(int(idx))\n",
    "        believe_series.append(None)"
   ]
  },
  {
   "cell_type": "code",
   "execution_count": 14,
   "id": "respective-prague",
   "metadata": {},
   "outputs": [],
   "source": [
    "df = df.assign(believer = believe_series)"
   ]
  },
  {
   "cell_type": "code",
   "execution_count": 15,
   "id": "demographic-record",
   "metadata": {},
   "outputs": [],
   "source": [
    "to_train = df.dropna(subset=['believer'])"
   ]
  },
  {
   "cell_type": "code",
   "execution_count": 16,
   "id": "early-douglas",
   "metadata": {},
   "outputs": [
    {
     "data": {
      "text/html": [
       "<div>\n",
       "<style scoped>\n",
       "    .dataframe tbody tr th:only-of-type {\n",
       "        vertical-align: middle;\n",
       "    }\n",
       "\n",
       "    .dataframe tbody tr th {\n",
       "        vertical-align: top;\n",
       "    }\n",
       "\n",
       "    .dataframe thead th {\n",
       "        text-align: right;\n",
       "    }\n",
       "</style>\n",
       "<table border=\"1\" class=\"dataframe\">\n",
       "  <thead>\n",
       "    <tr style=\"text-align: right;\">\n",
       "      <th></th>\n",
       "      <th>created_at</th>\n",
       "      <th>id</th>\n",
       "      <th>full_text</th>\n",
       "      <th>truncated</th>\n",
       "      <th>in_reply_to_screen_name</th>\n",
       "      <th>is_quote_status</th>\n",
       "      <th>retweet_count</th>\n",
       "      <th>favorite_count</th>\n",
       "      <th>lang</th>\n",
       "      <th>retweeted_status</th>\n",
       "      <th>...</th>\n",
       "      <th>locations</th>\n",
       "      <th>follower_counts</th>\n",
       "      <th>user_created_at</th>\n",
       "      <th>verified</th>\n",
       "      <th>statuses_counts</th>\n",
       "      <th>location</th>\n",
       "      <th>country</th>\n",
       "      <th>hashtags</th>\n",
       "      <th>withheld_in_countries</th>\n",
       "      <th>believer</th>\n",
       "    </tr>\n",
       "  </thead>\n",
       "  <tbody>\n",
       "    <tr>\n",
       "      <th>65</th>\n",
       "      <td>2018-08-13 10:46:39</td>\n",
       "      <td>1028955987191848961</td>\n",
       "      <td>Latest article from Vanguard on the Federal Go...</td>\n",
       "      <td>False</td>\n",
       "      <td>None</td>\n",
       "      <td>False</td>\n",
       "      <td>0</td>\n",
       "      <td>0</td>\n",
       "      <td>en</td>\n",
       "      <td>NaN</td>\n",
       "      <td>...</td>\n",
       "      <td>Australia</td>\n",
       "      <td>576</td>\n",
       "      <td>2018-08-10</td>\n",
       "      <td>False</td>\n",
       "      <td>575</td>\n",
       "      <td>None</td>\n",
       "      <td>None</td>\n",
       "      <td>[fraud, GreatBarrierReef, climatechange, capit...</td>\n",
       "      <td>NaN</td>\n",
       "      <td>True</td>\n",
       "    </tr>\n",
       "    <tr>\n",
       "      <th>77</th>\n",
       "      <td>2018-08-13 10:48:14</td>\n",
       "      <td>1028956388339404801</td>\n",
       "      <td>#ClimateChangeIsReal - ‘researchers projected ...</td>\n",
       "      <td>False</td>\n",
       "      <td>None</td>\n",
       "      <td>True</td>\n",
       "      <td>0</td>\n",
       "      <td>0</td>\n",
       "      <td>en</td>\n",
       "      <td>NaN</td>\n",
       "      <td>...</td>\n",
       "      <td>Scotland, United Kingdom</td>\n",
       "      <td>668</td>\n",
       "      <td>2016-03-09</td>\n",
       "      <td>False</td>\n",
       "      <td>3283</td>\n",
       "      <td>None</td>\n",
       "      <td>None</td>\n",
       "      <td>[ClimateChangeIsReal]</td>\n",
       "      <td>NaN</td>\n",
       "      <td>True</td>\n",
       "    </tr>\n",
       "    <tr>\n",
       "      <th>80</th>\n",
       "      <td>2018-08-13 10:48:34</td>\n",
       "      <td>1028956469763424258</td>\n",
       "      <td>#actonclimate Apple is now a $1 trillion tech ...</td>\n",
       "      <td>False</td>\n",
       "      <td>None</td>\n",
       "      <td>False</td>\n",
       "      <td>1</td>\n",
       "      <td>0</td>\n",
       "      <td>en</td>\n",
       "      <td>NaN</td>\n",
       "      <td>...</td>\n",
       "      <td></td>\n",
       "      <td>25054</td>\n",
       "      <td>2013-11-09</td>\n",
       "      <td>False</td>\n",
       "      <td>129289</td>\n",
       "      <td>None</td>\n",
       "      <td>None</td>\n",
       "      <td>[actonclimate]</td>\n",
       "      <td>NaN</td>\n",
       "      <td>True</td>\n",
       "    </tr>\n",
       "    <tr>\n",
       "      <th>86</th>\n",
       "      <td>2018-08-13 10:49:11</td>\n",
       "      <td>1028956628064894976</td>\n",
       "      <td>What is geoengineering? https://t.co/wwdORYyv3...</td>\n",
       "      <td>False</td>\n",
       "      <td>None</td>\n",
       "      <td>False</td>\n",
       "      <td>1</td>\n",
       "      <td>1</td>\n",
       "      <td>nl</td>\n",
       "      <td>NaN</td>\n",
       "      <td>...</td>\n",
       "      <td>Globally l Planet Earth</td>\n",
       "      <td>46745</td>\n",
       "      <td>2016-05-13</td>\n",
       "      <td>False</td>\n",
       "      <td>128032</td>\n",
       "      <td>None</td>\n",
       "      <td>None</td>\n",
       "      <td>[climatechange, climateaction, environment, en...</td>\n",
       "      <td>NaN</td>\n",
       "      <td>True</td>\n",
       "    </tr>\n",
       "    <tr>\n",
       "      <th>112</th>\n",
       "      <td>2018-08-13 10:52:38</td>\n",
       "      <td>1028957494910115840</td>\n",
       "      <td>As America Burns from #ClimateChange, #Trump O...</td>\n",
       "      <td>False</td>\n",
       "      <td>None</td>\n",
       "      <td>False</td>\n",
       "      <td>0</td>\n",
       "      <td>0</td>\n",
       "      <td>en</td>\n",
       "      <td>NaN</td>\n",
       "      <td>...</td>\n",
       "      <td>Montréal Québec Canada</td>\n",
       "      <td>885</td>\n",
       "      <td>2011-07-26</td>\n",
       "      <td>False</td>\n",
       "      <td>46543</td>\n",
       "      <td>None</td>\n",
       "      <td>None</td>\n",
       "      <td>[ClimateChange, Trump, uspoli, GOP, MAGA]</td>\n",
       "      <td>NaN</td>\n",
       "      <td>False</td>\n",
       "    </tr>\n",
       "    <tr>\n",
       "      <th>...</th>\n",
       "      <td>...</td>\n",
       "      <td>...</td>\n",
       "      <td>...</td>\n",
       "      <td>...</td>\n",
       "      <td>...</td>\n",
       "      <td>...</td>\n",
       "      <td>...</td>\n",
       "      <td>...</td>\n",
       "      <td>...</td>\n",
       "      <td>...</td>\n",
       "      <td>...</td>\n",
       "      <td>...</td>\n",
       "      <td>...</td>\n",
       "      <td>...</td>\n",
       "      <td>...</td>\n",
       "      <td>...</td>\n",
       "      <td>...</td>\n",
       "      <td>...</td>\n",
       "      <td>...</td>\n",
       "      <td>...</td>\n",
       "      <td>...</td>\n",
       "    </tr>\n",
       "    <tr>\n",
       "      <th>1970127</th>\n",
       "      <td>2018-11-27 02:42:28</td>\n",
       "      <td>1067247252601749505</td>\n",
       "      <td>https://t.co/aODTrYRymY #ClimateAction #Climat...</td>\n",
       "      <td>False</td>\n",
       "      <td>None</td>\n",
       "      <td>False</td>\n",
       "      <td>0</td>\n",
       "      <td>0</td>\n",
       "      <td>und</td>\n",
       "      <td>NaN</td>\n",
       "      <td>...</td>\n",
       "      <td>Florida, USA</td>\n",
       "      <td>3562</td>\n",
       "      <td>2009-12-21</td>\n",
       "      <td>False</td>\n",
       "      <td>20657</td>\n",
       "      <td>None</td>\n",
       "      <td>None</td>\n",
       "      <td>[ClimateAction, ClimateChangeisReal, ClimateCh...</td>\n",
       "      <td>NaN</td>\n",
       "      <td>True</td>\n",
       "    </tr>\n",
       "    <tr>\n",
       "      <th>1970131</th>\n",
       "      <td>2018-11-27 02:42:33</td>\n",
       "      <td>1067247276626710529</td>\n",
       "      <td>@jaketapper @PamelaBrownCNN @TheLeadCNN Under ...</td>\n",
       "      <td>False</td>\n",
       "      <td>jaketapper</td>\n",
       "      <td>False</td>\n",
       "      <td>0</td>\n",
       "      <td>0</td>\n",
       "      <td>en</td>\n",
       "      <td>NaN</td>\n",
       "      <td>...</td>\n",
       "      <td>Texas, USA</td>\n",
       "      <td>125</td>\n",
       "      <td>2015-03-02</td>\n",
       "      <td>False</td>\n",
       "      <td>6700</td>\n",
       "      <td>None</td>\n",
       "      <td>None</td>\n",
       "      <td>[ClimateChangeHoax]</td>\n",
       "      <td>NaN</td>\n",
       "      <td>False</td>\n",
       "    </tr>\n",
       "    <tr>\n",
       "      <th>1970135</th>\n",
       "      <td>2018-11-27 02:42:40</td>\n",
       "      <td>1067247302904086528</td>\n",
       "      <td>@StephenLeahy I'd even take mushy peas over ba...</td>\n",
       "      <td>False</td>\n",
       "      <td>StephenLeahy</td>\n",
       "      <td>False</td>\n",
       "      <td>0</td>\n",
       "      <td>1</td>\n",
       "      <td>en</td>\n",
       "      <td>NaN</td>\n",
       "      <td>...</td>\n",
       "      <td>Treaty One Territory, Winnipeg</td>\n",
       "      <td>829</td>\n",
       "      <td>2011-08-18</td>\n",
       "      <td>False</td>\n",
       "      <td>9970</td>\n",
       "      <td>None</td>\n",
       "      <td>None</td>\n",
       "      <td>[ActOnClimate]</td>\n",
       "      <td>NaN</td>\n",
       "      <td>True</td>\n",
       "    </tr>\n",
       "    <tr>\n",
       "      <th>1970205</th>\n",
       "      <td>2018-11-27 02:44:09</td>\n",
       "      <td>1067247677434408962</td>\n",
       "      <td>#NoPlanetB #ClimateChangeIsReal #ClimateAction...</td>\n",
       "      <td>False</td>\n",
       "      <td>None</td>\n",
       "      <td>True</td>\n",
       "      <td>0</td>\n",
       "      <td>0</td>\n",
       "      <td>en</td>\n",
       "      <td>NaN</td>\n",
       "      <td>...</td>\n",
       "      <td>UK</td>\n",
       "      <td>541</td>\n",
       "      <td>2009-03-30</td>\n",
       "      <td>False</td>\n",
       "      <td>42375</td>\n",
       "      <td>None</td>\n",
       "      <td>None</td>\n",
       "      <td>[NoPlanetB, ClimateChangeIsReal, ClimateAction...</td>\n",
       "      <td>NaN</td>\n",
       "      <td>True</td>\n",
       "    </tr>\n",
       "    <tr>\n",
       "      <th>1970245</th>\n",
       "      <td>2018-11-27 02:45:00</td>\n",
       "      <td>1067247890865799168</td>\n",
       "      <td>The concentration of carbon dioxide in the atm...</td>\n",
       "      <td>False</td>\n",
       "      <td>None</td>\n",
       "      <td>False</td>\n",
       "      <td>4</td>\n",
       "      <td>4</td>\n",
       "      <td>en</td>\n",
       "      <td>NaN</td>\n",
       "      <td>...</td>\n",
       "      <td>United States</td>\n",
       "      <td>12194</td>\n",
       "      <td>2014-08-06</td>\n",
       "      <td>False</td>\n",
       "      <td>52184</td>\n",
       "      <td>None</td>\n",
       "      <td>None</td>\n",
       "      <td>[ActOnClimate]</td>\n",
       "      <td>NaN</td>\n",
       "      <td>True</td>\n",
       "    </tr>\n",
       "  </tbody>\n",
       "</table>\n",
       "<p>113726 rows × 22 columns</p>\n",
       "</div>"
      ],
      "text/plain": [
       "                 created_at                   id  \\\n",
       "65      2018-08-13 10:46:39  1028955987191848961   \n",
       "77      2018-08-13 10:48:14  1028956388339404801   \n",
       "80      2018-08-13 10:48:34  1028956469763424258   \n",
       "86      2018-08-13 10:49:11  1028956628064894976   \n",
       "112     2018-08-13 10:52:38  1028957494910115840   \n",
       "...                     ...                  ...   \n",
       "1970127 2018-11-27 02:42:28  1067247252601749505   \n",
       "1970131 2018-11-27 02:42:33  1067247276626710529   \n",
       "1970135 2018-11-27 02:42:40  1067247302904086528   \n",
       "1970205 2018-11-27 02:44:09  1067247677434408962   \n",
       "1970245 2018-11-27 02:45:00  1067247890865799168   \n",
       "\n",
       "                                                 full_text  truncated  \\\n",
       "65       Latest article from Vanguard on the Federal Go...      False   \n",
       "77       #ClimateChangeIsReal - ‘researchers projected ...      False   \n",
       "80       #actonclimate Apple is now a $1 trillion tech ...      False   \n",
       "86       What is geoengineering? https://t.co/wwdORYyv3...      False   \n",
       "112      As America Burns from #ClimateChange, #Trump O...      False   \n",
       "...                                                    ...        ...   \n",
       "1970127  https://t.co/aODTrYRymY #ClimateAction #Climat...      False   \n",
       "1970131  @jaketapper @PamelaBrownCNN @TheLeadCNN Under ...      False   \n",
       "1970135  @StephenLeahy I'd even take mushy peas over ba...      False   \n",
       "1970205  #NoPlanetB #ClimateChangeIsReal #ClimateAction...      False   \n",
       "1970245  The concentration of carbon dioxide in the atm...      False   \n",
       "\n",
       "        in_reply_to_screen_name  is_quote_status  retweet_count  \\\n",
       "65                         None            False              0   \n",
       "77                         None             True              0   \n",
       "80                         None            False              1   \n",
       "86                         None            False              1   \n",
       "112                        None            False              0   \n",
       "...                         ...              ...            ...   \n",
       "1970127                    None            False              0   \n",
       "1970131              jaketapper            False              0   \n",
       "1970135            StephenLeahy            False              0   \n",
       "1970205                    None             True              0   \n",
       "1970245                    None            False              4   \n",
       "\n",
       "         favorite_count lang retweeted_status  ...  \\\n",
       "65                    0   en              NaN  ...   \n",
       "77                    0   en              NaN  ...   \n",
       "80                    0   en              NaN  ...   \n",
       "86                    1   nl              NaN  ...   \n",
       "112                   0   en              NaN  ...   \n",
       "...                 ...  ...              ...  ...   \n",
       "1970127               0  und              NaN  ...   \n",
       "1970131               0   en              NaN  ...   \n",
       "1970135               1   en              NaN  ...   \n",
       "1970205               0   en              NaN  ...   \n",
       "1970245               4   en              NaN  ...   \n",
       "\n",
       "                              locations follower_counts user_created_at  \\\n",
       "65                            Australia             576      2018-08-10   \n",
       "77             Scotland, United Kingdom             668      2016-03-09   \n",
       "80                                                25054      2013-11-09   \n",
       "86              Globally l Planet Earth           46745      2016-05-13   \n",
       "112              Montréal Québec Canada             885      2011-07-26   \n",
       "...                                 ...             ...             ...   \n",
       "1970127                    Florida, USA            3562      2009-12-21   \n",
       "1970131                      Texas, USA             125      2015-03-02   \n",
       "1970135  Treaty One Territory, Winnipeg             829      2011-08-18   \n",
       "1970205                              UK             541      2009-03-30   \n",
       "1970245                   United States           12194      2014-08-06   \n",
       "\n",
       "         verified statuses_counts  location  country  \\\n",
       "65          False             575      None     None   \n",
       "77          False            3283      None     None   \n",
       "80          False          129289      None     None   \n",
       "86          False          128032      None     None   \n",
       "112         False           46543      None     None   \n",
       "...           ...             ...       ...      ...   \n",
       "1970127     False           20657      None     None   \n",
       "1970131     False            6700      None     None   \n",
       "1970135     False            9970      None     None   \n",
       "1970205     False           42375      None     None   \n",
       "1970245     False           52184      None     None   \n",
       "\n",
       "                                                  hashtags  \\\n",
       "65       [fraud, GreatBarrierReef, climatechange, capit...   \n",
       "77                                   [ClimateChangeIsReal]   \n",
       "80                                          [actonclimate]   \n",
       "86       [climatechange, climateaction, environment, en...   \n",
       "112              [ClimateChange, Trump, uspoli, GOP, MAGA]   \n",
       "...                                                    ...   \n",
       "1970127  [ClimateAction, ClimateChangeisReal, ClimateCh...   \n",
       "1970131                                [ClimateChangeHoax]   \n",
       "1970135                                     [ActOnClimate]   \n",
       "1970205  [NoPlanetB, ClimateChangeIsReal, ClimateAction...   \n",
       "1970245                                     [ActOnClimate]   \n",
       "\n",
       "        withheld_in_countries believer  \n",
       "65                        NaN     True  \n",
       "77                        NaN     True  \n",
       "80                        NaN     True  \n",
       "86                        NaN     True  \n",
       "112                       NaN    False  \n",
       "...                       ...      ...  \n",
       "1970127                   NaN     True  \n",
       "1970131                   NaN    False  \n",
       "1970135                   NaN     True  \n",
       "1970205                   NaN     True  \n",
       "1970245                   NaN     True  \n",
       "\n",
       "[113726 rows x 22 columns]"
      ]
     },
     "execution_count": 16,
     "metadata": {},
     "output_type": "execute_result"
    }
   ],
   "source": [
    "to_train"
   ]
  },
  {
   "cell_type": "code",
   "execution_count": 17,
   "id": "hourly-lobby",
   "metadata": {},
   "outputs": [
    {
     "data": {
      "text/plain": [
       "                                 13823\n",
       "Globally l Planet Earth          11973\n",
       "Tampere, Finland                  9519\n",
       "Right Here......                  3128\n",
       "United States                     2699\n",
       "                                 ...  \n",
       "Boston, MA     Technygal Blog        1\n",
       "the Tree of Life                     1\n",
       "Vossestrand,Norway                   1\n",
       "Dijon | Marseille | NYC              1\n",
       "Around you                           1\n",
       "Name: locations, Length: 9481, dtype: int64"
      ]
     },
     "execution_count": 17,
     "metadata": {},
     "output_type": "execute_result"
    }
   ],
   "source": [
    "to_train['locations'].value_counts()"
   ]
  },
  {
   "cell_type": "code",
   "execution_count": 67,
   "id": "necessary-diagnosis",
   "metadata": {},
   "outputs": [],
   "source": [
    "def re_clean(tweet):\n",
    "    tweet = tweet.lower()\n",
    "    tweet = re.sub(r'[@][\\w]+','', tweet)\n",
    "    tweet = re.sub(r'[#]','', tweet)\n",
    "    tweet = re.sub(r'http[s]?://(?:[a-zA-Z]|[0-9]|[$-_@.&+]|[!*\\(\\),]|(?:%[0-9a-fA-F][0-9a-fA-F]))+', '', tweet)\n",
    "    tweet = re.sub(r'\\s{2,5}', ' ', tweet)\n",
    "    tweet = re.sub(r'\\n', ' ', tweet)\n",
    "\n",
    "    return tweet.strip()"
   ]
  },
  {
   "cell_type": "code",
   "execution_count": 68,
   "id": "experimental-lotus",
   "metadata": {},
   "outputs": [
    {
     "name": "stdout",
     "output_type": "stream",
     "text": [
      "i'd even take mushy peas over baked brits. actonclimate\n"
     ]
    },
    {
     "data": {
      "text/plain": [
       "\"@StephenLeahy I'd even take mushy peas over baked Brits.\\n#ActOnClimate\""
      ]
     },
     "execution_count": 68,
     "metadata": {},
     "output_type": "execute_result"
    }
   ],
   "source": [
    "n = -3\n",
    "\n",
    "print(re_clean(to_train.iloc[n]['full_text']))\n",
    "\n",
    "to_train.iloc[n]['full_text']"
   ]
  },
  {
   "cell_type": "code",
   "execution_count": 91,
   "id": "alpine-grace",
   "metadata": {},
   "outputs": [
    {
     "data": {
      "text/plain": [
       "(113726, 22)"
      ]
     },
     "execution_count": 91,
     "metadata": {},
     "output_type": "execute_result"
    }
   ],
   "source": [
    "to_train.shape"
   ]
  },
  {
   "cell_type": "code",
   "execution_count": 69,
   "id": "fifteen-windsor",
   "metadata": {},
   "outputs": [],
   "source": [
    "cleaned_tweets = to_train['full_text'].apply(lambda x: re_clean(x))"
   ]
  },
  {
   "cell_type": "code",
   "execution_count": 70,
   "id": "furnished-stock",
   "metadata": {},
   "outputs": [
    {
     "data": {
      "text/plain": [
       "65         latest article from vanguard on the federal go...\n",
       "77         climatechangeisreal - ‘researchers projected t...\n",
       "80         actonclimate apple is now a $1 trillion tech b...\n",
       "86         what is geoengineering? climatechange climatea...\n",
       "112        as america burns from climatechange, trump off...\n",
       "                                 ...                        \n",
       "1970127    climateaction climatechangeisreal climatechang...\n",
       "1970131    under what us president was that report initia...\n",
       "1970135    i'd even take mushy peas over baked brits. act...\n",
       "1970205    noplanetb climatechangeisreal climateactionnow...\n",
       "1970245    the concentration of carbon dioxide in the atm...\n",
       "Name: full_text, Length: 113726, dtype: object"
      ]
     },
     "execution_count": 70,
     "metadata": {},
     "output_type": "execute_result"
    }
   ],
   "source": [
    "cleaned_tweets"
   ]
  },
  {
   "cell_type": "code",
   "execution_count": 71,
   "id": "armed-london",
   "metadata": {},
   "outputs": [],
   "source": [
    "y = to_train['believer']"
   ]
  },
  {
   "cell_type": "code",
   "execution_count": 79,
   "id": "korean-stone",
   "metadata": {},
   "outputs": [],
   "source": [
    "stopwords_list = stopwords.words('english') + list(string.punctuation) + denier_tags + believer_tags "
   ]
  },
  {
   "cell_type": "code",
   "execution_count": 80,
   "id": "blank-substitute",
   "metadata": {},
   "outputs": [],
   "source": [
    "def process_tweets(tweet):\n",
    "    tok = nltk.regexp_tokenize(tweet, r\"([a-zA-Z]+(?:'[a-z]+)?)\")\n",
    "    return [word.lower() for word in tok if word.lower() not in stopwords_list]"
   ]
  },
  {
   "cell_type": "code",
   "execution_count": 101,
   "id": "forward-metabolism",
   "metadata": {},
   "outputs": [],
   "source": [
    "token_data = list(map(process_tweets, cleaned_tweets))"
   ]
  },
  {
   "cell_type": "code",
   "execution_count": 111,
   "id": "respiratory-singapore",
   "metadata": {},
   "outputs": [
    {
     "data": {
      "text/plain": [
       "['globalwarming', 'firenado', 'seems', 'really', 'need']"
      ]
     },
     "execution_count": 111,
     "metadata": {},
     "output_type": "execute_result"
    }
   ],
   "source": [
    "token_data[12]"
   ]
  },
  {
   "cell_type": "code",
   "execution_count": 105,
   "id": "occasional-teaching",
   "metadata": {},
   "outputs": [],
   "source": [
    "lemmatizer = WordNetLemmatizer()\n",
    "\n",
    "processed_data = [[lemmatizer.lemmatize(token) for token in tweet] for tweet in token_data]\n",
    "\n",
    "# Prints \"This sentence wa transformed using WordNet Lemmatizer\""
   ]
  },
  {
   "cell_type": "code",
   "execution_count": 113,
   "id": "collaborative-number",
   "metadata": {},
   "outputs": [
    {
     "data": {
      "text/plain": [
       "['globalwarming', 'firenado', 'seems', 'really', 'need']"
      ]
     },
     "execution_count": 113,
     "metadata": {},
     "output_type": "execute_result"
    }
   ],
   "source": [
    "processed_data[12]"
   ]
  },
  {
   "cell_type": "code",
   "execution_count": 117,
   "id": "posted-relay",
   "metadata": {},
   "outputs": [
    {
     "data": {
      "text/plain": [
       "'play'"
      ]
     },
     "execution_count": 117,
     "metadata": {},
     "output_type": "execute_result"
    }
   ],
   "source": [
    "lemmatizer.lemmatize('play')"
   ]
  },
  {
   "cell_type": "code",
   "execution_count": 83,
   "id": "functional-schema",
   "metadata": {},
   "outputs": [],
   "source": [
    "all_vocab = set()\n",
    "for tweet_token in processed_data:\n",
    "    all_vocab.update(tweet_token)"
   ]
  },
  {
   "cell_type": "code",
   "execution_count": 84,
   "id": "biblical-prince",
   "metadata": {},
   "outputs": [],
   "source": [
    "tweets_concat = []\n",
    "for tweet in processed_data:\n",
    "    tweets_concat += tweet"
   ]
  },
  {
   "cell_type": "code",
   "execution_count": 87,
   "id": "mysterious-crawford",
   "metadata": {},
   "outputs": [],
   "source": [
    "tweet_freqdist = FreqDist(tweets_concat)"
   ]
  },
  {
   "cell_type": "markdown",
   "id": "capital-state",
   "metadata": {},
   "source": [
    "## TF-IDF Vectorizer"
   ]
  },
  {
   "cell_type": "code",
   "execution_count": 94,
   "id": "heated-intermediate",
   "metadata": {},
   "outputs": [],
   "source": [
    "X_train, X_test, y_train, y_test = train_test_split(cleaned_tweets, y)"
   ]
  },
  {
   "cell_type": "code",
   "execution_count": 96,
   "id": "unknown-logging",
   "metadata": {},
   "outputs": [],
   "source": [
    "vectorizer = TfidfVectorizer()\n",
    "tf_idf_data_train = vectorizer.fit_transform(X_train)\n",
    "tf_idf_data_test = vectorizer.transform(X_test)"
   ]
  },
  {
   "cell_type": "code",
   "execution_count": null,
   "id": "democratic-vessel",
   "metadata": {},
   "outputs": [],
   "source": []
  }
 ],
 "metadata": {
  "kernelspec": {
   "display_name": "Python [conda env:ds01] *",
   "language": "python",
   "name": "conda-env-ds01-py"
  },
  "language_info": {
   "codemirror_mode": {
    "name": "ipython",
    "version": 3
   },
   "file_extension": ".py",
   "mimetype": "text/x-python",
   "name": "python",
   "nbconvert_exporter": "python",
   "pygments_lexer": "ipython3",
   "version": "3.6.9"
  }
 },
 "nbformat": 4,
 "nbformat_minor": 5
}
