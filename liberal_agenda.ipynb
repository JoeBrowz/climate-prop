{
 "cells": [
  {
   "cell_type": "markdown",
   "id": "challenging-prairie",
   "metadata": {},
   "source": [
    "# Import Packages"
   ]
  },
  {
   "cell_type": "code",
   "execution_count": 1,
   "id": "empty-lecture",
   "metadata": {},
   "outputs": [],
   "source": [
    "import pandas as pd\n",
    "import numpy as np\n",
    "import pickle\n",
    "import matplotlib.pyplot as plt\n",
    "import re\n",
    "import time\n",
    "import matplotlib.pyplot as plt\n",
    "import seaborn as sns\n",
    "sns.set_style('darkgrid')\n",
    "%matplotlib inline\n",
    "\n",
    "from wordcloud import WordCloud, STOPWORDS\n",
    "import matplotlib.colors as mcolors\n",
    "\n",
    "import nltk\n",
    "# nltk.download('wordnet')\n",
    "from nltk.stem import WordNetLemmatizer\n",
    "from nltk.corpus import stopwords\n",
    "import string\n",
    "from nltk import word_tokenize, FreqDist\n",
    "from nltk.sentiment.vader import SentimentIntensityAnalyzer\n",
    "\n",
    "from gensim.corpora import Dictionary\n",
    "from gensim.models import Word2Vec\n",
    "\n",
    "import tensorflow as tf\n",
    "import tensorflow_hub as hub\n",
    "import tensorflow_text as text\n",
    "from tensorflow import keras\n",
    "from tensorflow.keras import layers\n",
    "from tensorflow.keras.metrics import BinaryAccuracy, Recall, AUC\n",
    "tf.get_logger().setLevel('ERROR')\n",
    "\n",
    "from sklearn.pipeline import Pipeline\n",
    "from sklearn.linear_model import LogisticRegression\n",
    "from sklearn.model_selection import train_test_split, GridSearchCV\n",
    "from sklearn.feature_extraction.text import TfidfVectorizer, CountVectorizer, TfidfTransformer\n",
    "from sklearn.metrics import accuracy_score, f1_score\n",
    "from sklearn.metrics import confusion_matrix, ConfusionMatrixDisplay\n",
    "from sklearn.experimental import enable_hist_gradient_boosting\n",
    "from sklearn.ensemble import RandomForestClassifier, HistGradientBoostingClassifier\n",
    "from sklearn.naive_bayes import MultinomialNB\n",
    "from xgboost import XGBClassifier"
   ]
  },
  {
   "cell_type": "markdown",
   "id": "active-vatican",
   "metadata": {},
   "source": [
    "### Load in Pickeled DataFrame"
   ]
  },
  {
   "cell_type": "code",
   "execution_count": 2,
   "id": "urban-respondent",
   "metadata": {},
   "outputs": [],
   "source": [
    "tweets = pd.read_pickle('data/pickle_jar/cleaned2.pkl')\n",
    "denier_sup = pd.read_pickle('data/pickle_jar/denier_sup.pkl')"
   ]
  },
  {
   "cell_type": "markdown",
   "id": "united-singer",
   "metadata": {},
   "source": [
    "## Explore Data"
   ]
  },
  {
   "cell_type": "code",
   "execution_count": 3,
   "id": "shared-madrid",
   "metadata": {},
   "outputs": [
    {
     "name": "stdout",
     "output_type": "stream",
     "text": [
      "<class 'pandas.core.frame.DataFrame'>\n",
      "RangeIndex: 1970258 entries, 0 to 1970257\n",
      "Data columns (total 21 columns):\n",
      " #   Column                   Dtype         \n",
      "---  ------                   -----         \n",
      " 0   created_at               datetime64[ns]\n",
      " 1   id                       int64         \n",
      " 2   full_text                object        \n",
      " 3   truncated                bool          \n",
      " 4   in_reply_to_screen_name  object        \n",
      " 5   is_quote_status          bool          \n",
      " 6   retweet_count            int64         \n",
      " 7   favorite_count           int64         \n",
      " 8   lang                     object        \n",
      " 9   retweeted_status         object        \n",
      " 10  names                    object        \n",
      " 11  screen_names             object        \n",
      " 12  locations                object        \n",
      " 13  follower_counts          int64         \n",
      " 14  user_created_at          object        \n",
      " 15  verified                 bool          \n",
      " 16  statuses_counts          int64         \n",
      " 17  location                 object        \n",
      " 18  country                  object        \n",
      " 19  hashtags                 object        \n",
      " 20  withheld_in_countries    object        \n",
      "dtypes: bool(3), datetime64[ns](1), int64(5), object(12)\n",
      "memory usage: 276.2+ MB\n"
     ]
    }
   ],
   "source": [
    "# verify import\n",
    "tweets.info()"
   ]
  },
  {
   "cell_type": "code",
   "execution_count": 4,
   "id": "interpreted-mitchell",
   "metadata": {},
   "outputs": [
    {
     "data": {
      "text/plain": [
       "created_at                       0\n",
       "id                               0\n",
       "full_text                        0\n",
       "truncated                        0\n",
       "in_reply_to_screen_name    1525932\n",
       "is_quote_status                  0\n",
       "retweet_count                    0\n",
       "favorite_count                   0\n",
       "lang                             0\n",
       "retweeted_status           1970258\n",
       "names                            0\n",
       "screen_names                     0\n",
       "locations                        0\n",
       "follower_counts                  0\n",
       "user_created_at                  0\n",
       "verified                         0\n",
       "statuses_counts                  0\n",
       "location                   1889581\n",
       "country                    1889581\n",
       "hashtags                   1234431\n",
       "withheld_in_countries      1970213\n",
       "dtype: int64"
      ]
     },
     "execution_count": 4,
     "metadata": {},
     "output_type": "execute_result"
    }
   ],
   "source": [
    "# look at missing values\n",
    "tweets.isna().sum()"
   ]
  },
  {
   "cell_type": "code",
   "execution_count": 5,
   "id": "acute-temperature",
   "metadata": {},
   "outputs": [],
   "source": [
    "denier_sup['date'] = pd.to_datetime(denier_sup['date'])\n",
    "denier_sup.columns = ['created_at', 'screen_names', 'names', 'full_text', 'retweeted_status', \n",
    "                      'hashtags', 'nlikes', 'search']"
   ]
  },
  {
   "cell_type": "markdown",
   "id": "naughty-sunset",
   "metadata": {},
   "source": [
    "## Prepare Data for Modeling\n",
    "\n",
    "First, ground truth must be determined. To do this, hashtags are examined and parsed to find ones that clearly indicate a person's view on climate change. Then all tweets containing those tweets are labeled and prepared for modeling"
   ]
  },
  {
   "cell_type": "code",
   "execution_count": 6,
   "id": "rubber-departure",
   "metadata": {},
   "outputs": [],
   "source": [
    "# subset data that contains hashtags\n",
    "df = tweets.dropna(subset=['hashtags'])"
   ]
  },
  {
   "cell_type": "code",
   "execution_count": 7,
   "id": "celtic-diploma",
   "metadata": {},
   "outputs": [],
   "source": [
    "# create a list of all hashtags\n",
    "\n",
    "hashtags_all = []\n",
    "for row in df['hashtags']:\n",
    "    for item in row:\n",
    "        hashtags_all.append(item.lower())"
   ]
  },
  {
   "cell_type": "code",
   "execution_count": 8,
   "id": "relevant-vienna",
   "metadata": {},
   "outputs": [
    {
     "name": "stdout",
     "output_type": "stream",
     "text": [
      "['climatechange', 'globalwarming', 'climateaction', 'environment', 'climate']\n"
     ]
    }
   ],
   "source": [
    "# see hashtag count and sort by frequency\n",
    "unique_hashtags = list(pd.Series(hashtags_all).value_counts().index)\n",
    "# view top 5 for reference\n",
    "print(unique_hashtags[:5])"
   ]
  },
  {
   "cell_type": "markdown",
   "id": "scientific-chancellor",
   "metadata": {},
   "source": [
    "After spending some time sifting through the tweets and their hashtags, these are some of the most common and most defininitively classifying hastags: "
   ]
  },
  {
   "cell_type": "code",
   "execution_count": 9,
   "id": "egyptian-visitor",
   "metadata": {},
   "outputs": [],
   "source": [
    "# most common tags associated with sample of tweets presenting climate denial\n",
    "denier_tags = ['climatechangeisfalse', 'climatechangenotreal', 'climatechangehoax', \n",
    "               'globalwarminghoax', 'tcot', 'ccot', 'tlot', 'pjnet', 'rednationrising', 'votered', \n",
    "               'libtard', 'libtards', 'maga']\n",
    "\n",
    "# most common tags associated with sample of tweets indicating belief in climate science\n",
    "believer_tags = ['climatechangeisreal', 'actonclimate', 'extinctionrebellion', 'climateemergency', \n",
    "                 'climateactionnow', 'capitalism', 'public_health', 'climateaction', 'humanityextinction',\n",
    "                 'activism', 'noplanetb', 'savetheplanet']"
   ]
  },
  {
   "cell_type": "markdown",
   "id": "supreme-bicycle",
   "metadata": {},
   "source": [
    "Loop through the datset and look for matching hashtags to the believer and denier hashtag set then create a list to be appended to the dataframe containing the order of believer positive and believer negative cases."
   ]
  },
  {
   "cell_type": "code",
   "execution_count": 10,
   "id": "ultimate-vitamin",
   "metadata": {
    "scrolled": true
   },
   "outputs": [],
   "source": [
    "# assign believer status to each row in the dataset\n",
    "believe_series = []\n",
    "for idx, row in df['hashtags'].iteritems():\n",
    "    # set a count for matching tags in row\n",
    "    believe = 0\n",
    "    deny = 0 \n",
    "    for tag in row:\n",
    "        if tag.lower() in denier_tags:\n",
    "            deny += 1\n",
    "        elif tag.lower() in believer_tags:\n",
    "            believe += 1\n",
    "    \n",
    "    # check that only one type of tag appears\n",
    "    if (believe > 0) and (deny == 0):\n",
    "        believe_series.append(1)\n",
    "    elif (believe == 0) and (deny > 0):\n",
    "        believe_series.append(0)\n",
    "    else: # <-- if no matching tag OR if both appear, label as unknown using nonetype \n",
    "        believe_series.append(None)"
   ]
  },
  {
   "cell_type": "markdown",
   "id": "collected-married",
   "metadata": {},
   "source": [
    "### Add believer status to DataFrame"
   ]
  },
  {
   "cell_type": "code",
   "execution_count": 11,
   "id": "respective-prague",
   "metadata": {},
   "outputs": [],
   "source": [
    "# create column in dataframe for the believer_series\n",
    "df = df.assign(believer = believe_series)"
   ]
  },
  {
   "cell_type": "code",
   "execution_count": 12,
   "id": "altered-nigeria",
   "metadata": {},
   "outputs": [],
   "source": [
    "# create column in dataframe for the supplemental denier data\n",
    "denier_sup['believer'] = 0"
   ]
  },
  {
   "cell_type": "code",
   "execution_count": 13,
   "id": "demographic-record",
   "metadata": {},
   "outputs": [],
   "source": [
    "# subset dataframe to only include positive and negative cases\n",
    "to_train = df.dropna(subset=['believer'])"
   ]
  },
  {
   "cell_type": "markdown",
   "id": "adaptive-burning",
   "metadata": {},
   "source": []
  },
  {
   "cell_type": "markdown",
   "id": "random-return",
   "metadata": {},
   "source": [
    "### Create function to prep text for NLP processing\n",
    "\n",
    "Remove emojis, unwanted character types, hashtags, usernames, and URLs. Remove line breaks and extra spaces\n",
    "\n",
    "Then create function to lemmatize then rejoin text, a function to combine cleaning and lemmatizing, and a function to perform a quality check"
   ]
  },
  {
   "cell_type": "code",
   "execution_count": 14,
   "id": "painted-seven",
   "metadata": {},
   "outputs": [],
   "source": [
    "def re_clean(tweet):\n",
    "    '''\n",
    "    takes the text of a tweet and returns a cleaned string ready for tokenization and lemmatization \n",
    "    '''\n",
    "    # remove emojis\n",
    "    emoji = re.compile(pattern = \"[\"\n",
    "        u\"\\U0001F600-\\U0001F64F\"  # emoticons\n",
    "        u\"\\U0001F300-\\U0001F5FF\"  # symbols & pictographs\n",
    "        u\"\\U0001F680-\\U0001F6FF\"  # transport & map symbols\n",
    "        u\"\\U0001F1E0-\\U0001F1FF\"  # flags (iOS)\n",
    "                           \"]+\", flags = re.UNICODE)\n",
    "    tweet = emoji.sub('', tweet)\n",
    "    # regex cleaning\n",
    "    tweet = tweet.lower()\n",
    "    tweet = re.sub(r'[@][\\w]+','', tweet) # <-- remove usernames\n",
    "    tweet = re.sub(r'[#]','', tweet) # <-- remove hashtags \n",
    "    tweet = re.sub(r'http[s]?://(?:[a-zA-Z]|[0-9]|[$-_@.&+]|[!*\\(\\),]|(?:%[0-9a-fA-F][0-9a-fA-F]))+', '', tweet) # <-- remove urls\n",
    "    tweet = re.sub(r'(?:^| )\\w(?:$| )', ' ', tweet) # <-- remove one letter words\n",
    "    tweet = re.sub(r'\\s{2,15}', ' ', tweet) # <-- remove extra blank spaces\n",
    "    tweet = re.sub(r'\\n', ' ', tweet)  # <-- remove line breaks\n",
    "    tweet = re.sub(r'\\s{2,15}', ' ', tweet) # <-- combine multiple space again \n",
    "    return tweet.strip() # <-- remove lingering spaces at the start and end of tweets"
   ]
  },
  {
   "cell_type": "code",
   "execution_count": 15,
   "id": "legitimate-armenia",
   "metadata": {},
   "outputs": [],
   "source": [
    "# Instantiate nltk lemmatizer\n",
    "lemmatizer = WordNetLemmatizer()\n",
    "\n",
    "# create stop word list from default list, punctuation, and hashtags used to create classifcation params\n",
    "stopwords_list = stopwords.words('english') + (list(string.punctuation) + \n",
    "                                               denier_tags + believer_tags + unique_hashtags[:100])\n",
    "def lemm(tweet):\n",
    "    '''\n",
    "    lemmatizes a sentence and returns string ready to be vectorized\n",
    "    '''\n",
    "    # tokenize, lemmatize\n",
    "    tok = nltk.regexp_tokenize(tweet, r\"([a-zA-Z]+(?:'[a-z]+)?)\")\n",
    "    lemma = [lemmatizer.lemmatize(token) for token in tok]\n",
    "    # return combined string \n",
    "    return ' '.join(lemma)"
   ]
  },
  {
   "cell_type": "code",
   "execution_count": 16,
   "id": "ignored-valuation",
   "metadata": {},
   "outputs": [],
   "source": [
    "def clean_and_lem(tweet):\n",
    "    '''\n",
    "    clean then lammatize tweet\n",
    "    '''\n",
    "    return lemm(re_clean(tweet))\n",
    "\n",
    "def tok(tweet):\n",
    "    return nltk.regexp_tokenize(tweet, r\"([a-zA-Z]+(?:'[a-z]+)?)\")"
   ]
  },
  {
   "cell_type": "code",
   "execution_count": 17,
   "id": "incorporated-korea",
   "metadata": {
    "scrolled": true
   },
   "outputs": [
    {
     "name": "stdout",
     "output_type": "stream",
     "text": [
      "ORIGINAL: \n",
      "Why Climate Change Increases The Risk Of Violent Conflicts: \n",
      "https://t.co/axNsqeUi99\n",
      "#climatechange #climateaction \n",
      "#environment \n",
      "#energy https://t.co/WFPWwjNVZ5 \n",
      "\n",
      "CLEANED: \n",
      "why climate change increase the risk of violent conflict climatechange climateaction environment energy\n"
     ]
    }
   ],
   "source": [
    "# create function to compare original text to cleaned text \n",
    "def check_cleaned(df, n = None):\n",
    "    '''\n",
    "    sanity check function. Look at cleaned text for edge case detection.\n",
    "    '''\n",
    "    if not n:\n",
    "        n = np.random.randint(0, len(df) - 1)\n",
    "    print(f\"ORIGINAL: \\n{df.iloc[n]['full_text']} \\n\")\n",
    "    print(f\"CLEANED: \\n{clean_and_lem(df.iloc[n]['full_text'])}\")\n",
    "    \n",
    "check_cleaned(to_train)"
   ]
  },
  {
   "cell_type": "markdown",
   "id": "armed-intent",
   "metadata": {},
   "source": [
    "###### Prepare Dataset for modeling\n",
    "\n",
    "Combine dataset with supplemental denial data, reset the index, and drop extra index column, then clean and lemmatize"
   ]
  },
  {
   "cell_type": "code",
   "execution_count": 81,
   "id": "resistant-baking",
   "metadata": {},
   "outputs": [],
   "source": [
    "X = to_train['full_text'].combine_first(denier_sup['full_text']).reset_index()\n",
    "X = X.drop(columns='index')['full_text']\n",
    "X = X.map(clean_and_lem)"
   ]
  },
  {
   "cell_type": "code",
   "execution_count": 82,
   "id": "upset-brick",
   "metadata": {},
   "outputs": [],
   "source": [
    "# create target variable on combined dataset and supplemental denial data\n",
    "y = to_train['believer'].combine_first(denier_sup['believer'])\n",
    "y = y.reset_index().drop(columns='index')['believer']"
   ]
  },
  {
   "cell_type": "markdown",
   "id": "scenic-torture",
   "metadata": {},
   "source": [
    "## TF-IDF Vectorizer Modeling"
   ]
  },
  {
   "cell_type": "code",
   "execution_count": 89,
   "id": "ultimate-horse",
   "metadata": {},
   "outputs": [],
   "source": [
    "# train test split with stratification to account for class imbalance\n",
    "X_train, X_test, y_train, y_test = train_test_split(X, y, stratify=y, random_state=42)\n",
    "\n",
    "vectorizer = TfidfVectorizer(stop_words=stopwords_list, ngram_range=(1,2), max_df = 0.9)\n",
    "\n",
    "X_tfidf_train = vectorizer.fit_transform(X_train)\n",
    "X_tfidf_test = vectorizer.transform(X_test)"
   ]
  },
  {
   "cell_type": "code",
   "execution_count": 101,
   "id": "accomplished-satisfaction",
   "metadata": {},
   "outputs": [],
   "source": [
    "pickle_sandwich = (X_tfidf_train, X_tfidf_test, y, y_train, y_test)\n",
    "pickle_out = open('data/pickle_jar/X_tfidf.pkl', 'wb')\n",
    "pickle.dump(pickle_sandwich, pickle_out)\n",
    "pickle_out.close()"
   ]
  },
  {
   "cell_type": "code",
   "execution_count": 98,
   "id": "demanding-spyware",
   "metadata": {},
   "outputs": [],
   "source": [
    "# pickle_in = open('data/pickle_jar/X_tfidf.pkl', 'rb')\n",
    "# X_tfidf_train, X_tfidf_test, y, y_train, y_test = pickle.load(pickle_in)\n",
    "# pickle_in.close()"
   ]
  },
  {
   "cell_type": "code",
   "execution_count": 84,
   "id": "meaningful-receiver",
   "metadata": {},
   "outputs": [],
   "source": [
    "# create dictionary holding class imbalnce\n",
    "class_weights = dict(y.value_counts(normalize=True))"
   ]
  },
  {
   "cell_type": "code",
   "execution_count": 88,
   "id": "front-transportation",
   "metadata": {},
   "outputs": [],
   "source": [
    "# create grid search parameters\n",
    "rfc_grid_params =  {'n_estimators': [100, 450, 800],\n",
    "                    'criterion': ['gini', 'entropy'],\n",
    "                    'max_depth': [None, 6, 10],\n",
    "                    'class_weight': [class_weights]}\n",
    "\n",
    "lr1_grid_params = {'C': [1, 1e3, 1e7, 1e12],\n",
    "                   'penalty': ['l1', 'elasticnet'],\n",
    "                   'solver': ['saga'],\n",
    "                   'class_weight': [class_weights]}\n",
    "\n",
    "lr2_grid_params = {'C': [1, 1e3, 1e7, 1e12],\n",
    "                   'penalty': ['l2', 'none'],\n",
    "                   'solver': ['sag'],\n",
    "                   'class_weight': [class_weights]}\n",
    "\n",
    "gbt_grid_params = {'learning_rate': [0.001, 0.1, 1]}"
   ]
  },
  {
   "cell_type": "code",
   "execution_count": null,
   "id": "christian-february",
   "metadata": {},
   "outputs": [],
   "source": [
    "# Instantiate gridsearch object \n",
    "lr1_grid = GridSearchCV(LogisticRegression(random_state=42), param_grid=lr1_grid_params, cv=3 n_jobs = -1)\n",
    "# fit to training set\n",
    "lr1_grid.fit(X_tfidf_train, y_train)\n",
    "\n",
    "pickle_out = open('data/pickle_jar/lr1_grid', 'wb')\n",
    "pickle.dump(lr1_grid, pickle_out)\n",
    "pickle_out.close()"
   ]
  },
  {
   "cell_type": "code",
   "execution_count": null,
   "id": "intimate-treat",
   "metadata": {},
   "outputs": [],
   "source": [
    "# Instantiate gridsearch object \n",
    "lr2_grid = GridSearchCV(LogisticRegression(random_state=42), param_grid=lr2_grid_params, cv=3 n_jobs = -1)\n",
    "# fit to training set\n",
    "lr2_grid.fit(X_tfidf_train, y_train)\n",
    "\n",
    "pickle_out = open('data/pickle_jar/lr2_grid', 'wb')\n",
    "pickle.dump(lr2_grid, pickle_out)\n",
    "pickle_out.close()"
   ]
  },
  {
   "cell_type": "code",
   "execution_count": null,
   "id": "plastic-rendering",
   "metadata": {},
   "outputs": [],
   "source": [
    "# Instantiate gridsearch object \n",
    "gbt_grid = GridSearchCV(HistGradientBoostingClassifier(random_state=42), param_grid=gbt_grid_params, cv=3 n_jobs = -1)\n",
    "# fit to training set\n",
    "gbt_grid.fit(X_tfidf_train, y_train)\n",
    "\n",
    "pickle_out = open('data/pickle_jar/gbt_grid', 'wb')\n",
    "pickle.dump(gbt_grid, pickle_out)\n",
    "pickle_out.close()"
   ]
  },
  {
   "cell_type": "code",
   "execution_count": 32,
   "id": "occasional-lease",
   "metadata": {},
   "outputs": [
    {
     "data": {
      "text/plain": [
       "GridSearchCV(estimator=Pipeline(steps=[('tfidf',\n",
       "                                        TfidfVectorizer(stop_words=['i', 'me',\n",
       "                                                                    'my',\n",
       "                                                                    'myself',\n",
       "                                                                    'we', 'our',\n",
       "                                                                    'ours',\n",
       "                                                                    'ourselves',\n",
       "                                                                    'you',\n",
       "                                                                    \"you're\",\n",
       "                                                                    \"you've\",\n",
       "                                                                    \"you'll\",\n",
       "                                                                    \"you'd\",\n",
       "                                                                    'your',\n",
       "                                                                    'yours',\n",
       "                                                                    'yourself',\n",
       "                                                                    'yourselves',\n",
       "                                                                    'he', 'him',\n",
       "                                                                    'his',\n",
       "                                                                    'himself',\n",
       "                                                                    'she',\n",
       "                                                                    \"she's\",\n",
       "                                                                    'her',\n",
       "                                                                    'hers',\n",
       "                                                                    'herself',\n",
       "                                                                    'it',\n",
       "                                                                    \"it's\",\n",
       "                                                                    'its',\n",
       "                                                                    'itself', ...])),\n",
       "                                       ('clf',\n",
       "                                        RandomForestClassifier(class_weight={0.0: 0.2040640823195368,\n",
       "                                                                             1.0: 0.7959359176804632}))]),\n",
       "             n_jobs=-1, param_grid={'clf__n_estimators': [100]})"
      ]
     },
     "execution_count": 32,
     "metadata": {},
     "output_type": "execute_result"
    }
   ],
   "source": [
    "# Instantiate gridsearch object \n",
    "rfc_grid = GridSearchCV(RandomForestClassifier(random_state=42), param_grid=rfc_grid_params, cv=3 n_jobs = -1)\n",
    "# fit to training set\n",
    "rfc_grid.fit(X_tfidf_train, y_train)\n",
    "\n",
    "pickle_out = open('data/pickle_jar/rfc_grid', 'wb')\n",
    "pickle.dump(rfc_grid, pickle_out)\n",
    "pickle_out.close()"
   ]
  },
  {
   "cell_type": "code",
   "execution_count": 34,
   "id": "concrete-logging",
   "metadata": {},
   "outputs": [
    {
     "data": {
      "text/plain": [
       "{'clf__n_estimators': 100}"
      ]
     },
     "execution_count": 34,
     "metadata": {},
     "output_type": "execute_result"
    }
   ],
   "source": [
    "rf_gridsearch.best_params_"
   ]
  },
  {
   "cell_type": "code",
   "execution_count": 35,
   "id": "plastic-classic",
   "metadata": {},
   "outputs": [
    {
     "data": {
      "text/plain": [
       "0.9127894908519408"
      ]
     },
     "execution_count": 35,
     "metadata": {},
     "output_type": "execute_result"
    }
   ],
   "source": [
    "# show pipeline accuracy score for best parameters\n",
    "rf_gridsearch.score(X_test, y_test)"
   ]
  },
  {
   "cell_type": "code",
   "execution_count": 36,
   "id": "alternative-dallas",
   "metadata": {},
   "outputs": [],
   "source": [
    "# generate predictions \n",
    "y_pred_train = rf_gridsearch.predict(X_train)\n",
    "y_pred = rf_gridsearch.predict(X_test)"
   ]
  },
  {
   "cell_type": "code",
   "execution_count": 37,
   "id": "incorporated-gibson",
   "metadata": {},
   "outputs": [
    {
     "name": "stdout",
     "output_type": "stream",
     "text": [
      "Train Accuracy: 0.9692\n",
      "Train F1 Score: 0.981\n",
      "------------------------------\n",
      "Test Accuracy:  0.9128\n",
      "Test F1 Score:  0.9472\n"
     ]
    }
   ],
   "source": [
    "# compare F1 and Accuracy scores to check for overfitting \n",
    "print(f'Train Accuracy: {round(accuracy_score(y_train, y_pred_train), 4)}')\n",
    "print(f'Train F1 Score: {round(f1_score(y_train, y_pred_train), 4)}')\n",
    "print('-----'*6)\n",
    "print(f'Test Accuracy:  {round(accuracy_score(y_test, y_pred), 4)}')\n",
    "print(f'Test F1 Score:  {round(f1_score(y_test, y_pred), 4)}')"
   ]
  },
  {
   "cell_type": "code",
   "execution_count": 47,
   "id": "relative-coupon",
   "metadata": {},
   "outputs": [
    {
     "data": {
      "image/png": "[encoded data removed]",
      "text/plain": [
       "<Figure size 432x288 with 2 Axes>"
      ]
     },
     "metadata": {
      "needs_background": "light"
     },
     "output_type": "display_data"
    }
   ],
   "source": [
    "# visualize confusion matrix for test data\n",
    "con_mat = confusion_matrix(y_test, y_pred)\n",
    "\n",
    "ConfusionMatrixDisplay(con_mat, display_labels=['denier', 'believer']).plot()\n",
    "plt.grid(b=None)\n",
    "plt.show()"
   ]
  },
  {
   "cell_type": "markdown",
   "id": "assured-discrimination",
   "metadata": {},
   "source": [
    "#### Logreg Gridsearch"
   ]
  },
  {
   "cell_type": "code",
   "execution_count": null,
   "id": "rolled-electron",
   "metadata": {},
   "outputs": [],
   "source": [
    "# Instantiate gridsearch object \n",
    "lr_gridsearch = GridSearchCV(lr_pipeline, param_grid=lr_grid_par, cv=3, n_jobs = -1)\n",
    "# fit to training set\n",
    "lr_gridsearch.fit(X_train, y_train)"
   ]
  },
  {
   "cell_type": "code",
   "execution_count": null,
   "id": "adaptive-potato",
   "metadata": {},
   "outputs": [],
   "source": [
    "lr_gridsearch.best_params_"
   ]
  },
  {
   "cell_type": "code",
   "execution_count": null,
   "id": "apart-suggestion",
   "metadata": {},
   "outputs": [],
   "source": [
    "# show pipeline accuracy score for best parameters\n",
    "lr_gridsearch.score(X_test, y_test)"
   ]
  },
  {
   "cell_type": "code",
   "execution_count": null,
   "id": "ultimate-reviewer",
   "metadata": {},
   "outputs": [],
   "source": [
    "# generate predictions \n",
    "y_pred_train2 = lr_gridsearch.predict(X_train)\n",
    "y_pred2 = lr_gridsearch.predict(X_test)"
   ]
  },
  {
   "cell_type": "code",
   "execution_count": null,
   "id": "smooth-signature",
   "metadata": {},
   "outputs": [],
   "source": [
    "# compare F1 and Accuracy scores to check for overfitting \n",
    "print(f'Train Accuracy: {round(accuracy_score(y_train, y_pred_train2), 4)}')\n",
    "print(f'Train F1 Score: {round(f1_score(y_train, y_pred_train2), 4)}')\n",
    "print('-----'*6)\n",
    "print(f'Test Accuracy:  {round(accuracy_score(y_test, y_pred2), 4)}')\n",
    "print(f'Test F1 Score:  {round(f1_score(y_test, y_pred2), 4)}')"
   ]
  },
  {
   "cell_type": "code",
   "execution_count": null,
   "id": "specified-limit",
   "metadata": {},
   "outputs": [],
   "source": [
    "# visualize confusion matrix for test data\n",
    "con_mat = confusion_matrix(y_test, y_pred2)\n",
    "display = ConfusionMatrixDisplay(con_mat, display_labels=['denier', 'believer']).plot()"
   ]
  },
  {
   "cell_type": "markdown",
   "id": "cognitive-parks",
   "metadata": {},
   "source": [
    "\n",
    "# Test on external dataset\n",
    "\n",
    "A dataset from kaggle with labeled tweets as climate deniers or believers is imported for further validation of model\n",
    "\n",
    "https://www.kaggle.com/edqian/twitter-climate-change-sentiment-dataset"
   ]
  },
  {
   "cell_type": "code",
   "execution_count": 25,
   "id": "functioning-adaptation",
   "metadata": {},
   "outputs": [],
   "source": [
    "val_df = pd.read_csv('data/twitter_sentiment_data.csv')"
   ]
  },
  {
   "cell_type": "code",
   "execution_count": 26,
   "id": "black-stadium",
   "metadata": {},
   "outputs": [],
   "source": [
    "# re-map sentiment array to match existing model\n",
    "\n",
    "cond_list = [val_df['sentiment'] == -1, \n",
    "             val_df['sentiment'] == 0,\n",
    "             val_df['sentiment'] == 1,\n",
    "             val_df['sentiment'] == 2]\n",
    "\n",
    "choice_list = [0, None, val_df['sentiment'], None]\n",
    "\n",
    "val_df['sentiment'] = np.select(cond_list, choice_list, 10)"
   ]
  },
  {
   "cell_type": "code",
   "execution_count": 27,
   "id": "alpha-johnson",
   "metadata": {},
   "outputs": [
    {
     "data": {
      "text/plain": [
       "1    22962\n",
       "0     3990\n",
       "Name: sentiment, dtype: int64"
      ]
     },
     "execution_count": 27,
     "metadata": {},
     "output_type": "execute_result"
    }
   ],
   "source": [
    "# check for errors\n",
    "val_df['sentiment'].value_counts()"
   ]
  },
  {
   "cell_type": "code",
   "execution_count": 28,
   "id": "funky-printer",
   "metadata": {},
   "outputs": [],
   "source": [
    "# check for matching tweets across datasets\n",
    "count = 0\n",
    "for id_ in val_df['tweetid']:\n",
    "    if id_ in tweets['id']:\n",
    "        count += 1\n",
    "        print(id_)"
   ]
  },
  {
   "cell_type": "code",
   "execution_count": 29,
   "id": "color-russia",
   "metadata": {
    "scrolled": true
   },
   "outputs": [],
   "source": [
    "# remove rows without usable ground truth\n",
    "val_df_sub = val_df.dropna(subset = ['sentiment'])\n",
    "\n",
    "# remove retweets\n",
    "val_df_sub = val_df_sub[~val_df_sub['message'].str.startswith('RT ')]"
   ]
  },
  {
   "cell_type": "code",
   "execution_count": 30,
   "id": "nominated-joint",
   "metadata": {},
   "outputs": [],
   "source": [
    "# clean tweets\n",
    "val_processed_text = val_df_sub['message'].apply(lambda x: clean_and_lem(x))"
   ]
  },
  {
   "cell_type": "code",
   "execution_count": 31,
   "id": "experienced-impression",
   "metadata": {},
   "outputs": [],
   "source": [
    "# make predictions on validation data\n",
    "val_predict = rf_gridsearch.predict(val_processed_text)\n",
    "y = val_df_sub['sentiment'].astype(int)"
   ]
  },
  {
   "cell_type": "code",
   "execution_count": 32,
   "id": "environmental-grain",
   "metadata": {},
   "outputs": [
    {
     "name": "stdout",
     "output_type": "stream",
     "text": [
      "Accuracy Score :      0.8241\n",
      "Validation F1 Score : 0.8939\n"
     ]
    },
    {
     "data": {
      "image/png": "[encoded data removed]",
      "text/plain": [
       "<Figure size 432x288 with 2 Axes>"
      ]
     },
     "metadata": {
      "needs_background": "light"
     },
     "output_type": "display_data"
    }
   ],
   "source": [
    "print(f\"Accuracy Score :      {round(accuracy_score(y, val_predict), 4)}\")\n",
    "print(f\"Validation F1 Score : {round(f1_score(y, val_predict), 4)}\")\n",
    "\n",
    "ConfusionMatrixDisplay(confusion_matrix(y, val_predict), display_labels=['denier', 'believer']).plot()\n",
    "plt.grid(b=None)\n",
    "plt.show()"
   ]
  },
  {
   "cell_type": "markdown",
   "id": "conditional-float",
   "metadata": {},
   "source": [
    "## Apply Classifier to remainder dataset\n",
    "\n",
    "Run the entire dataset through the gridsearch pipeline to make predictions on each tweet"
   ]
  },
  {
   "cell_type": "code",
   "execution_count": 33,
   "id": "crude-developer",
   "metadata": {},
   "outputs": [],
   "source": [
    "# remove irrelevant response tweets\n",
    "tweets_final = tweets[tweets['in_reply_to_screen_name'].isna()]"
   ]
  },
  {
   "cell_type": "code",
   "execution_count": 34,
   "id": "stupid-mounting",
   "metadata": {},
   "outputs": [
    {
     "name": "stderr",
     "output_type": "stream",
     "text": [
      "/Users/browz/opt/anaconda3/envs/ds01/lib/python3.6/site-packages/ipykernel_launcher.py:2: SettingWithCopyWarning: \n",
      "A value is trying to be set on a copy of a slice from a DataFrame.\n",
      "Try using .loc[row_indexer,col_indexer] = value instead\n",
      "\n",
      "See the caveats in the documentation: https://pandas.pydata.org/pandas-docs/stable/user_guide/indexing.html#returning-a-view-versus-a-copy\n",
      "  \n"
     ]
    }
   ],
   "source": [
    "# prepare tweets for model\n",
    "tweets_final['clean_text'] = tweets_final['full_text'].apply(lambda x: clean_and_lem(x)) \n",
    "tweets_final = tweets_final[tweets_final.clean_text.str.strip() != '']\n",
    "tweets_final = tweets_final[tweets_final.clean_text.str.strip() != ' ']\n",
    "# run text through model\n",
    "tweets_final['believer_pred'] = rf_gridsearch.predict(tweets_final['clean_text'])"
   ]
  },
  {
   "cell_type": "code",
   "execution_count": 35,
   "id": "proof-twelve",
   "metadata": {},
   "outputs": [
    {
     "data": {
      "text/plain": [
       "1.0    0.931688\n",
       "0.0    0.068312\n",
       "Name: believer_pred, dtype: float64"
      ]
     },
     "execution_count": 35,
     "metadata": {},
     "output_type": "execute_result"
    }
   ],
   "source": [
    "tweets_final['believer_pred'].value_counts(normalize=True)"
   ]
  },
  {
   "cell_type": "code",
   "execution_count": null,
   "id": "sixth-universal",
   "metadata": {},
   "outputs": [],
   "source": []
  },
  {
   "cell_type": "code",
   "execution_count": 36,
   "id": "indonesian-lighter",
   "metadata": {},
   "outputs": [],
   "source": [
    "# sanity check on predictions\n",
    "def check_pred(df, n=None):\n",
    "    if n == None:\n",
    "        n = np.random.randint(0,len(df)-1)\n",
    "    print(df.iloc[n]['full_text'], '\\n', df.iloc[n]['believer_pred'])\n",
    "    print(f'https://twitter.com/{df.iloc[n][\"screen_names\"]}/status/{df.iloc[n][\"id\"]}')"
   ]
  },
  {
   "cell_type": "code",
   "execution_count": 37,
   "id": "corrected-abuse",
   "metadata": {},
   "outputs": [
    {
     "name": "stdout",
     "output_type": "stream",
     "text": [
      "Ayo Mueller man, where are you? These Hollywood niggas got you looking funny in the light. Pull up! https://t.co/6SrmAvjZbG \n",
      " 0.0\n",
      "https://twitter.com/Lady_RHOalye/status/1026982347487498245\n"
     ]
    }
   ],
   "source": [
    "check_pred(tweets_final[tweets_final['believer_pred']==0])"
   ]
  },
  {
   "cell_type": "markdown",
   "id": "brutal-liberal",
   "metadata": {},
   "source": [
    "# Sentiment Analysis"
   ]
  },
  {
   "cell_type": "code",
   "execution_count": 38,
   "id": "identified-scientist",
   "metadata": {},
   "outputs": [],
   "source": [
    "def sentiment_score(sentence): \n",
    "  \n",
    "    # Instntiate SentimentIntensityAnalyzer object\n",
    "    sid_obj = SentimentIntensityAnalyzer() \n",
    "  \n",
    "    # store scoring data in dictionary  \n",
    "    sentiment_dict = sid_obj.polarity_scores(sentence) \n",
    "    \n",
    "    return sentiment_dict['compound']"
   ]
  },
  {
   "cell_type": "code",
   "execution_count": 39,
   "id": "clinical-brass",
   "metadata": {},
   "outputs": [],
   "source": [
    "sentiment = to_train['full_text'].apply(lambda x: sentiment_score(x))"
   ]
  },
  {
   "cell_type": "code",
   "execution_count": 40,
   "id": "indian-kenya",
   "metadata": {},
   "outputs": [],
   "source": [
    "to_train = to_train.assign(sent = sentiment)"
   ]
  },
  {
   "cell_type": "code",
   "execution_count": 41,
   "id": "median-viewer",
   "metadata": {},
   "outputs": [
    {
     "data": {
      "text/plain": [
       "believer\n",
       "0.0   -0.023605\n",
       "1.0    0.060709\n",
       "Name: sent, dtype: float64"
      ]
     },
     "execution_count": 41,
     "metadata": {},
     "output_type": "execute_result"
    }
   ],
   "source": [
    "to_train.groupby(['believer'])['sent'].mean()"
   ]
  },
  {
   "cell_type": "code",
   "execution_count": 42,
   "id": "based-opera",
   "metadata": {},
   "outputs": [],
   "source": [
    "sent_df = to_train[to_train['sent'] != 0].copy()\n",
    "sent_df['sent'] = sent_df['sent'].multiply(100)"
   ]
  },
  {
   "cell_type": "code",
   "execution_count": 43,
   "id": "sufficient-ranch",
   "metadata": {},
   "outputs": [],
   "source": [
    "conditions = [sent_df['sent'].isin(range(-100,-50)),\n",
    "              sent_df['sent'].isin(range(-50, 0)),\n",
    "              sent_df['sent'].isin(range(0, 50)),\n",
    "              sent_df['sent'].isin(range(50, 100))]\n",
    "\n",
    "choices =[-2,-1,0,1]\n",
    "\n",
    "sent_df['sent_cat'] = np.select(condlist=conditions, choicelist=choices)"
   ]
  },
  {
   "cell_type": "code",
   "execution_count": 44,
   "id": "respected-leisure",
   "metadata": {},
   "outputs": [
    {
     "data": {
      "text/plain": [
       " 0    70797\n",
       "-1     1418\n",
       " 1      182\n",
       "-2       92\n",
       "Name: sent_cat, dtype: int64"
      ]
     },
     "execution_count": 44,
     "metadata": {},
     "output_type": "execute_result"
    }
   ],
   "source": [
    "sent_df['sent_cat'].value_counts()"
   ]
  },
  {
   "cell_type": "code",
   "execution_count": 45,
   "id": "expressed-security",
   "metadata": {},
   "outputs": [
    {
     "data": {
      "text/plain": [
       "3"
      ]
     },
     "execution_count": 45,
     "metadata": {},
     "output_type": "execute_result"
    }
   ],
   "source": [
    "3"
   ]
  },
  {
   "cell_type": "code",
   "execution_count": 50,
   "id": "educational-nursery",
   "metadata": {},
   "outputs": [
    {
     "name": "stderr",
     "output_type": "stream",
     "text": [
      "/Users/browz/opt/anaconda3/envs/ds01/lib/python3.6/site-packages/seaborn/_decorators.py:43: FutureWarning: Pass the following variable as a keyword arg: x. From version 0.12, the only valid positional argument will be `data`, and passing other arguments without an explicit keyword will result in an error or misinterpretation.\n",
      "  FutureWarning\n"
     ]
    },
    {
     "data": {
      "image/png": "[encoded data removed]",
      "text/plain": [
       "<Figure size 288x216 with 1 Axes>"
      ]
     },
     "metadata": {
      "needs_background": "light"
     },
     "output_type": "display_data"
    }
   ],
   "source": [
    "plt.figure(figsize=(4,3))\n",
    "sns.countplot(sent_df['sent_cat'])\n",
    "plt.title('Sentiment for all Tweets')\n",
    "plt.show()"
   ]
  },
  {
   "cell_type": "code",
   "execution_count": 75,
   "id": "spread-raising",
   "metadata": {},
   "outputs": [
    {
     "data": {
      "text/plain": [
       "sent_cat  believer\n",
       "-2        0.0             8\n",
       "          1.0            84\n",
       "-1        0.0            95\n",
       "          1.0          1323\n",
       " 0        0.0          3338\n",
       "          1.0         67459\n",
       " 1        0.0             3\n",
       "          1.0           179\n",
       "Name: created_at, dtype: int64"
      ]
     },
     "execution_count": 75,
     "metadata": {},
     "output_type": "execute_result"
    }
   ],
   "source": [
    "grouped_believe = sent_df.groupby(['sent_cat','believer'])['created_at'].count()\n",
    "grouped_believe\n",
    "# plt.figure(figsize=(4,3))\n",
    "# sns.bar(grouped_sent)\n",
    "# plt.title('Class distribution for Each Sentiment Category')"
   ]
  },
  {
   "cell_type": "code",
   "execution_count": 62,
   "id": "municipal-prerequisite",
   "metadata": {},
   "outputs": [],
   "source": [
    "pickle_out = open('data/model.pkl', 'wb')\n",
    "pickle.dump(rf_gridsearch, pickle_out)\n",
    "pickle_out.close()"
   ]
  },
  {
   "cell_type": "code",
   "execution_count": 22,
   "id": "mineral-firewall",
   "metadata": {},
   "outputs": [],
   "source": [
    "pickle_in = open('data/model.pkl', 'rb')\n",
    "rf_gridsearch = pickle.load(pickle_in)"
   ]
  },
  {
   "cell_type": "code",
   "execution_count": 23,
   "id": "rubber-diesel",
   "metadata": {},
   "outputs": [],
   "source": [
    "pickle_in.close()"
   ]
  },
  {
   "cell_type": "code",
   "execution_count": null,
   "id": "level-cabinet",
   "metadata": {},
   "outputs": [],
   "source": []
  }
 ],
 "metadata": {
  "kernelspec": {
   "display_name": "Python [conda env:ds01] *",
   "language": "python",
   "name": "conda-env-ds01-py"
  },
  "language_info": {
   "codemirror_mode": {
    "name": "ipython",
    "version": 3
   },
   "file_extension": ".py",
   "mimetype": "text/x-python",
   "name": "python",
   "nbconvert_exporter": "python",
   "pygments_lexer": "ipython3",
   "version": "3.6.9"
  }
 },
 "nbformat": 4,
 "nbformat_minor": 5
}
