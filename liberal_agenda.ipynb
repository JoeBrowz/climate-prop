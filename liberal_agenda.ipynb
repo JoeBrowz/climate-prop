{
 "cells": [
  {
   "cell_type": "markdown",
   "id": "challenging-prairie",
   "metadata": {},
   "source": [
    "# Import Packages"
   ]
  },
  {
   "cell_type": "code",
   "execution_count": 2,
   "id": "empty-lecture",
   "metadata": {},
   "outputs": [],
   "source": [
    "from custom_functions import *\n",
    "\n",
    "sns.set_style('darkgrid')\n",
    "%matplotlib inline\n",
    "\n",
    "from wordcloud import WordCloud, STOPWORDS\n",
    "import matplotlib.colors as mcolors\n",
    "\n",
    "import nltk\n",
    "# nltk.download('wordnet')\n",
    "from nltk.stem import WordNetLemmatizer\n",
    "from nltk.corpus import stopwords\n",
    "import string\n",
    "from nltk import word_tokenize, FreqDist\n",
    "from nltk.sentiment.vader import SentimentIntensityAnalyzer\n",
    "\n",
    "from gensim.corpora import Dictionary\n",
    "from gensim.models import Word2Vec\n",
    "\n",
    "import tensorflow as tf\n",
    "import tensorflow_hub as hub\n",
    "import tensorflow_text as text\n",
    "from tensorflow import keras\n",
    "from tensorflow.keras import layers\n",
    "from tensorflow.keras.metrics import BinaryAccuracy, Recall, AUC\n",
    "tf.get_logger().setLevel('ERROR')\n",
    "\n",
    "from sklearn.pipeline import Pipeline\n",
    "from sklearn.linear_model import LogisticRegression\n",
    "from sklearn.model_selection import train_test_split, GridSearchCV\n",
    "from sklearn.feature_extraction.text import TfidfVectorizer, CountVectorizer, TfidfTransformer\n",
    "from sklearn.metrics import accuracy_score, f1_score\n",
    "from sklearn.metrics import confusion_matrix, ConfusionMatrixDisplay\n",
    "from sklearn.experimental import enable_hist_gradient_boosting\n",
    "from sklearn.ensemble import RandomForestClassifier, HistGradientBoostingClassifier\n",
    "from sklearn.naive_bayes import MultinomialNB\n",
    "from xgboost import XGBClassifier"
   ]
  },
  {
   "cell_type": "markdown",
   "id": "active-vatican",
   "metadata": {},
   "source": [
    "### Load in Pickeled Data"
   ]
  },
  {
   "cell_type": "code",
   "execution_count": 9,
   "id": "urban-respondent",
   "metadata": {},
   "outputs": [],
   "source": [
    "tweets = pd.read_pickle('data/pickle_jar/cleaned2.pkl')\n",
    "\n",
    "# read X and y from EDA notebook\n",
    "pickle_in = open('data/pickle_jar/X_y', 'rb')\n",
    "X, y = pickle.load(pickle_in)\n",
    "pickle_in.close()\n",
    "\n",
    "# debrine stop word pickle\n",
    "pickle_in = open('data/pickle_jar/all_stops', 'rb')\n",
    "stopwords_list = pickle.load(pickle_in)\n",
    "pickle_in.close()"
   ]
  },
  {
   "cell_type": "markdown",
   "id": "scenic-torture",
   "metadata": {},
   "source": [
    "## TF-IDF Vectorizer Modeling\n",
    "\n",
    "Data will be split into training and testing data, passed into a TF-IDF vectorizer, then run through several Sci-Kit Learn clasiffier models. They will be validated on an outside data source then the best model will be used to predict on the full dataset "
   ]
  },
  {
   "cell_type": "code",
   "execution_count": 10,
   "id": "ultimate-horse",
   "metadata": {},
   "outputs": [],
   "source": [
    "# train test split with stratification to account for class imbalance\n",
    "X_train, X_test, y_train, y_test = train_test_split(X, y, stratify=y, random_state=42)\n",
    "\n",
    "# instantiate vectorizer\n",
    "vectorizer = TfidfVectorizer(stop_words=stopwords_list, ngram_range=(1,2), max_df = 0.9)\n",
    "\n",
    "# vectorize data\n",
    "X_tfidf_train = vectorizer.fit_transform(X_train)\n",
    "X_tfidf_test = vectorizer.transform(X_test)"
   ]
  },
  {
   "cell_type": "code",
   "execution_count": 101,
   "id": "accomplished-satisfaction",
   "metadata": {},
   "outputs": [],
   "source": [
    "# pickle_sandwich = (X_tfidf_train, X_tfidf_test, y, y_train, y_test)\n",
    "# pickle_out = open('data/pickle_jar/X_tfidf.pkl', 'wb')\n",
    "# pickle.dump(pickle_sandwich, pickle_out)\n",
    "# pickle_out.close()"
   ]
  },
  {
   "cell_type": "code",
   "execution_count": 98,
   "id": "demanding-spyware",
   "metadata": {},
   "outputs": [],
   "source": [
    "# pickle_in = open('data/pickle_jar/X_tfidf.pkl', 'rb')\n",
    "# X_tfidf_train, X_tfidf_test, y, y_train, y_test = pickle.load(pickle_in)\n",
    "# pickle_in.close()"
   ]
  },
  {
   "cell_type": "code",
   "execution_count": 84,
   "id": "meaningful-receiver",
   "metadata": {},
   "outputs": [],
   "source": [
    "# create dictionary holding class imbalnce\n",
    "class_weights = dict(y.value_counts(normalize=True))"
   ]
  },
  {
   "cell_type": "code",
   "execution_count": 88,
   "id": "front-transportation",
   "metadata": {},
   "outputs": [],
   "source": [
    "# create grid search parameters\n",
    "rfc_grid_params =  {'n_estimators': [100, 450, 800],\n",
    "                    'criterion': ['gini', 'entropy'],\n",
    "                    'max_depth': [None, 6, 10],\n",
    "                    'class_weight': [class_weights]}\n",
    "\n",
    "lr1_grid_params = {'C': [1, 1e3, 1e7, 1e12],\n",
    "                   'penalty': ['l1', 'elasticnet'],\n",
    "                   'solver': ['saga'],\n",
    "                   'class_weight': [class_weights]}\n",
    "\n",
    "lr2_grid_params = {'C': [1, 1e3, 1e7, 1e12],\n",
    "                   'penalty': ['l2', 'none'],\n",
    "                   'solver': ['sag'],\n",
    "                   'class_weight': [class_weights]}\n",
    "\n",
    "gbt_grid_params = {'learning_rate': [0.001, 0.1, 1]}"
   ]
  },
  {
   "cell_type": "code",
   "execution_count": null,
   "id": "christian-february",
   "metadata": {},
   "outputs": [],
   "source": [
    "# Instantiate Logistic Regression L1 gridsearch object \n",
    "lr1_grid = GridSearchCV(LogisticRegression(random_state=42), param_grid=lr1_grid_params, cv=3 n_jobs = -1)\n",
    "# fit to training set\n",
    "lr1_grid.fit(X_tfidf_train, y_train)\n",
    "\n",
    "# preserve for convenience\n",
    "pickle_out = open('data/pickle_jar/lr1_grid', 'wb')\n",
    "pickle.dump(lr1_grid, pickle_out)\n",
    "pickle_out.close()"
   ]
  },
  {
   "cell_type": "code",
   "execution_count": null,
   "id": "intimate-treat",
   "metadata": {},
   "outputs": [],
   "source": [
    "# Instantiate Logistic Regression L2 gridsearch object \n",
    "lr2_grid = GridSearchCV(LogisticRegression(random_state=42), param_grid=lr2_grid_params, cv=3 n_jobs = -1)\n",
    "# fit to training set\n",
    "lr2_grid.fit(X_tfidf_train, y_train)\n",
    "\n",
    "# preserve for convenience\n",
    "pickle_out = open('data/pickle_jar/lr2_grid', 'wb')\n",
    "pickle.dump(lr2_grid, pickle_out)\n",
    "pickle_out.close()"
   ]
  },
  {
   "cell_type": "code",
   "execution_count": null,
   "id": "plastic-rendering",
   "metadata": {},
   "outputs": [],
   "source": [
    "# Instantiate Gradient Boosted Tree gridsearch object \n",
    "gbt_grid = GridSearchCV(HistGradientBoostingClassifier(random_state=42), param_grid=gbt_grid_params, cv=3 n_jobs = -1)\n",
    "# fit to training set\n",
    "gbt_grid.fit(X_tfidf_train, y_train)\n",
    "\n",
    "# preserve for convenience\n",
    "pickle_out = open('data/pickle_jar/gbt_grid', 'wb')\n",
    "pickle.dump(gbt_grid, pickle_out)\n",
    "pickle_out.close()"
   ]
  },
  {
   "cell_type": "code",
   "execution_count": 11,
   "id": "occasional-lease",
   "metadata": {},
   "outputs": [],
   "source": [
    "# Instantiate Random Forest gridsearch object \n",
    "rfc_grid = GridSearchCV(RandomForestClassifier(random_state=42), param_grid=rfc_grid_params, cv=3 n_jobs = -1)\n",
    "# fit to training set\n",
    "rfc_grid.fit(X_tfidf_train, y_train)\n",
    "\n",
    "# preserve for convenience\n",
    "pickle_out = open('data/pickle_jar/rfc_grid', 'wb')\n",
    "pickle.dump(rfc_grid, pickle_out)\n",
    "pickle_out.close()"
   ]
  },
  {
   "cell_type": "code",
   "execution_count": 34,
   "id": "concrete-logging",
   "metadata": {
    "scrolled": true
   },
   "outputs": [
    {
     "data": {
      "text/plain": [
       "{'clf__n_estimators': 100}"
      ]
     },
     "execution_count": 34,
     "metadata": {},
     "output_type": "execute_result"
    }
   ],
   "source": [
    "# show best parameters for all models\n",
    "print(rfc_grid.best_params_)\n",
    "print(lr1_grid.best_params_)\n",
    "print(lr2_grid.best_params_)\n",
    "print(gbt_grid.best_params_)"
   ]
  },
  {
   "cell_type": "markdown",
   "id": "foster-career",
   "metadata": {},
   "source": [
    "#### generate predictions for metric calculations"
   ]
  },
  {
   "cell_type": "code",
   "execution_count": 36,
   "id": "alternative-dallas",
   "metadata": {},
   "outputs": [],
   "source": [
    "# generate predictions for L1 Logistic Regression model\n",
    "lr1_pred_train = lr1_grid.predict(X_train)\n",
    "lr1_y_pred = lr1_grid.predict(X_test)\n",
    "# generate predictions for L2 Logistic Regression model\n",
    "lr2_pred_train = lr2_grid.predict(X_train)\n",
    "lr2_y_pred = lr2_grid.predict(X_test)\n",
    "# generate predictions for Gradient Boosted Trees model\n",
    "gbt_pred_train = gbt_grid.predict(X_train)\n",
    "gbt_y_pred = gbt_grid.predict(X_test)\n",
    "# generate predictions for Random Forest model\n",
    "rfc_pred_train = rfc_grid.predict(X_train)\n",
    "rfc_y_pred = rfc_grid.predict(X_test)"
   ]
  },
  {
   "cell_type": "markdown",
   "id": "emerging-moldova",
   "metadata": {},
   "source": [
    "### Compare metrics of the four classifiers"
   ]
  },
  {
   "cell_type": "code",
   "execution_count": 31,
   "id": "spiritual-junction",
   "metadata": {},
   "outputs": [],
   "source": [
    "# function to show metrics\n",
    "def acc_f1(name, y_pred, y_train_pred=None):\n",
    "    if y_train_pred:\n",
    "        train_acc = round(accuracy_score(y_train, y_train_pred), 4)\n",
    "        train_f1 =  round(f1_score(y_train, y_train_pred), 4)\n",
    "        print(f'{name} Train Acc: {train_acc}      {name} Train F1: {train_f1}')\n",
    "        print('-----'*12)\n",
    "        \n",
    "    test_acc =  round(accuracy_score(y_test, y_pred), 4)\n",
    "    test_f1 =   round(f1_score(y_test, y_pred), 4)\n",
    "    print(f'{name} Test F1:  {test_acc}      {name} Test F1:  {train_f1}')\n",
    "    \n",
    "    return test_acc, test_f1"
   ]
  },
  {
   "cell_type": "code",
   "execution_count": 16,
   "id": "incorporated-gibson",
   "metadata": {},
   "outputs": [],
   "source": [
    "# compare F1 and Accuracy scores for each model\n",
    "lr1_acc, lr1_f1 = acc_f1('LR1', lr1_y_pred, lr1_pred_train)\n",
    "lr2_acc, lr2_f1 = acc_f1('LR2', lr2_y_pred, lr2_pred_train)\n",
    "gbt_acc, gbt_f1 = acc_f1('GBT', gbt_y_pred, gbt_pred_train)\n",
    "lr1_acc, lr1_f1 = acc_f1('RFC', rfc_y_pred, rfc_pred_train)"
   ]
  },
  {
   "cell_type": "markdown",
   "id": "breeding-mailing",
   "metadata": {},
   "source": [
    "#### Show confusion matrix for each classifier "
   ]
  },
  {
   "cell_type": "code",
   "execution_count": 20,
   "id": "relative-coupon",
   "metadata": {},
   "outputs": [],
   "source": [
    "# visualize confusion matrix for test data\n",
    "def plot_conf(name, y_pred, ax):\n",
    "    \n",
    "    con_mat = confusion_matrix(y_test, y_pred)\n",
    "\n",
    "    ConfusionMatrixDisplay(con_mat, display_labels=['denier', 'believer'], ax = ax).plot()\n",
    "    plt.grid(b=None)\n",
    "    plt.title(f'{name} Confusion Matrix')\n",
    "    plt.show()"
   ]
  },
  {
   "cell_type": "code",
   "execution_count": null,
   "id": "surgical-emphasis",
   "metadata": {},
   "outputs": [],
   "source": [
    "fig, ax = plt.subplots(nrows=2, ncols=2, figsize=(20,14))\n",
    "plot_conf('LR1', lr1_y_pred, ax[0,0])\n",
    "plot_conf('LR2', lr2_y_pred, ax[0,1])\n",
    "plot_conf('GBT', gbt_y_pred, ax[1,0])\n",
    "plot_conf('RFC', rfc_y_pred, ax[1,1])"
   ]
  },
  {
   "cell_type": "markdown",
   "id": "cognitive-parks",
   "metadata": {},
   "source": [
    "\n",
    "# Test on external dataset\n",
    "\n",
    "A dataset from kaggle with labeled tweets as climate deniers or believers is imported for further validation of model\n",
    "\n",
    "https://www.kaggle.com/edqian/twitter-climate-change-sentiment-dataset"
   ]
  },
  {
   "cell_type": "code",
   "execution_count": 21,
   "id": "functioning-adaptation",
   "metadata": {},
   "outputs": [],
   "source": [
    "val_df = pd.read_csv('data/twitter_sentiment_data.csv')"
   ]
  },
  {
   "cell_type": "code",
   "execution_count": 22,
   "id": "black-stadium",
   "metadata": {},
   "outputs": [],
   "source": [
    "# re-map sentiment array to match existing model\n",
    "\n",
    "cond_list = [val_df['sentiment'] == -1, \n",
    "             val_df['sentiment'] == 0,\n",
    "             val_df['sentiment'] == 1,\n",
    "             val_df['sentiment'] == 2]\n",
    "\n",
    "choice_list = [0, None, val_df['sentiment'], None]\n",
    "\n",
    "val_df['sentiment'] = np.select(cond_list, choice_list, 10)"
   ]
  },
  {
   "cell_type": "code",
   "execution_count": 23,
   "id": "alpha-johnson",
   "metadata": {},
   "outputs": [
    {
     "data": {
      "text/plain": [
       "1    22962\n",
       "0     3990\n",
       "Name: sentiment, dtype: int64"
      ]
     },
     "execution_count": 23,
     "metadata": {},
     "output_type": "execute_result"
    }
   ],
   "source": [
    "# check for errors\n",
    "val_df['sentiment'].value_counts()"
   ]
  },
  {
   "cell_type": "markdown",
   "id": "fitting-weapon",
   "metadata": {},
   "source": [
    "##### Check to see if there are any tweets repeated in this dataset\n",
    "\n"
   ]
  },
  {
   "cell_type": "code",
   "execution_count": null,
   "id": "municipal-playlist",
   "metadata": {},
   "outputs": [],
   "source": [
    "count = 0\n",
    "for id_ in val_df['tweetid']:\n",
    "    if id_ in tweets['id']:\n",
    "        count += 1\n",
    "        print(id_)"
   ]
  },
  {
   "cell_type": "markdown",
   "id": "younger-seminar",
   "metadata": {},
   "source": [
    "Remove unusable or unwanted rows"
   ]
  },
  {
   "cell_type": "code",
   "execution_count": 25,
   "id": "color-russia",
   "metadata": {
    "scrolled": true
   },
   "outputs": [],
   "source": [
    "# remove rows without usable ground truth\n",
    "val_df_sub = val_df.dropna(subset = ['sentiment'])\n",
    "\n",
    "# remove retweets\n",
    "val_df_sub = val_df_sub[~val_df_sub['message'].str.startswith('RT ')]"
   ]
  },
  {
   "cell_type": "code",
   "execution_count": 28,
   "id": "nominated-joint",
   "metadata": {},
   "outputs": [],
   "source": [
    "# clean tweets\n",
    "lemmatizer = WordNetLemmatizer()\n",
    "val_processed_text = val_df_sub['message'].apply(lambda x: clean_and_lem(x, lemmatizer))"
   ]
  },
  {
   "cell_type": "code",
   "execution_count": 30,
   "id": "experienced-impression",
   "metadata": {},
   "outputs": [],
   "source": [
    "# set target\n",
    "y = val_df_sub['sentiment'].astype(int)"
   ]
  },
  {
   "cell_type": "code",
   "execution_count": null,
   "id": "architectural-bacteria",
   "metadata": {},
   "outputs": [],
   "source": [
    "# make predictions on validation data\n",
    "lr1_val = lr1_grid.predict(val_processed_text)\n",
    "lr2_val = lr2_grid.predict(val_processed_text)\n",
    "gbt_val = gbt_grid.predict(val_processed_text)\n",
    "rfc_val = rfc_grid.predict(val_processed_text)"
   ]
  },
  {
   "cell_type": "code",
   "execution_count": 32,
   "id": "environmental-grain",
   "metadata": {},
   "outputs": [
    {
     "name": "stdout",
     "output_type": "stream",
     "text": [
      "Accuracy Score :      0.8241\n",
      "Validation F1 Score : 0.8939\n"
     ]
    },
    {
     "data": {
      "image/png": "[encoded data removed]",
      "text/plain": [
       "<Figure size 432x288 with 2 Axes>"
      ]
     },
     "metadata": {
      "needs_background": "light"
     },
     "output_type": "display_data"
    }
   ],
   "source": [
    "# compare F1 and Accuracy scores for each model\n",
    "lr1_acc, lr1_f1 = acc_f1('LR1 Val', lr1_val)\n",
    "lr2_acc, lr2_f1 = acc_f1('LR2 Val', lr2_val)\n",
    "gbt_acc, gbt_f1 = acc_f1('GBT Val', gbt_val)\n",
    "lr1_acc, lr1_f1 = acc_f1('RFC Val', rfc_val)"
   ]
  },
  {
   "cell_type": "code",
   "execution_count": null,
   "id": "numerous-fitting",
   "metadata": {},
   "outputs": [],
   "source": [
    "fig, ax = plt.subplots(nrows=2, ncols=2, figsize=(20,14))\n",
    "plot_conf('LR1 Val', lr1_val, ax[0,0])\n",
    "plot_conf('LR2 Val', lr2_val, ax[0,1])\n",
    "plot_conf('GBT Val', gbt_val, ax[1,0])\n",
    "plot_conf('RFC Val', rfc_val, ax[1,1])"
   ]
  },
  {
   "cell_type": "code",
   "execution_count": null,
   "id": "following-definition",
   "metadata": {},
   "outputs": [],
   "source": [
    "ConfusionMatrixDisplay(confusion_matrix(y, val_predict), display_labels=['denier', 'believer']).plot()\n",
    "plt.grid(b=None)\n",
    "plt.show()"
   ]
  },
  {
   "cell_type": "markdown",
   "id": "conditional-float",
   "metadata": {},
   "source": [
    "## Apply Classifier to remainder dataset\n",
    "\n",
    "Run the entire dataset through the gridsearch pipeline to make predictions on each tweet"
   ]
  },
  {
   "cell_type": "code",
   "execution_count": 33,
   "id": "crude-developer",
   "metadata": {},
   "outputs": [],
   "source": [
    "# remove irrelevant response tweets\n",
    "tweets_final = tweets[tweets['in_reply_to_screen_name'].isna()]"
   ]
  },
  {
   "cell_type": "code",
   "execution_count": 34,
   "id": "stupid-mounting",
   "metadata": {},
   "outputs": [
    {
     "name": "stderr",
     "output_type": "stream",
     "text": [
      "/Users/browz/opt/anaconda3/envs/ds01/lib/python3.6/site-packages/ipykernel_launcher.py:2: SettingWithCopyWarning: \n",
      "A value is trying to be set on a copy of a slice from a DataFrame.\n",
      "Try using .loc[row_indexer,col_indexer] = value instead\n",
      "\n",
      "See the caveats in the documentation: https://pandas.pydata.org/pandas-docs/stable/user_guide/indexing.html#returning-a-view-versus-a-copy\n",
      "  \n"
     ]
    }
   ],
   "source": [
    "# prepare tweets for model\n",
    "tweets_final['clean_text'] = tweets_final['full_text'].apply(lambda x: clean_and_lem(x)) \n",
    "tweets_final = tweets_final[tweets_final.clean_text.str.strip() != '']\n",
    "tweets_final = tweets_final[tweets_final.clean_text.str.strip() != ' ']\n",
    "# run text through model\n",
    "tweets_final['believer_pred'] = rf_gridsearch.predict(tweets_final['clean_text'])"
   ]
  },
  {
   "cell_type": "code",
   "execution_count": 35,
   "id": "proof-twelve",
   "metadata": {},
   "outputs": [
    {
     "data": {
      "text/plain": [
       "1.0    0.931688\n",
       "0.0    0.068312\n",
       "Name: believer_pred, dtype: float64"
      ]
     },
     "execution_count": 35,
     "metadata": {},
     "output_type": "execute_result"
    }
   ],
   "source": [
    "tweets_final['believer_pred'].value_counts(normalize=True)"
   ]
  },
  {
   "cell_type": "code",
   "execution_count": null,
   "id": "sixth-universal",
   "metadata": {},
   "outputs": [],
   "source": []
  },
  {
   "cell_type": "code",
   "execution_count": 36,
   "id": "indonesian-lighter",
   "metadata": {},
   "outputs": [],
   "source": [
    "# sanity check on predictions\n",
    "def check_pred(df, n=None):\n",
    "    if n == None:\n",
    "        n = np.random.randint(0,len(df)-1)\n",
    "    print(df.iloc[n]['full_text'], '\\n', df.iloc[n]['believer_pred'])\n",
    "    print(f'https://twitter.com/{df.iloc[n][\"screen_names\"]}/status/{df.iloc[n][\"id\"]}')"
   ]
  },
  {
   "cell_type": "code",
   "execution_count": 37,
   "id": "corrected-abuse",
   "metadata": {},
   "outputs": [
    {
     "name": "stdout",
     "output_type": "stream",
     "text": [
      "Ayo Mueller man, where are you? These Hollywood niggas got you looking funny in the light. Pull up! https://t.co/6SrmAvjZbG \n",
      " 0.0\n",
      "https://twitter.com/Lady_RHOalye/status/1026982347487498245\n"
     ]
    }
   ],
   "source": [
    "check_pred(tweets_final[tweets_final['believer_pred']==0])"
   ]
  },
  {
   "cell_type": "markdown",
   "id": "brutal-liberal",
   "metadata": {},
   "source": [
    "# Sentiment Analysis"
   ]
  },
  {
   "cell_type": "code",
   "execution_count": 61,
   "id": "identified-scientist",
   "metadata": {},
   "outputs": [],
   "source": [
    "def sentiment_score(sentence): \n",
    "  \n",
    "    # Instntiate SentimentIntensityAnalyzer object\n",
    "    sid_obj = SentimentIntensityAnalyzer() \n",
    "  \n",
    "    # store scoring data in dictionary  \n",
    "    sentiment_dict = sid_obj.polarity_scores(sentence) \n",
    "    \n",
    "    return sentiment_dict['compound']"
   ]
  },
  {
   "cell_type": "code",
   "execution_count": 72,
   "id": "clinical-brass",
   "metadata": {},
   "outputs": [],
   "source": [
    "sentiment = X.apply(lambda x: sentiment_score(x))"
   ]
  },
  {
   "cell_type": "code",
   "execution_count": 73,
   "id": "weekly-duplicate",
   "metadata": {},
   "outputs": [],
   "source": [
    "sent_df = pd.DataFrame(X)\n",
    "sent_df = sent_df.assign(target = y)"
   ]
  },
  {
   "cell_type": "code",
   "execution_count": 74,
   "id": "indian-kenya",
   "metadata": {},
   "outputs": [],
   "source": [
    "sent_df = sent_df.assign(sent = sentiment)"
   ]
  },
  {
   "cell_type": "code",
   "execution_count": 75,
   "id": "median-viewer",
   "metadata": {},
   "outputs": [
    {
     "data": {
      "text/plain": [
       "target\n",
       "0.0    0.048356\n",
       "1.0    0.038124\n",
       "Name: sent, dtype: float64"
      ]
     },
     "execution_count": 75,
     "metadata": {},
     "output_type": "execute_result"
    }
   ],
   "source": [
    "sent_df.groupby(['target'])['sent'].mean()"
   ]
  },
  {
   "cell_type": "code",
   "execution_count": 76,
   "id": "based-opera",
   "metadata": {},
   "outputs": [],
   "source": [
    "sent_df = sent_df[sent_df['sent'] != 0]\n",
    "sent_df['sent'] = sent_df['sent'].multiply(100)"
   ]
  },
  {
   "cell_type": "code",
   "execution_count": 77,
   "id": "sufficient-ranch",
   "metadata": {},
   "outputs": [],
   "source": [
    "conditions = [sent_df['sent'].isin(range(-100,-50)),\n",
    "              sent_df['sent'].isin(range(-50, 0)),\n",
    "              sent_df['sent'].isin(range(0, 50)),\n",
    "              sent_df['sent'].isin(range(50, 100))]\n",
    "\n",
    "choices =[-2,-1,0,1]\n",
    "\n",
    "sent_df['sent_cat'] = np.select(condlist=conditions, choicelist=choices)"
   ]
  },
  {
   "cell_type": "code",
   "execution_count": 78,
   "id": "respected-leisure",
   "metadata": {},
   "outputs": [
    {
     "data": {
      "text/plain": [
       " 0    95711\n",
       "-1     1805\n",
       " 1       90\n",
       "-2       44\n",
       "Name: sent_cat, dtype: int64"
      ]
     },
     "execution_count": 78,
     "metadata": {},
     "output_type": "execute_result"
    }
   ],
   "source": [
    "sent_df['sent_cat'].value_counts()"
   ]
  },
  {
   "cell_type": "code",
   "execution_count": 79,
   "id": "educational-nursery",
   "metadata": {},
   "outputs": [
    {
     "name": "stderr",
     "output_type": "stream",
     "text": [
      "/Users/browz/opt/anaconda3/envs/ds01/lib/python3.6/site-packages/seaborn/_decorators.py:43: FutureWarning: Pass the following variable as a keyword arg: x. From version 0.12, the only valid positional argument will be `data`, and passing other arguments without an explicit keyword will result in an error or misinterpretation.\n",
      "  FutureWarning\n"
     ]
    },
    {
     "data": {
      "image/png": "[encoded data removed]",
      "text/plain": [
       "<Figure size 288x216 with 1 Axes>"
      ]
     },
     "metadata": {
      "needs_background": "light"
     },
     "output_type": "display_data"
    }
   ],
   "source": [
    "plt.figure(figsize=(4,3))\n",
    "sns.countplot(sent_df['sent_cat'])\n",
    "plt.title('Sentiment for all Tweets')\n",
    "plt.show()"
   ]
  },
  {
   "cell_type": "code",
   "execution_count": 80,
   "id": "spread-raising",
   "metadata": {},
   "outputs": [],
   "source": [
    "grouped_believe = sent_df.groupby(['target', 'sent_cat']).count()\n",
    "grp_df = pd.DataFrame(grouped_believe)"
   ]
  },
  {
   "cell_type": "code",
   "execution_count": 81,
   "id": "alien-clark",
   "metadata": {},
   "outputs": [
    {
     "data": {
      "text/html": [
       "<div>\n",
       "<style scoped>\n",
       "    .dataframe tbody tr th:only-of-type {\n",
       "        vertical-align: middle;\n",
       "    }\n",
       "\n",
       "    .dataframe tbody tr th {\n",
       "        vertical-align: top;\n",
       "    }\n",
       "\n",
       "    .dataframe thead th {\n",
       "        text-align: right;\n",
       "    }\n",
       "</style>\n",
       "<table border=\"1\" class=\"dataframe\">\n",
       "  <thead>\n",
       "    <tr style=\"text-align: right;\">\n",
       "      <th></th>\n",
       "      <th></th>\n",
       "      <th>full_text</th>\n",
       "      <th>sent</th>\n",
       "    </tr>\n",
       "    <tr>\n",
       "      <th>target</th>\n",
       "      <th>sent_cat</th>\n",
       "      <th></th>\n",
       "      <th></th>\n",
       "    </tr>\n",
       "  </thead>\n",
       "  <tbody>\n",
       "    <tr>\n",
       "      <th rowspan=\"4\" valign=\"top\">0.0</th>\n",
       "      <th>-2</th>\n",
       "      <td>3</td>\n",
       "      <td>3</td>\n",
       "    </tr>\n",
       "    <tr>\n",
       "      <th>-1</th>\n",
       "      <td>22</td>\n",
       "      <td>22</td>\n",
       "    </tr>\n",
       "    <tr>\n",
       "      <th>0</th>\n",
       "      <td>1318</td>\n",
       "      <td>1318</td>\n",
       "    </tr>\n",
       "    <tr>\n",
       "      <th>1</th>\n",
       "      <td>2</td>\n",
       "      <td>2</td>\n",
       "    </tr>\n",
       "    <tr>\n",
       "      <th rowspan=\"4\" valign=\"top\">1.0</th>\n",
       "      <th>-2</th>\n",
       "      <td>7</td>\n",
       "      <td>7</td>\n",
       "    </tr>\n",
       "    <tr>\n",
       "      <th>-1</th>\n",
       "      <td>141</td>\n",
       "      <td>141</td>\n",
       "    </tr>\n",
       "    <tr>\n",
       "      <th>0</th>\n",
       "      <td>5843</td>\n",
       "      <td>5843</td>\n",
       "    </tr>\n",
       "    <tr>\n",
       "      <th>1</th>\n",
       "      <td>3</td>\n",
       "      <td>3</td>\n",
       "    </tr>\n",
       "  </tbody>\n",
       "</table>\n",
       "</div>"
      ],
      "text/plain": [
       "                 full_text  sent\n",
       "target sent_cat                 \n",
       "0.0    -2                3     3\n",
       "       -1               22    22\n",
       "        0             1318  1318\n",
       "        1                2     2\n",
       "1.0    -2                7     7\n",
       "       -1              141   141\n",
       "        0             5843  5843\n",
       "        1                3     3"
      ]
     },
     "execution_count": 81,
     "metadata": {},
     "output_type": "execute_result"
    }
   ],
   "source": [
    "grp_df"
   ]
  },
  {
   "cell_type": "code",
   "execution_count": 82,
   "id": "mineral-firewall",
   "metadata": {},
   "outputs": [],
   "source": [
    "pickle_in = open('data/pickle_jar/model.pkl', 'rb')\n",
    "rf_gridsearch = pickle.load(pickle_in)"
   ]
  },
  {
   "cell_type": "code",
   "execution_count": 83,
   "id": "rubber-diesel",
   "metadata": {},
   "outputs": [],
   "source": [
    "pickle_in.close()"
   ]
  },
  {
   "cell_type": "code",
   "execution_count": null,
   "id": "level-cabinet",
   "metadata": {},
   "outputs": [],
   "source": []
  }
 ],
 "metadata": {
  "kernelspec": {
   "display_name": "Python [conda env:ds01] *",
   "language": "python",
   "name": "conda-env-ds01-py"
  },
  "language_info": {
   "codemirror_mode": {
    "name": "ipython",
    "version": 3
   },
   "file_extension": ".py",
   "mimetype": "text/x-python",
   "name": "python",
   "nbconvert_exporter": "python",
   "pygments_lexer": "ipython3",
   "version": "3.6.9"
  }
 },
 "nbformat": 4,
 "nbformat_minor": 5
}
