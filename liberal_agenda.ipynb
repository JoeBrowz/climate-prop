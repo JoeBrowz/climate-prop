{
 "cells": [
  {
   "cell_type": "markdown",
   "id": "challenging-prairie",
   "metadata": {},
   "source": [
    "# Import Packages"
   ]
  },
  {
   "cell_type": "code",
   "execution_count": 375,
   "id": "empty-lecture",
   "metadata": {},
   "outputs": [],
   "source": [
    "import pandas as pd\n",
    "import numpy as np\n",
    "import pickle\n",
    "import matplotlib.pyplot as plt\n",
    "import re\n",
    "import time\n",
    "import matplotlib.pyplot as plt\n",
    "%matplotlib inline\n",
    "\n",
    "from langdetect import detect\n",
    "from googletrans import Translator\n",
    "\n",
    "import nltk\n",
    "# nltk.download('wordnet')\n",
    "from nltk.stem import WordNetLemmatizer\n",
    "from nltk.corpus import stopwords\n",
    "import string\n",
    "from nltk import word_tokenize, FreqDist\n",
    "from nltk.sentiment.vader import SentimentIntensityAnalyzer\n",
    "\n",
    "import tensorflow as tf\n",
    "import tensorflow_hub as hub\n",
    "import tensorflow_text as text\n",
    "tf.get_logger().setLevel('ERROR')\n",
    "\n",
    "from sklearn.pipeline import Pipeline\n",
    "from sklearn.model_selection import train_test_split, GridSearchCV\n",
    "from sklearn.feature_extraction.text import TfidfVectorizer, CountVectorizer, TfidfTransformer\n",
    "from sklearn.metrics import accuracy_score, f1_score\n",
    "from sklearn.metrics import confusion_matrix, ConfusionMatrixDisplay\n",
    "from sklearn.experimental import enable_hist_gradient_boosting\n",
    "from sklearn.ensemble import RandomForestClassifier, HistGradientBoostingClassifier\n",
    "from sklearn.naive_bayes import MultinomialNB\n",
    "from xgboost import XGBClassifier"
   ]
  },
  {
   "cell_type": "markdown",
   "id": "active-vatican",
   "metadata": {},
   "source": [
    "### Load in Pickeled DataFrame"
   ]
  },
  {
   "cell_type": "code",
   "execution_count": null,
   "id": "urban-respondent",
   "metadata": {},
   "outputs": [],
   "source": [
    "tweets = pd.read_pickle('data/pickle_jar/cleaned2.pkl')\n",
    "denier_sup = pd.read_pickle('data/pickle_jar/denier_sup.pkl')"
   ]
  },
  {
   "cell_type": "markdown",
   "id": "united-singer",
   "metadata": {},
   "source": [
    "## Explore Data"
   ]
  },
  {
   "cell_type": "code",
   "execution_count": null,
   "id": "shared-madrid",
   "metadata": {},
   "outputs": [],
   "source": [
    "# verify import\n",
    "tweets.info()"
   ]
  },
  {
   "cell_type": "code",
   "execution_count": null,
   "id": "interpreted-mitchell",
   "metadata": {},
   "outputs": [],
   "source": [
    "# look at missing values\n",
    "tweets.isna().sum()"
   ]
  },
  {
   "cell_type": "code",
   "execution_count": null,
   "id": "acute-temperature",
   "metadata": {},
   "outputs": [],
   "source": [
    "denier_sup['date'] = pd.to_datetime(denier_sup['date'])\n",
    "denier_sup.columns = ['created_at', 'screen_names', 'names', 'full_text', 'retweeted_status', \n",
    "                      'hashtags', 'nlikes', 'search']"
   ]
  },
  {
   "cell_type": "markdown",
   "id": "naughty-sunset",
   "metadata": {},
   "source": [
    "## Prepare Data for Modeling\n",
    "\n",
    "First, ground truth must be determined. To do this, hashtags are examined and parsed to find ones that clearly indicate a person's view on climate change. Then all tweets containing those tweets are labeled and prepared for modeling"
   ]
  },
  {
   "cell_type": "code",
   "execution_count": null,
   "id": "rubber-departure",
   "metadata": {},
   "outputs": [],
   "source": [
    "# subset data that contains hashtags\n",
    "df = tweets.dropna(subset=['hashtags'])"
   ]
  },
  {
   "cell_type": "code",
   "execution_count": null,
   "id": "celtic-diploma",
   "metadata": {},
   "outputs": [],
   "source": [
    "# create a list of all hashtags\n",
    "\n",
    "hashtags_all = []\n",
    "for row in df['hashtags']:\n",
    "    for item in row:\n",
    "        hashtags_all.append(item.lower())"
   ]
  },
  {
   "cell_type": "code",
   "execution_count": null,
   "id": "relevant-vienna",
   "metadata": {},
   "outputs": [],
   "source": [
    "# see hashtag count and sort by frequency\n",
    "unique_hashtags = list(pd.Series(hashtags_all).value_counts().index)\n",
    "# view top 5 for reference\n",
    "print(unique_hashtags[:5])"
   ]
  },
  {
   "cell_type": "code",
   "execution_count": null,
   "id": "egyptian-visitor",
   "metadata": {},
   "outputs": [],
   "source": [
    "# most common tags associated with sample of tweets presenting climate denial\n",
    "denier_tags = ['climatechangeisfalse', 'climatechangenotreal', 'climatechangehoax', \n",
    "               'globalwarminghoax', 'tcot', 'ccot', 'tlot', 'pjnet', 'rednationrising', 'votered', \n",
    "               'libtard', 'libtards', 'maga']\n",
    "\n",
    "# most common tags associated with sample of tweets indicating belief in climate science\n",
    "believer_tags = ['climatechangeisreal', 'actonclimate', 'extinctionrebellion', 'climateemergency', \n",
    "                 'climateactionnow', 'capitalism', 'public_health', 'climateaction', 'humanityextinction',\n",
    "                 'activism', 'noplanetb', 'savetheplanet']"
   ]
  },
  {
   "cell_type": "code",
   "execution_count": null,
   "id": "ultimate-vitamin",
   "metadata": {
    "scrolled": true
   },
   "outputs": [],
   "source": [
    "# assign believer status to each row in the dataset\n",
    "believe_series = []\n",
    "for idx, row in df['hashtags'].iteritems():\n",
    "    # set a count for matching tags in row\n",
    "    believe = 0\n",
    "    deny = 0 \n",
    "    for tag in row:\n",
    "        if tag.lower() in denier_tags:\n",
    "            deny += 1\n",
    "        elif tag.lower() in believer_tags:\n",
    "            believe += 1\n",
    "    \n",
    "    # check that only one type of tag appears\n",
    "    if (believe > 0) and (deny == 0):\n",
    "        believe_series.append(1)\n",
    "    elif (believe == 0) and (deny > 0):\n",
    "        believe_series.append(0)\n",
    "    else: # <-- if no matching tag OR if both appear, label as unknown using nonetype \n",
    "        believe_series.append(None)"
   ]
  },
  {
   "cell_type": "markdown",
   "id": "collected-married",
   "metadata": {},
   "source": [
    "### Add believer status to DataFrame"
   ]
  },
  {
   "cell_type": "code",
   "execution_count": null,
   "id": "respective-prague",
   "metadata": {},
   "outputs": [],
   "source": [
    "df = df.assign(believer = believe_series)"
   ]
  },
  {
   "cell_type": "code",
   "execution_count": null,
   "id": "altered-nigeria",
   "metadata": {},
   "outputs": [],
   "source": [
    "denier_sup['believer'] = 0"
   ]
  },
  {
   "cell_type": "code",
   "execution_count": 247,
   "id": "demographic-record",
   "metadata": {},
   "outputs": [],
   "source": [
    "# subset dataframe to only include positive and negative cases\n",
    "to_train = df.dropna(subset=['believer'])"
   ]
  },
  {
   "cell_type": "markdown",
   "id": "random-return",
   "metadata": {},
   "source": [
    "### Create function to prep text for NLP processing\n",
    "\n",
    "Remove unwanted character types, hashtags, usernames, and URLs. Remove line breaks and extra spaces\n",
    "\n",
    "Tokenize, remove stopwords, lemmatize, join to string"
   ]
  },
  {
   "cell_type": "code",
   "execution_count": 250,
   "id": "painted-seven",
   "metadata": {},
   "outputs": [],
   "source": [
    "def re_clean(tweet):\n",
    "    # regex cleaning\n",
    "    tweet = tweet.lower()\n",
    "    tweet = re.sub(r'[@][\\w]+','', tweet) # <-- remove usernames\n",
    "    tweet = re.sub(r'[#]','', tweet) # <-- remove hashtags \n",
    "    tweet = re.sub(r'http[s]?://(?:[a-zA-Z]|[0-9]|[$-_@.&+]|[!*\\(\\),]|(?:%[0-9a-fA-F][0-9a-fA-F]))+', '', tweet) # <-- remove urls\n",
    "    tweet = re.sub(r'\\s{2,15}', ' ', tweet) # <-- remove extra blank spaces\n",
    "    tweet = re.sub(r'\\n', ' ', tweet)  # <-- remove line breaks\n",
    "    tweet = re.sub(r'\\s{2,15}', ' ', tweet) # <-- combine multiple space again \n",
    "    return tweet.strip() # <-- remove extra spaces at the start and end of tweets"
   ]
  },
  {
   "cell_type": "code",
   "execution_count": 251,
   "id": "legitimate-armenia",
   "metadata": {},
   "outputs": [],
   "source": [
    "# Instantiate nltk lemmatizer\n",
    "lemmatizer = WordNetLemmatizer()\n",
    "\n",
    "# create stop word list from default list, punctuation, and hashtags used to create classifcation params\n",
    "stopwords_list = stopwords.words('english') + (list(string.punctuation) + \n",
    "                                               denier_tags + believer_tags + unique_hashtags[:100])\n",
    "\n",
    "def lemm(tweet):    \n",
    "    # tokenize, lemmatize\n",
    "    tok = nltk.regexp_tokenize(tweet, r\"([a-zA-Z]+(?:'[a-z]+)?)\")\n",
    "    lemma = [lemmatizer.lemmatize(token) for token in tok]\n",
    "    # return combined string \n",
    "    return ' '.join(lemma)"
   ]
  },
  {
   "cell_type": "code",
   "execution_count": 252,
   "id": "ignored-valuation",
   "metadata": {},
   "outputs": [],
   "source": [
    "def clean_and_lem(tweet):\n",
    "    '''\n",
    "    clean then lammatize tweet\n",
    "    '''\n",
    "    return lemm(re_clean(tweet))"
   ]
  },
  {
   "cell_type": "code",
   "execution_count": 219,
   "id": "national-jewelry",
   "metadata": {},
   "outputs": [],
   "source": [
    "def aug_translate(series, lang = 'fr'):\n",
    "    return translator.translate(list(series.values), lang_tgt=lang)\n",
    "#     return pd.Series(translator.translate(translations, lang_tgt='en'))\n"
   ]
  },
  {
   "cell_type": "code",
   "execution_count": 121,
   "id": "incorporated-korea",
   "metadata": {
    "scrolled": true
   },
   "outputs": [
    {
     "name": "stdout",
     "output_type": "stream",
     "text": [
      "ORIGINAL: \n",
      "If we don’t protect the ocean, humanitarian disaster awaits  https://t.co/IHaHBcRX9Z #actonclimate #sustainability #plastic #ethoslifestyle \n",
      "\n",
      "CLEANED: \n",
      "if we don t protect the ocean humanitarian disaster awaits actonclimate sustainability plastic ethoslifestyle\n"
     ]
    }
   ],
   "source": [
    "# create function to compare original text to cleaned text \n",
    "def check_cleaned(df, n = None):\n",
    "    if not n:\n",
    "        n = np.random.randint(0, len(df) - 1)\n",
    "    print(f\"ORIGINAL: \\n{df.iloc[n]['full_text']} \\n\")\n",
    "    print(f\"CLEANED: \\n{clean_and_lem(df.iloc[n]['full_text'])}\")\n",
    "    \n",
    "check_cleaned(to_train)"
   ]
  },
  {
   "cell_type": "markdown",
   "id": "opposed-clerk",
   "metadata": {},
   "source": [
    "### Augment minority class"
   ]
  },
  {
   "cell_type": "code",
   "execution_count": 177,
   "id": "induced-pollution",
   "metadata": {},
   "outputs": [],
   "source": [
    "to_aug = to_train[to_train['believer'] == 0]\n",
    "to_aug_ser = to_aug['full_text'].apply(lambda x: re_clean(x))"
   ]
  },
  {
   "cell_type": "code",
   "execution_count": 202,
   "id": "miniature-onion",
   "metadata": {},
   "outputs": [
    {
     "data": {
      "text/plain": [
       "112        as america burns from climatechange, trump off...\n",
       "2442                           maga kag cult45 wakethefuckup\n",
       "2941       exactly. and obama said the jobs would never c...\n",
       "3230       trump ineffective &amp; weak➡ nodealconman rea...\n",
       "3263       climate deniers are the first to shrug off glo...\n",
       "                                 ...                        \n",
       "1969173    i happen to be an american with a penis which ...\n",
       "1969284                                  👍 climatechangehoax\n",
       "1969495    and nobody is surprised because climate change...\n",
       "1969674                                                 maga\n",
       "1970131    under what us president was that report initia...\n",
       "Name: full_text, Length: 7608, dtype: object"
      ]
     },
     "execution_count": 202,
     "metadata": {},
     "output_type": "execute_result"
    }
   ],
   "source": [
    "to_aug_ser"
   ]
  },
  {
   "cell_type": "code",
   "execution_count": 193,
   "id": "pregnant-flower",
   "metadata": {},
   "outputs": [],
   "source": [
    "aug = pd.Series(dtype='object')\n",
    "for lang in ['fr', 'de', 'he', 'ja']:\n",
    "    aug = aug.append(aug_translate(to_aug_ser, lang))"
   ]
  },
  {
   "cell_type": "code",
   "execution_count": 197,
   "id": "important-ballet",
   "metadata": {},
   "outputs": [
    {
     "data": {
      "text/plain": [
       "\"112 as America burns due to climate change, trump off ... 2442 maga kag cult45 wakethefuckup 2941 exactly. and obama said jobs would never be c ... 3230 inefficient asset & amp; weak➡ nodealconman rea ... 3263 climate deniers are the first to ignore the glo ... ... 1969173 I'm an American with a penis that ... 1969284 👍 climate change 1969495 and no one is surprised because the change climate ... 1969674 maga 1970131 under which US president was this report initiated ... Name: full_text, Length: 7608, dtype: object \""
      ]
     },
     "execution_count": 197,
     "metadata": {},
     "output_type": "execute_result"
    }
   ],
   "source": [
    "aug.values[0]"
   ]
  },
  {
   "cell_type": "markdown",
   "id": "armed-intent",
   "metadata": {},
   "source": [
    "###### Clean Dataset text"
   ]
  },
  {
   "cell_type": "code",
   "execution_count": 322,
   "id": "resistant-baking",
   "metadata": {},
   "outputs": [],
   "source": [
    "X = to_train['full_text'].apply(lambda x: clean_and_lem(x))\n",
    "X = X.combine_first(denier_sup['full_text'].apply(lambda x: clean_and_lem(x))).reset_index()\n",
    "X = X.drop(columns='index')['full_text']"
   ]
  },
  {
   "cell_type": "code",
   "execution_count": 323,
   "id": "upset-brick",
   "metadata": {},
   "outputs": [],
   "source": [
    "# create target variable\n",
    "y = to_train['believer'].combine_first(denier_sup['believer'])\n",
    "y = y.reset_index().drop(columns='index')['believer']"
   ]
  },
  {
   "cell_type": "markdown",
   "id": "prescription-panama",
   "metadata": {},
   "source": [
    "# Tensorflow Setup"
   ]
  },
  {
   "cell_type": "code",
   "execution_count": 321,
   "id": "prime-minnesota",
   "metadata": {},
   "outputs": [
    {
     "name": "stdout",
     "output_type": "stream",
     "text": [
      "BERT model selected           : https://tfhub.dev/tensorflow/small_bert/bert_en_uncased_L-4_H-512_A-8/1\n",
      "Preprocess model auto-selected: https://tfhub.dev/tensorflow/bert_en_uncased_preprocess/3\n"
     ]
    }
   ],
   "source": [
    "bert_model_name = 'small_bert/bert_en_uncased_L-4_H-512_A-8' \n",
    "\n",
    "map_name_to_handle = {\n",
    "    'bert_en_uncased_L-12_H-768_A-12':\n",
    "        'https://tfhub.dev/tensorflow/bert_en_uncased_L-12_H-768_A-12/3',\n",
    "    'bert_en_cased_L-12_H-768_A-12':\n",
    "        'https://tfhub.dev/tensorflow/bert_en_cased_L-12_H-768_A-12/3',\n",
    "    'bert_multi_cased_L-12_H-768_A-12':\n",
    "        'https://tfhub.dev/tensorflow/bert_multi_cased_L-12_H-768_A-12/3',\n",
    "    'small_bert/bert_en_uncased_L-2_H-128_A-2':\n",
    "        'https://tfhub.dev/tensorflow/small_bert/bert_en_uncased_L-2_H-128_A-2/1',\n",
    "    'small_bert/bert_en_uncased_L-2_H-256_A-4':\n",
    "        'https://tfhub.dev/tensorflow/small_bert/bert_en_uncased_L-2_H-256_A-4/1',\n",
    "    'small_bert/bert_en_uncased_L-2_H-512_A-8':\n",
    "        'https://tfhub.dev/tensorflow/small_bert/bert_en_uncased_L-2_H-512_A-8/1',\n",
    "    'small_bert/bert_en_uncased_L-2_H-768_A-12':\n",
    "        'https://tfhub.dev/tensorflow/small_bert/bert_en_uncased_L-2_H-768_A-12/1',\n",
    "    'small_bert/bert_en_uncased_L-4_H-128_A-2':\n",
    "        'https://tfhub.dev/tensorflow/small_bert/bert_en_uncased_L-4_H-128_A-2/1',\n",
    "    'small_bert/bert_en_uncased_L-4_H-256_A-4':\n",
    "        'https://tfhub.dev/tensorflow/small_bert/bert_en_uncased_L-4_H-256_A-4/1',\n",
    "    'small_bert/bert_en_uncased_L-4_H-512_A-8':\n",
    "        'https://tfhub.dev/tensorflow/small_bert/bert_en_uncased_L-4_H-512_A-8/1',\n",
    "    'small_bert/bert_en_uncased_L-4_H-768_A-12':\n",
    "        'https://tfhub.dev/tensorflow/small_bert/bert_en_uncased_L-4_H-768_A-12/1',\n",
    "    'small_bert/bert_en_uncased_L-6_H-128_A-2':\n",
    "        'https://tfhub.dev/tensorflow/small_bert/bert_en_uncased_L-6_H-128_A-2/1',\n",
    "    'small_bert/bert_en_uncased_L-6_H-256_A-4':\n",
    "        'https://tfhub.dev/tensorflow/small_bert/bert_en_uncased_L-6_H-256_A-4/1',\n",
    "    'small_bert/bert_en_uncased_L-6_H-512_A-8':\n",
    "        'https://tfhub.dev/tensorflow/small_bert/bert_en_uncased_L-6_H-512_A-8/1',\n",
    "    'small_bert/bert_en_uncased_L-6_H-768_A-12':\n",
    "        'https://tfhub.dev/tensorflow/small_bert/bert_en_uncased_L-6_H-768_A-12/1',\n",
    "    'small_bert/bert_en_uncased_L-8_H-128_A-2':\n",
    "        'https://tfhub.dev/tensorflow/small_bert/bert_en_uncased_L-8_H-128_A-2/1',\n",
    "    'small_bert/bert_en_uncased_L-8_H-256_A-4':\n",
    "        'https://tfhub.dev/tensorflow/small_bert/bert_en_uncased_L-8_H-256_A-4/1',\n",
    "    'small_bert/bert_en_uncased_L-8_H-512_A-8':\n",
    "        'https://tfhub.dev/tensorflow/small_bert/bert_en_uncased_L-8_H-512_A-8/1',\n",
    "    'small_bert/bert_en_uncased_L-8_H-768_A-12':\n",
    "        'https://tfhub.dev/tensorflow/small_bert/bert_en_uncased_L-8_H-768_A-12/1',\n",
    "    'small_bert/bert_en_uncased_L-10_H-128_A-2':\n",
    "        'https://tfhub.dev/tensorflow/small_bert/bert_en_uncased_L-10_H-128_A-2/1',\n",
    "    'small_bert/bert_en_uncased_L-10_H-256_A-4':\n",
    "        'https://tfhub.dev/tensorflow/small_bert/bert_en_uncased_L-10_H-256_A-4/1',\n",
    "    'small_bert/bert_en_uncased_L-10_H-512_A-8':\n",
    "        'https://tfhub.dev/tensorflow/small_bert/bert_en_uncased_L-10_H-512_A-8/1',\n",
    "    'small_bert/bert_en_uncased_L-10_H-768_A-12':\n",
    "        'https://tfhub.dev/tensorflow/small_bert/bert_en_uncased_L-10_H-768_A-12/1',\n",
    "    'small_bert/bert_en_uncased_L-12_H-128_A-2':\n",
    "        'https://tfhub.dev/tensorflow/small_bert/bert_en_uncased_L-12_H-128_A-2/1',\n",
    "    'small_bert/bert_en_uncased_L-12_H-256_A-4':\n",
    "        'https://tfhub.dev/tensorflow/small_bert/bert_en_uncased_L-12_H-256_A-4/1',\n",
    "    'small_bert/bert_en_uncased_L-12_H-512_A-8':\n",
    "        'https://tfhub.dev/tensorflow/small_bert/bert_en_uncased_L-12_H-512_A-8/1',\n",
    "    'small_bert/bert_en_uncased_L-12_H-768_A-12':\n",
    "        'https://tfhub.dev/tensorflow/small_bert/bert_en_uncased_L-12_H-768_A-12/1',\n",
    "    'albert_en_base':\n",
    "        'https://tfhub.dev/tensorflow/albert_en_base/2',\n",
    "    'electra_small':\n",
    "        'https://tfhub.dev/google/electra_small/2',\n",
    "    'electra_base':\n",
    "        'https://tfhub.dev/google/electra_base/2',\n",
    "    'experts_pubmed':\n",
    "        'https://tfhub.dev/google/experts/bert/pubmed/2',\n",
    "    'experts_wiki_books':\n",
    "        'https://tfhub.dev/google/experts/bert/wiki_books/2',\n",
    "    'talking-heads_base':\n",
    "        'https://tfhub.dev/tensorflow/talkheads_ggelu_bert_en_base/1',\n",
    "}\n",
    "\n",
    "map_model_to_preprocess = {\n",
    "    'bert_en_uncased_L-12_H-768_A-12':\n",
    "        'https://tfhub.dev/tensorflow/bert_en_uncased_preprocess/3',\n",
    "    'bert_en_cased_L-12_H-768_A-12':\n",
    "        'https://tfhub.dev/tensorflow/bert_en_cased_preprocess/3',\n",
    "    'small_bert/bert_en_uncased_L-2_H-128_A-2':\n",
    "        'https://tfhub.dev/tensorflow/bert_en_uncased_preprocess/3',\n",
    "    'small_bert/bert_en_uncased_L-2_H-256_A-4':\n",
    "        'https://tfhub.dev/tensorflow/bert_en_uncased_preprocess/3',\n",
    "    'small_bert/bert_en_uncased_L-2_H-512_A-8':\n",
    "        'https://tfhub.dev/tensorflow/bert_en_uncased_preprocess/3',\n",
    "    'small_bert/bert_en_uncased_L-2_H-768_A-12':\n",
    "        'https://tfhub.dev/tensorflow/bert_en_uncased_preprocess/3',\n",
    "    'small_bert/bert_en_uncased_L-4_H-128_A-2':\n",
    "        'https://tfhub.dev/tensorflow/bert_en_uncased_preprocess/3',\n",
    "    'small_bert/bert_en_uncased_L-4_H-256_A-4':\n",
    "        'https://tfhub.dev/tensorflow/bert_en_uncased_preprocess/3',\n",
    "    'small_bert/bert_en_uncased_L-4_H-512_A-8':\n",
    "        'https://tfhub.dev/tensorflow/bert_en_uncased_preprocess/3',\n",
    "    'small_bert/bert_en_uncased_L-4_H-768_A-12':\n",
    "        'https://tfhub.dev/tensorflow/bert_en_uncased_preprocess/3',\n",
    "    'small_bert/bert_en_uncased_L-6_H-128_A-2':\n",
    "        'https://tfhub.dev/tensorflow/bert_en_uncased_preprocess/3',\n",
    "    'small_bert/bert_en_uncased_L-6_H-256_A-4':\n",
    "        'https://tfhub.dev/tensorflow/bert_en_uncased_preprocess/3',\n",
    "    'small_bert/bert_en_uncased_L-6_H-512_A-8':\n",
    "        'https://tfhub.dev/tensorflow/bert_en_uncased_preprocess/3',\n",
    "    'small_bert/bert_en_uncased_L-6_H-768_A-12':\n",
    "        'https://tfhub.dev/tensorflow/bert_en_uncased_preprocess/3',\n",
    "    'small_bert/bert_en_uncased_L-8_H-128_A-2':\n",
    "        'https://tfhub.dev/tensorflow/bert_en_uncased_preprocess/3',\n",
    "    'small_bert/bert_en_uncased_L-8_H-256_A-4':\n",
    "        'https://tfhub.dev/tensorflow/bert_en_uncased_preprocess/3',\n",
    "    'small_bert/bert_en_uncased_L-8_H-512_A-8':\n",
    "        'https://tfhub.dev/tensorflow/bert_en_uncased_preprocess/3',\n",
    "    'small_bert/bert_en_uncased_L-8_H-768_A-12':\n",
    "        'https://tfhub.dev/tensorflow/bert_en_uncased_preprocess/3',\n",
    "    'small_bert/bert_en_uncased_L-10_H-128_A-2':\n",
    "        'https://tfhub.dev/tensorflow/bert_en_uncased_preprocess/3',\n",
    "    'small_bert/bert_en_uncased_L-10_H-256_A-4':\n",
    "        'https://tfhub.dev/tensorflow/bert_en_uncased_preprocess/3',\n",
    "    'small_bert/bert_en_uncased_L-10_H-512_A-8':\n",
    "        'https://tfhub.dev/tensorflow/bert_en_uncased_preprocess/3',\n",
    "    'small_bert/bert_en_uncased_L-10_H-768_A-12':\n",
    "        'https://tfhub.dev/tensorflow/bert_en_uncased_preprocess/3',\n",
    "    'small_bert/bert_en_uncased_L-12_H-128_A-2':\n",
    "        'https://tfhub.dev/tensorflow/bert_en_uncased_preprocess/3',\n",
    "    'small_bert/bert_en_uncased_L-12_H-256_A-4':\n",
    "        'https://tfhub.dev/tensorflow/bert_en_uncased_preprocess/3',\n",
    "    'small_bert/bert_en_uncased_L-12_H-512_A-8':\n",
    "        'https://tfhub.dev/tensorflow/bert_en_uncased_preprocess/3',\n",
    "    'small_bert/bert_en_uncased_L-12_H-768_A-12':\n",
    "        'https://tfhub.dev/tensorflow/bert_en_uncased_preprocess/3',\n",
    "    'bert_multi_cased_L-12_H-768_A-12':\n",
    "        'https://tfhub.dev/tensorflow/bert_multi_cased_preprocess/3',\n",
    "    'albert_en_base':\n",
    "        'https://tfhub.dev/tensorflow/albert_en_preprocess/2',\n",
    "    'electra_small':\n",
    "        'https://tfhub.dev/tensorflow/bert_en_uncased_preprocess/3',\n",
    "    'electra_base':\n",
    "        'https://tfhub.dev/tensorflow/bert_en_uncased_preprocess/3',\n",
    "    'experts_pubmed':\n",
    "        'https://tfhub.dev/tensorflow/bert_en_uncased_preprocess/3',\n",
    "    'experts_wiki_books':\n",
    "        'https://tfhub.dev/tensorflow/bert_en_uncased_preprocess/3',\n",
    "    'talking-heads_base':\n",
    "        'https://tfhub.dev/tensorflow/bert_en_uncased_preprocess/3',\n",
    "}\n",
    "\n",
    "tfhub_handle_encoder = map_name_to_handle[bert_model_name]\n",
    "tfhub_handle_preprocess = map_model_to_preprocess[bert_model_name]\n",
    "\n",
    "print(f'BERT model selected           : {tfhub_handle_encoder}')\n",
    "print(f'Preprocess model auto-selected: {tfhub_handle_preprocess}')"
   ]
  },
  {
   "cell_type": "code",
   "execution_count": 362,
   "id": "legendary-penny",
   "metadata": {},
   "outputs": [],
   "source": [
    "bert_preproc_model = hub.KerasLayer(tfhub_handle_preprocess)"
   ]
  },
  {
   "cell_type": "code",
   "execution_count": 364,
   "id": "pregnant-species",
   "metadata": {},
   "outputs": [
    {
     "name": "stdout",
     "output_type": "stream",
     "text": [
      "Keys       : ['input_mask', 'input_word_ids', 'input_type_ids']\n",
      "Shape      : (1, 128)\n",
      "Word Ids   : [  101  5698  8609  2015  1998 21633  2064 11891  2026 12264   999   102]\n",
      "Input Mask : [1 1 1 1 1 1 1 1 1 1 1 1]\n",
      "Type Ids   : [0 0 0 0 0 0 0 0 0 0 0 0]\n"
     ]
    }
   ],
   "source": [
    "text_test = ['demonrats and socialists can suck my NUTS!']\n",
    "text_preprocessed = bert_preproc_model(text_test)\n",
    "\n",
    "print(f'Keys       : {list(text_preprocessed.keys())}')\n",
    "print(f'Shape      : {text_preprocessed[\"input_word_ids\"].shape}')\n",
    "print(f'Word Ids   : {text_preprocessed[\"input_word_ids\"][0, :12]}')\n",
    "print(f'Input Mask : {text_preprocessed[\"input_mask\"][0, :12]}')\n",
    "print(f'Type Ids   : {text_preprocessed[\"input_type_ids\"][0, :12]}')"
   ]
  },
  {
   "cell_type": "code",
   "execution_count": 365,
   "id": "responsible-rental",
   "metadata": {},
   "outputs": [],
   "source": [
    "bert_model = hub.KerasLayer(tfhub_handle_encoder)"
   ]
  },
  {
   "cell_type": "code",
   "execution_count": 366,
   "id": "fitting-louis",
   "metadata": {},
   "outputs": [
    {
     "name": "stdout",
     "output_type": "stream",
     "text": [
      "Loaded BERT: https://tfhub.dev/tensorflow/small_bert/bert_en_uncased_L-4_H-512_A-8/1\n",
      "Pooled Outputs Shape:(1, 512)\n",
      "Pooled Outputs Values:[ 0.99749804  0.9812726  -0.2898885   0.39768592  0.49177584  0.9768472\n",
      "  0.9226435  -0.9924398  -0.17234612 -0.99997014  0.21662796 -0.97873706]\n",
      "Sequence Outputs Shape:(1, 128, 512)\n",
      "Sequence Outputs Values:[[-0.25584012  0.35272896  0.59879047 ...  0.38786954  1.0247763\n",
      "  -0.6205202 ]\n",
      " [-0.7916309  -0.38749823 -0.6235306  ...  0.4690785   0.69441974\n",
      "  -1.2302462 ]\n",
      " [-0.7248048   0.34807992  0.37328333 ... -0.31314588 -0.182555\n",
      "  -1.3119643 ]\n",
      " ...\n",
      " [ 0.3742215   0.28487277  0.20059386 ...  1.2155709   0.7478977\n",
      "  -0.11620176]\n",
      " [-0.16321982  0.46122897 -0.44670823 ...  0.4178916   1.5381445\n",
      "  -0.35106403]\n",
      " [-0.20441365  0.12464243  0.7043996  ...  0.48213255  1.3916949\n",
      "  -0.6871477 ]]\n"
     ]
    }
   ],
   "source": [
    "bert_results = bert_model(text_preprocessed)\n",
    "\n",
    "print(f'Loaded BERT: {tfhub_handle_encoder}')\n",
    "print(f'Pooled Outputs Shape:{bert_results[\"pooled_output\"].shape}')\n",
    "print(f'Pooled Outputs Values:{bert_results[\"pooled_output\"][0, :12]}')\n",
    "print(f'Sequence Outputs Shape:{bert_results[\"sequence_output\"].shape}')\n",
    "print(f'Sequence Outputs Values:{bert_results[\"sequence_output\"][0, :12]}')"
   ]
  },
  {
   "cell_type": "code",
   "execution_count": 367,
   "id": "wireless-number",
   "metadata": {},
   "outputs": [],
   "source": [
    "# from tensorflow documentation\n",
    "def bert_clf():\n",
    "    text_input = tf.keras.layers.Input(shape=(), dtype=tf.string, name='text')\n",
    "    preprocessing_layer = hub.KerasLayer(tfhub_handle_preprocess, name='preprocessing')\n",
    "    encoder_inputs = preprocessing_layer(text_input)\n",
    "    encoder = hub.KerasLayer(tfhub_handle_encoder, trainable=True, name='BERT_encoder')\n",
    "    outputs = encoder(encoder_inputs)\n",
    "    net = outputs['pooled_output']\n",
    "    net = tf.keras.layers.Dropout(0.1)(net)\n",
    "    net = tf.keras.layers.Dense(1, activation=None, name='classifier')(net)\n",
    "    return tf.keras.Model(text_input, net)"
   ]
  },
  {
   "cell_type": "code",
   "execution_count": 370,
   "id": "domestic-mount",
   "metadata": {},
   "outputs": [
    {
     "name": "stdout",
     "output_type": "stream",
     "text": [
      "tf.Tensor([[0.10052353]], shape=(1, 1), dtype=float32)\n"
     ]
    }
   ],
   "source": [
    "bert_model_clf = bert_clf()\n",
    "bert_raw = bert_model_clf(tf.constant(text_test))\n",
    "print(tf.sigmoid(bert_raw))"
   ]
  },
  {
   "cell_type": "code",
   "execution_count": 371,
   "id": "medical-bonus",
   "metadata": {},
   "outputs": [],
   "source": [
    "loss = tf.keras.losses.BinaryCrossentropy(from_logits=True)\n",
    "tf_acc = tf.metrics.BinaryAccuracy()\n",
    "tf_recall = tf.metrics.Recall()\n",
    "tf_auc = tf.metrics.AUC()"
   ]
  },
  {
   "cell_type": "code",
   "execution_count": 373,
   "id": "promising-lightweight",
   "metadata": {},
   "outputs": [
    {
     "ename": "AttributeError",
     "evalue": "'Series' object has no attribute '_variant_tensor'",
     "output_type": "error",
     "traceback": [
      "\u001b[0;31m---------------------------------------------------------------------------\u001b[0m",
      "\u001b[0;31mAttributeError\u001b[0m                            Traceback (most recent call last)",
      "\u001b[0;32m<ipython-input-373-7ed1a569f9ac>\u001b[0m in \u001b[0;36m<module>\u001b[0;34m()\u001b[0m\n\u001b[1;32m      1\u001b[0m \u001b[0mepochs\u001b[0m \u001b[0;34m=\u001b[0m \u001b[0;36m5\u001b[0m\u001b[0;34m\u001b[0m\u001b[0;34m\u001b[0m\u001b[0m\n\u001b[0;32m----> 2\u001b[0;31m \u001b[0msteps_per_epoch\u001b[0m \u001b[0;34m=\u001b[0m \u001b[0mtf\u001b[0m\u001b[0;34m.\u001b[0m\u001b[0mdata\u001b[0m\u001b[0;34m.\u001b[0m\u001b[0mexperimental\u001b[0m\u001b[0;34m.\u001b[0m\u001b[0mcardinality\u001b[0m\u001b[0;34m(\u001b[0m\u001b[0mX_train\u001b[0m\u001b[0;34m)\u001b[0m\u001b[0;34m.\u001b[0m\u001b[0mnumpy\u001b[0m\u001b[0;34m(\u001b[0m\u001b[0;34m)\u001b[0m\u001b[0;34m\u001b[0m\u001b[0;34m\u001b[0m\u001b[0m\n\u001b[0m\u001b[1;32m      3\u001b[0m \u001b[0mnum_train_steps\u001b[0m \u001b[0;34m=\u001b[0m \u001b[0msteps_per_epoch\u001b[0m \u001b[0;34m*\u001b[0m \u001b[0mepochs\u001b[0m\u001b[0;34m\u001b[0m\u001b[0;34m\u001b[0m\u001b[0m\n\u001b[1;32m      4\u001b[0m \u001b[0mnum_warmup_steps\u001b[0m \u001b[0;34m=\u001b[0m \u001b[0mint\u001b[0m\u001b[0;34m(\u001b[0m\u001b[0;36m0.1\u001b[0m\u001b[0;34m*\u001b[0m\u001b[0mnum_train_steps\u001b[0m\u001b[0;34m)\u001b[0m\u001b[0;34m\u001b[0m\u001b[0;34m\u001b[0m\u001b[0m\n\u001b[1;32m      5\u001b[0m \u001b[0;34m\u001b[0m\u001b[0m\n",
      "\u001b[0;32m/Users/browz/opt/anaconda3/envs/ds01/lib/python3.6/site-packages/tensorflow/python/data/experimental/ops/cardinality.py\u001b[0m in \u001b[0;36mcardinality\u001b[0;34m(dataset)\u001b[0m\n\u001b[1;32m     66\u001b[0m   \"\"\"\n\u001b[1;32m     67\u001b[0m \u001b[0;34m\u001b[0m\u001b[0m\n\u001b[0;32m---> 68\u001b[0;31m   \u001b[0;32mreturn\u001b[0m \u001b[0mgen_dataset_ops\u001b[0m\u001b[0;34m.\u001b[0m\u001b[0mdataset_cardinality\u001b[0m\u001b[0;34m(\u001b[0m\u001b[0mdataset\u001b[0m\u001b[0;34m.\u001b[0m\u001b[0m_variant_tensor\u001b[0m\u001b[0;34m)\u001b[0m  \u001b[0;31m# pylint: disable=protected-access\u001b[0m\u001b[0;34m\u001b[0m\u001b[0;34m\u001b[0m\u001b[0m\n\u001b[0m\u001b[1;32m     69\u001b[0m \u001b[0;34m\u001b[0m\u001b[0m\n\u001b[1;32m     70\u001b[0m \u001b[0;34m\u001b[0m\u001b[0m\n",
      "\u001b[0;32m/Users/browz/opt/anaconda3/envs/ds01/lib/python3.6/site-packages/pandas/core/generic.py\u001b[0m in \u001b[0;36m__getattr__\u001b[0;34m(self, name)\u001b[0m\n\u001b[1;32m   5137\u001b[0m             \u001b[0;32mif\u001b[0m \u001b[0mself\u001b[0m\u001b[0;34m.\u001b[0m\u001b[0m_info_axis\u001b[0m\u001b[0;34m.\u001b[0m\u001b[0m_can_hold_identifiers_and_holds_name\u001b[0m\u001b[0;34m(\u001b[0m\u001b[0mname\u001b[0m\u001b[0;34m)\u001b[0m\u001b[0;34m:\u001b[0m\u001b[0;34m\u001b[0m\u001b[0;34m\u001b[0m\u001b[0m\n\u001b[1;32m   5138\u001b[0m                 \u001b[0;32mreturn\u001b[0m \u001b[0mself\u001b[0m\u001b[0;34m[\u001b[0m\u001b[0mname\u001b[0m\u001b[0;34m]\u001b[0m\u001b[0;34m\u001b[0m\u001b[0;34m\u001b[0m\u001b[0m\n\u001b[0;32m-> 5139\u001b[0;31m             \u001b[0;32mreturn\u001b[0m \u001b[0mobject\u001b[0m\u001b[0;34m.\u001b[0m\u001b[0m__getattribute__\u001b[0m\u001b[0;34m(\u001b[0m\u001b[0mself\u001b[0m\u001b[0;34m,\u001b[0m \u001b[0mname\u001b[0m\u001b[0;34m)\u001b[0m\u001b[0;34m\u001b[0m\u001b[0;34m\u001b[0m\u001b[0m\n\u001b[0m\u001b[1;32m   5140\u001b[0m \u001b[0;34m\u001b[0m\u001b[0m\n\u001b[1;32m   5141\u001b[0m     \u001b[0;32mdef\u001b[0m \u001b[0m__setattr__\u001b[0m\u001b[0;34m(\u001b[0m\u001b[0mself\u001b[0m\u001b[0;34m,\u001b[0m \u001b[0mname\u001b[0m\u001b[0;34m:\u001b[0m \u001b[0mstr\u001b[0m\u001b[0;34m,\u001b[0m \u001b[0mvalue\u001b[0m\u001b[0;34m)\u001b[0m \u001b[0;34m->\u001b[0m \u001b[0;32mNone\u001b[0m\u001b[0;34m:\u001b[0m\u001b[0;34m\u001b[0m\u001b[0;34m\u001b[0m\u001b[0m\n",
      "\u001b[0;31mAttributeError\u001b[0m: 'Series' object has no attribute '_variant_tensor'"
     ]
    }
   ],
   "source": [
    "epochs = 5\n",
    "steps_per_epoch = tf.data.experimental.cardinality(X_train).numpy()\n",
    "num_train_steps = steps_per_epoch * epochs\n",
    "num_warmup_steps = int(0.1*num_train_steps)\n",
    "\n",
    "init_lr = 3e-5\n",
    "optimizer = optimization.create_optimizer(init_lr=init_lr,\n",
    "                                          num_train_steps=num_train_steps,\n",
    "                                          num_warmup_steps=num_warmup_steps,\n",
    "                                          optimizer_type='adamw')\n"
   ]
  },
  {
   "cell_type": "markdown",
   "id": "scenic-torture",
   "metadata": {},
   "source": [
    "## TF-IDF Vectorizer Modeling"
   ]
  },
  {
   "cell_type": "code",
   "execution_count": 324,
   "id": "ultimate-horse",
   "metadata": {},
   "outputs": [],
   "source": [
    "# train test split with stratification to account for class imbalance\n",
    "X_train, X_test, y_train, y_test = train_test_split(X, y, stratify=y)"
   ]
  },
  {
   "cell_type": "code",
   "execution_count": 325,
   "id": "meaningful-receiver",
   "metadata": {},
   "outputs": [],
   "source": [
    "# create dictionary holding class imbalnce\n",
    "class_weights = dict(y.value_counts(normalize=True))"
   ]
  },
  {
   "cell_type": "code",
   "execution_count": 326,
   "id": "controversial-australian",
   "metadata": {},
   "outputs": [],
   "source": [
    "# create TD-IDF to RandomForest pipeline. Set fixed parameters\n",
    "pipeline = Pipeline([('tfidf', TfidfVectorizer(stop_words=stopwords_list)),\n",
    "                     ('clf', RandomForestClassifier(class_weight=class_weights))])"
   ]
  },
  {
   "cell_type": "code",
   "execution_count": 327,
   "id": "sudden-munich",
   "metadata": {},
   "outputs": [],
   "source": [
    "grid_params2 = {'clf__criterion': ['entropy'], 'clf__max_depth': [None], 'clf__n_estimators': [100]}"
   ]
  },
  {
   "cell_type": "code",
   "execution_count": 328,
   "id": "front-transportation",
   "metadata": {},
   "outputs": [],
   "source": [
    "# create grid search parameters\n",
    "grid_params = {'clf__n_estimators': [100, 450, 800],\n",
    "               'clf__criterion': ['gini', 'entropy'],\n",
    "               'clf__max_depth': [None, 6, 10]}"
   ]
  },
  {
   "cell_type": "code",
   "execution_count": 329,
   "id": "occasional-lease",
   "metadata": {},
   "outputs": [
    {
     "data": {
      "text/plain": [
       "GridSearchCV(estimator=Pipeline(steps=[('tfidf',\n",
       "                                        TfidfVectorizer(stop_words=['i', 'me',\n",
       "                                                                    'my',\n",
       "                                                                    'myself',\n",
       "                                                                    'we', 'our',\n",
       "                                                                    'ours',\n",
       "                                                                    'ourselves',\n",
       "                                                                    'you',\n",
       "                                                                    \"you're\",\n",
       "                                                                    \"you've\",\n",
       "                                                                    \"you'll\",\n",
       "                                                                    \"you'd\",\n",
       "                                                                    'your',\n",
       "                                                                    'yours',\n",
       "                                                                    'yourself',\n",
       "                                                                    'yourselves',\n",
       "                                                                    'he', 'him',\n",
       "                                                                    'his',\n",
       "                                                                    'himself',\n",
       "                                                                    'she',\n",
       "                                                                    \"she's\",\n",
       "                                                                    'her',\n",
       "                                                                    'hers',\n",
       "                                                                    'herself',\n",
       "                                                                    'it',\n",
       "                                                                    \"it's\",\n",
       "                                                                    'its',\n",
       "                                                                    'itself', ...])),\n",
       "                                       ('clf',\n",
       "                                        RandomForestClassifier(class_weight={0.0: 0.2040640823195368,\n",
       "                                                                             1.0: 0.7959359176804632}))]),\n",
       "             n_jobs=-1,\n",
       "             param_grid={'clf__criterion': ['entropy'],\n",
       "                         'clf__max_depth': [None], 'clf__n_estimators': [100]})"
      ]
     },
     "execution_count": 329,
     "metadata": {},
     "output_type": "execute_result"
    }
   ],
   "source": [
    "# Instantiate gridsearch object \n",
    "gridsearch = GridSearchCV(pipeline, param_grid=grid_params2, n_jobs = -1)\n",
    "# fit to training set\n",
    "gridsearch.fit(X_train, y_train)"
   ]
  },
  {
   "cell_type": "code",
   "execution_count": 330,
   "id": "concrete-logging",
   "metadata": {},
   "outputs": [
    {
     "data": {
      "text/plain": [
       "{'clf__criterion': 'entropy', 'clf__max_depth': None, 'clf__n_estimators': 100}"
      ]
     },
     "execution_count": 330,
     "metadata": {},
     "output_type": "execute_result"
    }
   ],
   "source": [
    "gridsearch.best_params_"
   ]
  },
  {
   "cell_type": "code",
   "execution_count": 331,
   "id": "plastic-classic",
   "metadata": {},
   "outputs": [
    {
     "data": {
      "text/plain": [
       "0.911128903122498"
      ]
     },
     "execution_count": 331,
     "metadata": {},
     "output_type": "execute_result"
    }
   ],
   "source": [
    "# show pipeline accuracy score for best parameters\n",
    "gridsearch.score(X_test, y_test)"
   ]
  },
  {
   "cell_type": "code",
   "execution_count": 332,
   "id": "alternative-dallas",
   "metadata": {},
   "outputs": [],
   "source": [
    "# generate predictions \n",
    "y_pred_train = gridsearch.predict(X_train)\n",
    "y_pred = gridsearch.predict(X_test)"
   ]
  },
  {
   "cell_type": "code",
   "execution_count": 333,
   "id": "incorporated-gibson",
   "metadata": {},
   "outputs": [
    {
     "name": "stdout",
     "output_type": "stream",
     "text": [
      "Train Accuracy: 0.9693\n",
      "Train F1 Score: 0.9811\n",
      "------------------------------\n",
      "Test Accuracy:  0.9111\n",
      "Test F1 Score:  0.9465\n"
     ]
    }
   ],
   "source": [
    "# compare F1 and Accuracy scores to check for overfitting \n",
    "print(f'Train Accuracy: {round(accuracy_score(y_train, y_pred_train), 4)}')\n",
    "print(f'Train F1 Score: {round(f1_score(y_train, y_pred_train), 4)}')\n",
    "print('-----'*6)\n",
    "print(f'Test Accuracy:  {round(accuracy_score(y_test, y_pred), 4)}')\n",
    "print(f'Test F1 Score:  {round(f1_score(y_test, y_pred), 4)}')"
   ]
  },
  {
   "cell_type": "code",
   "execution_count": 357,
   "id": "relative-coupon",
   "metadata": {},
   "outputs": [
    {
     "data": {
      "image/png": "[encoded data removed]",
      "text/plain": [
       "<Figure size 432x288 with 2 Axes>"
      ]
     },
     "metadata": {
      "needs_background": "light"
     },
     "output_type": "display_data"
    }
   ],
   "source": [
    "# visualize confusion matrix\n",
    "con_mat = confusion_matrix(y_test, y_pred, normalize='true')\n",
    "display = ConfusionMatrixDisplay(con_mat, display_labels=['denier', 'believer']).plot()"
   ]
  },
  {
   "cell_type": "markdown",
   "id": "cognitive-parks",
   "metadata": {},
   "source": [
    "\n",
    "# Test on external dataset\n",
    "\n",
    "A dataset from kaggle with labeled tweets as climate deniers or believers is imported for further validation of model\n",
    "\n",
    "https://www.kaggle.com/edqian/twitter-climate-change-sentiment-dataset"
   ]
  },
  {
   "cell_type": "code",
   "execution_count": 335,
   "id": "functioning-adaptation",
   "metadata": {},
   "outputs": [],
   "source": [
    "val_df = pd.read_csv('data/twitter_sentiment_data.csv')"
   ]
  },
  {
   "cell_type": "code",
   "execution_count": 336,
   "id": "black-stadium",
   "metadata": {},
   "outputs": [],
   "source": [
    "# re-map sentiment array to match existing model\n",
    "\n",
    "cond_list = [val_df['sentiment'] == -1, \n",
    "             val_df['sentiment'] == 0,\n",
    "             val_df['sentiment'] == 1,\n",
    "             val_df['sentiment'] == 2]\n",
    "\n",
    "choice_list = [0, None, val_df['sentiment'], None]\n",
    "\n",
    "val_df['sentiment'] = np.select(cond_list, choice_list, 10)"
   ]
  },
  {
   "cell_type": "code",
   "execution_count": 337,
   "id": "alpha-johnson",
   "metadata": {},
   "outputs": [
    {
     "data": {
      "text/plain": [
       "1    22962\n",
       "0     3990\n",
       "Name: sentiment, dtype: int64"
      ]
     },
     "execution_count": 337,
     "metadata": {},
     "output_type": "execute_result"
    }
   ],
   "source": [
    "# check for errors\n",
    "val_df['sentiment'].value_counts()"
   ]
  },
  {
   "cell_type": "code",
   "execution_count": 338,
   "id": "funky-printer",
   "metadata": {},
   "outputs": [],
   "source": [
    "# check for matching tweets across datasets\n",
    "count = 0\n",
    "for id_ in val_df['tweetid']:\n",
    "    if id_ in tweets['id']:\n",
    "        count += 1\n",
    "        print(id_)"
   ]
  },
  {
   "cell_type": "code",
   "execution_count": 339,
   "id": "color-russia",
   "metadata": {
    "scrolled": true
   },
   "outputs": [],
   "source": [
    "# remove rows without usable ground truth\n",
    "val_df_sub = val_df.dropna(subset = ['sentiment'])\n",
    "\n",
    "# remove retweets\n",
    "val_df_sub = val_df_sub[~val_df_sub['message'].str.startswith('RT ')]"
   ]
  },
  {
   "cell_type": "code",
   "execution_count": 348,
   "id": "nominated-joint",
   "metadata": {},
   "outputs": [],
   "source": [
    "# clean tweets\n",
    "val_processed_text = val_df_sub['message'].apply(lambda x: clean_and_lem(x))"
   ]
  },
  {
   "cell_type": "code",
   "execution_count": 349,
   "id": "experienced-impression",
   "metadata": {},
   "outputs": [],
   "source": [
    "# make predictions on validation data\n",
    "val_predict = gridsearch.predict(val_processed_text)\n",
    "y = val_df_sub['sentiment'].astype(int)"
   ]
  },
  {
   "cell_type": "code",
   "execution_count": 356,
   "id": "environmental-grain",
   "metadata": {},
   "outputs": [
    {
     "name": "stdout",
     "output_type": "stream",
     "text": [
      "Accuracy Score :      0.8287\n",
      "Validation F1 Score : 0.8977\n"
     ]
    },
    {
     "data": {
      "image/png": "[encoded data removed]",
      "text/plain": [
       "<Figure size 432x288 with 2 Axes>"
      ]
     },
     "metadata": {
      "needs_background": "light"
     },
     "output_type": "display_data"
    }
   ],
   "source": [
    "print(f\"Accuracy Score :      {round(accuracy_score(y, val_predict), 4)}\")\n",
    "print(f\"Validation F1 Score : {round(f1_score(y, val_predict), 4)}\")\n",
    "\n",
    "ConfusionMatrixDisplay(confusion_matrix(y, val_predict, normalize='true'), display_labels=['denier', 'believer']).plot();"
   ]
  },
  {
   "cell_type": "markdown",
   "id": "conditional-float",
   "metadata": {},
   "source": [
    "## Apply Classifier to remainder dataset\n",
    "\n",
    "Run the entire dataset through the gridsearch pipeline to make predictions on each tweet"
   ]
  },
  {
   "cell_type": "code",
   "execution_count": 343,
   "id": "crude-developer",
   "metadata": {},
   "outputs": [],
   "source": [
    "# remove irrelevant response tweets\n",
    "tweets_final = tweets[tweets['in_reply_to_screen_name'].isna()]"
   ]
  },
  {
   "cell_type": "code",
   "execution_count": 344,
   "id": "stupid-mounting",
   "metadata": {},
   "outputs": [
    {
     "name": "stderr",
     "output_type": "stream",
     "text": [
      "/Users/browz/opt/anaconda3/envs/ds01/lib/python3.6/site-packages/ipykernel_launcher.py:2: SettingWithCopyWarning: \n",
      "A value is trying to be set on a copy of a slice from a DataFrame.\n",
      "Try using .loc[row_indexer,col_indexer] = value instead\n",
      "\n",
      "See the caveats in the documentation: https://pandas.pydata.org/pandas-docs/stable/user_guide/indexing.html#returning-a-view-versus-a-copy\n",
      "  \n"
     ]
    }
   ],
   "source": [
    "# prepare tweets for model\n",
    "tweets_final['clean_text'] = tweets_final['full_text'].apply(lambda x: clean_and_lem(x)) \n",
    "tweets_final = tweets_final[tweets_final.clean_text.str.strip() != '']\n",
    "tweets_final = tweets_final[tweets_final.clean_text.str.strip() != ' ']\n",
    "# run text through model\n",
    "tweets_final['believer_pred'] = gridsearch.predict(tweets_final['clean_text'])"
   ]
  },
  {
   "cell_type": "code",
   "execution_count": 345,
   "id": "proof-twelve",
   "metadata": {},
   "outputs": [
    {
     "data": {
      "text/plain": [
       "1.0    0.941702\n",
       "0.0    0.058298\n",
       "Name: believer_pred, dtype: float64"
      ]
     },
     "execution_count": 345,
     "metadata": {},
     "output_type": "execute_result"
    }
   ],
   "source": [
    "tweets_final['believer_pred'].value_counts(normalize=True)"
   ]
  },
  {
   "cell_type": "code",
   "execution_count": null,
   "id": "sixth-universal",
   "metadata": {},
   "outputs": [],
   "source": []
  },
  {
   "cell_type": "code",
   "execution_count": 346,
   "id": "indonesian-lighter",
   "metadata": {},
   "outputs": [],
   "source": [
    "# sanity check on predictions\n",
    "def check_pred(df, n=None):\n",
    "    if n == None:\n",
    "        n = np.random.randint(0,len(df)-1)\n",
    "    print(df.iloc[n]['full_text'], '\\n', df.iloc[n]['believer_pred'])\n",
    "    print(f'https://twitter.com/{df.iloc[n][\"screen_names\"]}/status/{df.iloc[n][\"id\"]}')"
   ]
  },
  {
   "cell_type": "code",
   "execution_count": 347,
   "id": "corrected-abuse",
   "metadata": {},
   "outputs": [
    {
     "name": "stdout",
     "output_type": "stream",
     "text": [
      "Hilarious https://t.co/b1WsrQ7VxZ \n",
      " 0.0\n",
      "https://twitter.com/Ilook4truth/status/1041446527036780544\n"
     ]
    }
   ],
   "source": [
    "check_pred(tweets_final[tweets_final['believer_pred']==0])"
   ]
  },
  {
   "cell_type": "markdown",
   "id": "brutal-liberal",
   "metadata": {},
   "source": [
    "# Sentiment Analysis"
   ]
  },
  {
   "cell_type": "code",
   "execution_count": 374,
   "id": "identified-scientist",
   "metadata": {},
   "outputs": [],
   "source": [
    "def sentiment_score(sentence): \n",
    "  \n",
    "    # Instntiate SentimentIntensityAnalyzer object\n",
    "    sid_obj = SentimentIntensityAnalyzer() \n",
    "  \n",
    "    # store scoring data in dictionary  \n",
    "    sentiment_dict = sid_obj.polarity_scores(sentence) \n",
    "    \n",
    "    return sentiment_dict['compound']"
   ]
  },
  {
   "cell_type": "code",
   "execution_count": null,
   "id": "clinical-brass",
   "metadata": {},
   "outputs": [],
   "source": []
  }
 ],
 "metadata": {
  "kernelspec": {
   "display_name": "Python [conda env:ds01] *",
   "language": "python",
   "name": "conda-env-ds01-py"
  },
  "language_info": {
   "codemirror_mode": {
    "name": "ipython",
    "version": 3
   },
   "file_extension": ".py",
   "mimetype": "text/x-python",
   "name": "python",
   "nbconvert_exporter": "python",
   "pygments_lexer": "ipython3",
   "version": "3.6.9"
  }
 },
 "nbformat": 4,
 "nbformat_minor": 5
}
