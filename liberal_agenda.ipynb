{
 "cells": [
  {
   "cell_type": "markdown",
   "id": "challenging-prairie",
   "metadata": {},
   "source": [
    "# Import Packages"
   ]
  },
  {
   "cell_type": "code",
   "execution_count": 511,
   "id": "empty-lecture",
   "metadata": {},
   "outputs": [],
   "source": [
    "import pandas as pd\n",
    "import numpy as np\n",
    "import pickle\n",
    "import matplotlib.pyplot as plt\n",
    "import re\n",
    "import time\n",
    "import matplotlib.pyplot as plt\n",
    "%matplotlib inline\n",
    "\n",
    "from langdetect import detect\n",
    "from googletrans import Translator\n",
    "\n",
    "import nltk\n",
    "# nltk.download('wordnet')\n",
    "\n",
    "from nltk.stem import WordNetLemmatizer\n",
    "from nltk.corpus import stopwords\n",
    "import string\n",
    "from nltk import word_tokenize, FreqDist\n",
    "from nltk.sentiment.vader import SentimentIntensityAnalyzer\n",
    "\n",
    "from gensim.corpora import Dictionary\n",
    "from gensim.models import Word2Vec\n",
    "\n",
    "import tensorflow as tf\n",
    "import tensorflow_hub as hub\n",
    "import tensorflow_text as text\n",
    "from tensorflow import keras\n",
    "from tensorflow.keras import layers\n",
    "from tensorflow.keras.metrics import BinaryAccuracy, Recall, AUC\n",
    "tf.get_logger().setLevel('ERROR')\n",
    "\n",
    "\n",
    "from sklearn.pipeline import Pipeline\n",
    "from sklearn.model_selection import train_test_split, GridSearchCV\n",
    "from sklearn.feature_extraction.text import TfidfVectorizer, CountVectorizer, TfidfTransformer\n",
    "from sklearn.metrics import accuracy_score, f1_score\n",
    "from sklearn.metrics import confusion_matrix, ConfusionMatrixDisplay\n",
    "from sklearn.experimental import enable_hist_gradient_boosting\n",
    "from sklearn.ensemble import RandomForestClassifier, HistGradientBoostingClassifier\n",
    "from sklearn.naive_bayes import MultinomialNB\n",
    "from xgboost import XGBClassifier"
   ]
  },
  {
   "cell_type": "markdown",
   "id": "active-vatican",
   "metadata": {},
   "source": [
    "### Load in Pickeled DataFrame"
   ]
  },
  {
   "cell_type": "code",
   "execution_count": 388,
   "id": "urban-respondent",
   "metadata": {},
   "outputs": [],
   "source": [
    "tweets = pd.read_pickle('data/pickle_jar/cleaned2.pkl')\n",
    "denier_sup = pd.read_pickle('data/pickle_jar/denier_sup.pkl')"
   ]
  },
  {
   "cell_type": "markdown",
   "id": "united-singer",
   "metadata": {},
   "source": [
    "## Explore Data"
   ]
  },
  {
   "cell_type": "code",
   "execution_count": 389,
   "id": "shared-madrid",
   "metadata": {},
   "outputs": [
    {
     "name": "stdout",
     "output_type": "stream",
     "text": [
      "<class 'pandas.core.frame.DataFrame'>\n",
      "RangeIndex: 1970258 entries, 0 to 1970257\n",
      "Data columns (total 21 columns):\n",
      " #   Column                   Dtype         \n",
      "---  ------                   -----         \n",
      " 0   created_at               datetime64[ns]\n",
      " 1   id                       int64         \n",
      " 2   full_text                object        \n",
      " 3   truncated                bool          \n",
      " 4   in_reply_to_screen_name  object        \n",
      " 5   is_quote_status          bool          \n",
      " 6   retweet_count            int64         \n",
      " 7   favorite_count           int64         \n",
      " 8   lang                     object        \n",
      " 9   retweeted_status         object        \n",
      " 10  names                    object        \n",
      " 11  screen_names             object        \n",
      " 12  locations                object        \n",
      " 13  follower_counts          int64         \n",
      " 14  user_created_at          object        \n",
      " 15  verified                 bool          \n",
      " 16  statuses_counts          int64         \n",
      " 17  location                 object        \n",
      " 18  country                  object        \n",
      " 19  hashtags                 object        \n",
      " 20  withheld_in_countries    object        \n",
      "dtypes: bool(3), datetime64[ns](1), int64(5), object(12)\n",
      "memory usage: 276.2+ MB\n"
     ]
    }
   ],
   "source": [
    "# verify import\n",
    "tweets.info()"
   ]
  },
  {
   "cell_type": "code",
   "execution_count": 390,
   "id": "interpreted-mitchell",
   "metadata": {},
   "outputs": [
    {
     "data": {
      "text/plain": [
       "created_at                       0\n",
       "id                               0\n",
       "full_text                        0\n",
       "truncated                        0\n",
       "in_reply_to_screen_name    1525932\n",
       "is_quote_status                  0\n",
       "retweet_count                    0\n",
       "favorite_count                   0\n",
       "lang                             0\n",
       "retweeted_status           1970258\n",
       "names                            0\n",
       "screen_names                     0\n",
       "locations                        0\n",
       "follower_counts                  0\n",
       "user_created_at                  0\n",
       "verified                         0\n",
       "statuses_counts                  0\n",
       "location                   1889581\n",
       "country                    1889581\n",
       "hashtags                   1234431\n",
       "withheld_in_countries      1970213\n",
       "dtype: int64"
      ]
     },
     "execution_count": 390,
     "metadata": {},
     "output_type": "execute_result"
    }
   ],
   "source": [
    "# look at missing values\n",
    "tweets.isna().sum()"
   ]
  },
  {
   "cell_type": "code",
   "execution_count": 391,
   "id": "acute-temperature",
   "metadata": {},
   "outputs": [],
   "source": [
    "denier_sup['date'] = pd.to_datetime(denier_sup['date'])\n",
    "denier_sup.columns = ['created_at', 'screen_names', 'names', 'full_text', 'retweeted_status', \n",
    "                      'hashtags', 'nlikes', 'search']"
   ]
  },
  {
   "cell_type": "markdown",
   "id": "naughty-sunset",
   "metadata": {},
   "source": [
    "## Prepare Data for Modeling\n",
    "\n",
    "First, ground truth must be determined. To do this, hashtags are examined and parsed to find ones that clearly indicate a person's view on climate change. Then all tweets containing those tweets are labeled and prepared for modeling"
   ]
  },
  {
   "cell_type": "code",
   "execution_count": 392,
   "id": "rubber-departure",
   "metadata": {},
   "outputs": [],
   "source": [
    "# subset data that contains hashtags\n",
    "df = tweets.dropna(subset=['hashtags'])"
   ]
  },
  {
   "cell_type": "code",
   "execution_count": 393,
   "id": "celtic-diploma",
   "metadata": {},
   "outputs": [],
   "source": [
    "# create a list of all hashtags\n",
    "\n",
    "hashtags_all = []\n",
    "for row in df['hashtags']:\n",
    "    for item in row:\n",
    "        hashtags_all.append(item.lower())"
   ]
  },
  {
   "cell_type": "code",
   "execution_count": 394,
   "id": "relevant-vienna",
   "metadata": {},
   "outputs": [
    {
     "name": "stdout",
     "output_type": "stream",
     "text": [
      "['climatechange', 'globalwarming', 'climateaction', 'environment', 'climate']\n"
     ]
    }
   ],
   "source": [
    "# see hashtag count and sort by frequency\n",
    "unique_hashtags = list(pd.Series(hashtags_all).value_counts().index)\n",
    "# view top 5 for reference\n",
    "print(unique_hashtags[:5])"
   ]
  },
  {
   "cell_type": "code",
   "execution_count": 395,
   "id": "egyptian-visitor",
   "metadata": {},
   "outputs": [],
   "source": [
    "# most common tags associated with sample of tweets presenting climate denial\n",
    "denier_tags = ['climatechangeisfalse', 'climatechangenotreal', 'climatechangehoax', \n",
    "               'globalwarminghoax', 'tcot', 'ccot', 'tlot', 'pjnet', 'rednationrising', 'votered', \n",
    "               'libtard', 'libtards', 'maga']\n",
    "\n",
    "# most common tags associated with sample of tweets indicating belief in climate science\n",
    "believer_tags = ['climatechangeisreal', 'actonclimate', 'extinctionrebellion', 'climateemergency', \n",
    "                 'climateactionnow', 'capitalism', 'public_health', 'climateaction', 'humanityextinction',\n",
    "                 'activism', 'noplanetb', 'savetheplanet']"
   ]
  },
  {
   "cell_type": "code",
   "execution_count": 396,
   "id": "ultimate-vitamin",
   "metadata": {
    "scrolled": true
   },
   "outputs": [],
   "source": [
    "# assign believer status to each row in the dataset\n",
    "believe_series = []\n",
    "for idx, row in df['hashtags'].iteritems():\n",
    "    # set a count for matching tags in row\n",
    "    believe = 0\n",
    "    deny = 0 \n",
    "    for tag in row:\n",
    "        if tag.lower() in denier_tags:\n",
    "            deny += 1\n",
    "        elif tag.lower() in believer_tags:\n",
    "            believe += 1\n",
    "    \n",
    "    # check that only one type of tag appears\n",
    "    if (believe > 0) and (deny == 0):\n",
    "        believe_series.append(1)\n",
    "    elif (believe == 0) and (deny > 0):\n",
    "        believe_series.append(0)\n",
    "    else: # <-- if no matching tag OR if both appear, label as unknown using nonetype \n",
    "        believe_series.append(None)"
   ]
  },
  {
   "cell_type": "markdown",
   "id": "collected-married",
   "metadata": {},
   "source": [
    "### Add believer status to DataFrame"
   ]
  },
  {
   "cell_type": "code",
   "execution_count": 397,
   "id": "respective-prague",
   "metadata": {},
   "outputs": [],
   "source": [
    "df = df.assign(believer = believe_series)"
   ]
  },
  {
   "cell_type": "code",
   "execution_count": 398,
   "id": "altered-nigeria",
   "metadata": {},
   "outputs": [],
   "source": [
    "denier_sup['believer'] = 0"
   ]
  },
  {
   "cell_type": "code",
   "execution_count": 399,
   "id": "demographic-record",
   "metadata": {},
   "outputs": [],
   "source": [
    "# subset dataframe to only include positive and negative cases\n",
    "to_train = df.dropna(subset=['believer'])"
   ]
  },
  {
   "cell_type": "markdown",
   "id": "random-return",
   "metadata": {},
   "source": [
    "### Create function to prep text for NLP processing\n",
    "\n",
    "Remove unwanted character types, hashtags, usernames, and URLs. Remove line breaks and extra spaces\n",
    "\n",
    "Tokenize, remove stopwords, lemmatize, join to string"
   ]
  },
  {
   "cell_type": "code",
   "execution_count": 522,
   "id": "painted-seven",
   "metadata": {},
   "outputs": [],
   "source": [
    "def re_clean(tweet):\n",
    "    '''\n",
    "    takes the text of a tweet and returns a cleaned string ready for tokenization and lemmatization \n",
    "    '''\n",
    "    # remove emojis\n",
    "    emoji = re.compile(pattern = \"[\"\n",
    "        u\"\\U0001F600-\\U0001F64F\"  # emoticons\n",
    "        u\"\\U0001F300-\\U0001F5FF\"  # symbols & pictographs\n",
    "        u\"\\U0001F680-\\U0001F6FF\"  # transport & map symbols\n",
    "        u\"\\U0001F1E0-\\U0001F1FF\"  # flags (iOS)\n",
    "                           \"]+\", flags = re.UNICODE)\n",
    "    tweet = emoji.sub('', tweet)\n",
    "    # regex cleaning\n",
    "    tweet = tweet.lower()\n",
    "    tweet = re.sub(r'[@][\\w]+','', tweet) # <-- remove usernames\n",
    "    tweet = re.sub(r'[#]','', tweet) # <-- remove hashtags \n",
    "    tweet = re.sub(r'http[s]?://(?:[a-zA-Z]|[0-9]|[$-_@.&+]|[!*\\(\\),]|(?:%[0-9a-fA-F][0-9a-fA-F]))+', '', tweet) # <-- remove urls\n",
    "    tweet = re.sub(r'(?:^| )\\w(?:$| )', ' ', tweet) # <-- remove one letter words\n",
    "    tweet = re.sub(r'\\s{2,15}', ' ', tweet) # <-- remove extra blank spaces\n",
    "    tweet = re.sub(r'\\n', ' ', tweet)  # <-- remove line breaks\n",
    "    tweet = re.sub(r'\\s{2,15}', ' ', tweet) # <-- combine multiple space again \n",
    "    return tweet.strip() # <-- remove lingering spaces at the start and end of tweets"
   ]
  },
  {
   "cell_type": "code",
   "execution_count": 523,
   "id": "legitimate-armenia",
   "metadata": {},
   "outputs": [],
   "source": [
    "# Instantiate nltk lemmatizer\n",
    "lemmatizer = WordNetLemmatizer()\n",
    "\n",
    "# create stop word list from default list, punctuation, and hashtags used to create classifcation params\n",
    "stopwords_list = stopwords.words('english') + (list(string.punctuation) + \n",
    "                                               denier_tags + believer_tags + unique_hashtags[:100])\n",
    "def lemm(tweet):\n",
    "    '''\n",
    "    lemmatizes a sentence and returns string ready to be vectorized\n",
    "    '''\n",
    "    # tokenize, lemmatize\n",
    "    tok = nltk.regexp_tokenize(tweet, r\"([a-zA-Z]+(?:'[a-z]+)?)\")\n",
    "    lemma = [lemmatizer.lemmatize(token) for token in tok]\n",
    "    # return combined string \n",
    "    return ' '.join(lemma)"
   ]
  },
  {
   "cell_type": "code",
   "execution_count": 524,
   "id": "ignored-valuation",
   "metadata": {},
   "outputs": [],
   "source": [
    "def clean_and_lem(tweet):\n",
    "    '''\n",
    "    clean then lammatize tweet\n",
    "    '''\n",
    "    return lemm(re_clean(tweet))\n",
    "\n",
    "def tok(tweet):\n",
    "    return nltk.regexp_tokenize(tweet, r\"([a-zA-Z]+(?:'[a-z]+)?)\")"
   ]
  },
  {
   "cell_type": "code",
   "execution_count": 528,
   "id": "incorporated-korea",
   "metadata": {
    "scrolled": true
   },
   "outputs": [
    {
     "name": "stdout",
     "output_type": "stream",
     "text": [
      "ORIGINAL: \n",
      "Thirty Years On, How Well Do Global Warming Predictions Stand Up? https://t.co/rzWaMjVDZm #ReasonableDoubt #Politics #Trending #climatechange #climatebreakdown #ClimateChangeIsReal #climate2020 #climatesummit #paristreaty @BarackObama @BjornLomborg \n",
      "\n",
      "CLEANED: \n",
      "thirty year on how well do global warming prediction stand up reasonabledoubt politics trending climatechange climatebreakdown climatechangeisreal climate climatesummit paristreaty\n"
     ]
    }
   ],
   "source": [
    "# create function to compare original text to cleaned text \n",
    "def check_cleaned(df, n = None):\n",
    "    '''\n",
    "    sanity check function. Look at cleaned text for edge case detection.\n",
    "    '''\n",
    "    if not n:\n",
    "        n = np.random.randint(0, len(df) - 1)\n",
    "    print(f\"ORIGINAL: \\n{df.iloc[n]['full_text']} \\n\")\n",
    "    print(f\"CLEANED: \\n{clean_and_lem(df.iloc[n]['full_text'])}\")\n",
    "    \n",
    "check_cleaned(to_train)"
   ]
  },
  {
   "cell_type": "markdown",
   "id": "armed-intent",
   "metadata": {},
   "source": [
    "###### Clean Dataset text"
   ]
  },
  {
   "cell_type": "code",
   "execution_count": 529,
   "id": "resistant-baking",
   "metadata": {},
   "outputs": [],
   "source": [
    "X = to_train['full_text'].apply(lambda x: clean_and_lem(x))\n",
    "X = X.combine_first(denier_sup['full_text'].apply(lambda x: clean_and_lem(x))).reset_index()\n",
    "X = X.drop(columns='index')['full_text']"
   ]
  },
  {
   "cell_type": "code",
   "execution_count": 530,
   "id": "upset-brick",
   "metadata": {},
   "outputs": [],
   "source": [
    "# create target variable\n",
    "y = to_train['believer'].combine_first(denier_sup['believer'])\n",
    "y = y.reset_index().drop(columns='index')['believer']"
   ]
  },
  {
   "cell_type": "markdown",
   "id": "mediterranean-foster",
   "metadata": {},
   "source": [
    "# RNN Model"
   ]
  },
  {
   "cell_type": "code",
   "execution_count": 518,
   "id": "congressional-hierarchy",
   "metadata": {},
   "outputs": [],
   "source": [
    "X_nn = X.map(tok)"
   ]
  },
  {
   "cell_type": "code",
   "execution_count": 520,
   "id": "incorporate-tuesday",
   "metadata": {},
   "outputs": [],
   "source": [
    "wvec_model = Word2Vec(X_nn, size = 100, window = 10, min_count=1, workers = 4)"
   ]
  },
  {
   "cell_type": "code",
   "execution_count": 521,
   "id": "adapted-banks",
   "metadata": {},
   "outputs": [
    {
     "name": "stderr",
     "output_type": "stream",
     "text": [
      "WARNING:gensim.models.base_any2vec:Effective 'alpha' higher than previous training cycles\n"
     ]
    },
    {
     "ename": "KeyboardInterrupt",
     "evalue": "",
     "output_type": "error",
     "traceback": [
      "\u001b[0;31m---------------------------------------------------------------------------\u001b[0m",
      "\u001b[0;31mKeyboardInterrupt\u001b[0m                         Traceback (most recent call last)",
      "\u001b[0;32m<ipython-input-521-a5a0b9aaad08>\u001b[0m in \u001b[0;36m<module>\u001b[0;34m()\u001b[0m\n\u001b[0;32m----> 1\u001b[0;31m \u001b[0mwvec_model\u001b[0m\u001b[0;34m.\u001b[0m\u001b[0mtrain\u001b[0m\u001b[0;34m(\u001b[0m\u001b[0mX_nn\u001b[0m\u001b[0;34m,\u001b[0m \u001b[0mtotal_examples\u001b[0m\u001b[0;34m=\u001b[0m\u001b[0mwvec_model\u001b[0m\u001b[0;34m.\u001b[0m\u001b[0mcorpus_count\u001b[0m\u001b[0;34m,\u001b[0m \u001b[0mepochs\u001b[0m \u001b[0;34m=\u001b[0m \u001b[0;36m10\u001b[0m\u001b[0;34m)\u001b[0m\u001b[0;34m\u001b[0m\u001b[0;34m\u001b[0m\u001b[0m\n\u001b[0m",
      "\u001b[0;32m/Users/browz/opt/anaconda3/envs/ds01/lib/python3.6/site-packages/gensim/models/word2vec.py\u001b[0m in \u001b[0;36mtrain\u001b[0;34m(self, sentences, corpus_file, total_examples, total_words, epochs, start_alpha, end_alpha, word_count, queue_factor, report_delay, compute_loss, callbacks)\u001b[0m\n\u001b[1;32m    908\u001b[0m             \u001b[0msentences\u001b[0m\u001b[0;34m=\u001b[0m\u001b[0msentences\u001b[0m\u001b[0;34m,\u001b[0m \u001b[0mcorpus_file\u001b[0m\u001b[0;34m=\u001b[0m\u001b[0mcorpus_file\u001b[0m\u001b[0;34m,\u001b[0m \u001b[0mtotal_examples\u001b[0m\u001b[0;34m=\u001b[0m\u001b[0mtotal_examples\u001b[0m\u001b[0;34m,\u001b[0m \u001b[0mtotal_words\u001b[0m\u001b[0;34m=\u001b[0m\u001b[0mtotal_words\u001b[0m\u001b[0;34m,\u001b[0m\u001b[0;34m\u001b[0m\u001b[0;34m\u001b[0m\u001b[0m\n\u001b[1;32m    909\u001b[0m             \u001b[0mepochs\u001b[0m\u001b[0;34m=\u001b[0m\u001b[0mepochs\u001b[0m\u001b[0;34m,\u001b[0m \u001b[0mstart_alpha\u001b[0m\u001b[0;34m=\u001b[0m\u001b[0mstart_alpha\u001b[0m\u001b[0;34m,\u001b[0m \u001b[0mend_alpha\u001b[0m\u001b[0;34m=\u001b[0m\u001b[0mend_alpha\u001b[0m\u001b[0;34m,\u001b[0m \u001b[0mword_count\u001b[0m\u001b[0;34m=\u001b[0m\u001b[0mword_count\u001b[0m\u001b[0;34m,\u001b[0m\u001b[0;34m\u001b[0m\u001b[0;34m\u001b[0m\u001b[0m\n\u001b[0;32m--> 910\u001b[0;31m             queue_factor=queue_factor, report_delay=report_delay, compute_loss=compute_loss, callbacks=callbacks)\n\u001b[0m\u001b[1;32m    911\u001b[0m \u001b[0;34m\u001b[0m\u001b[0m\n\u001b[1;32m    912\u001b[0m     \u001b[0;32mdef\u001b[0m \u001b[0mscore\u001b[0m\u001b[0;34m(\u001b[0m\u001b[0mself\u001b[0m\u001b[0;34m,\u001b[0m \u001b[0msentences\u001b[0m\u001b[0;34m,\u001b[0m \u001b[0mtotal_sentences\u001b[0m\u001b[0;34m=\u001b[0m\u001b[0mint\u001b[0m\u001b[0;34m(\u001b[0m\u001b[0;36m1e6\u001b[0m\u001b[0;34m)\u001b[0m\u001b[0;34m,\u001b[0m \u001b[0mchunksize\u001b[0m\u001b[0;34m=\u001b[0m\u001b[0;36m100\u001b[0m\u001b[0;34m,\u001b[0m \u001b[0mqueue_factor\u001b[0m\u001b[0;34m=\u001b[0m\u001b[0;36m2\u001b[0m\u001b[0;34m,\u001b[0m \u001b[0mreport_delay\u001b[0m\u001b[0;34m=\u001b[0m\u001b[0;36m1\u001b[0m\u001b[0;34m)\u001b[0m\u001b[0;34m:\u001b[0m\u001b[0;34m\u001b[0m\u001b[0;34m\u001b[0m\u001b[0m\n",
      "\u001b[0;32m/Users/browz/opt/anaconda3/envs/ds01/lib/python3.6/site-packages/gensim/models/base_any2vec.py\u001b[0m in \u001b[0;36mtrain\u001b[0;34m(self, sentences, corpus_file, total_examples, total_words, epochs, start_alpha, end_alpha, word_count, queue_factor, report_delay, compute_loss, callbacks, **kwargs)\u001b[0m\n\u001b[1;32m   1079\u001b[0m             \u001b[0mtotal_words\u001b[0m\u001b[0;34m=\u001b[0m\u001b[0mtotal_words\u001b[0m\u001b[0;34m,\u001b[0m \u001b[0mepochs\u001b[0m\u001b[0;34m=\u001b[0m\u001b[0mepochs\u001b[0m\u001b[0;34m,\u001b[0m \u001b[0mstart_alpha\u001b[0m\u001b[0;34m=\u001b[0m\u001b[0mstart_alpha\u001b[0m\u001b[0;34m,\u001b[0m \u001b[0mend_alpha\u001b[0m\u001b[0;34m=\u001b[0m\u001b[0mend_alpha\u001b[0m\u001b[0;34m,\u001b[0m \u001b[0mword_count\u001b[0m\u001b[0;34m=\u001b[0m\u001b[0mword_count\u001b[0m\u001b[0;34m,\u001b[0m\u001b[0;34m\u001b[0m\u001b[0;34m\u001b[0m\u001b[0m\n\u001b[1;32m   1080\u001b[0m             \u001b[0mqueue_factor\u001b[0m\u001b[0;34m=\u001b[0m\u001b[0mqueue_factor\u001b[0m\u001b[0;34m,\u001b[0m \u001b[0mreport_delay\u001b[0m\u001b[0;34m=\u001b[0m\u001b[0mreport_delay\u001b[0m\u001b[0;34m,\u001b[0m \u001b[0mcompute_loss\u001b[0m\u001b[0;34m=\u001b[0m\u001b[0mcompute_loss\u001b[0m\u001b[0;34m,\u001b[0m \u001b[0mcallbacks\u001b[0m\u001b[0;34m=\u001b[0m\u001b[0mcallbacks\u001b[0m\u001b[0;34m,\u001b[0m\u001b[0;34m\u001b[0m\u001b[0;34m\u001b[0m\u001b[0m\n\u001b[0;32m-> 1081\u001b[0;31m             **kwargs)\n\u001b[0m\u001b[1;32m   1082\u001b[0m \u001b[0;34m\u001b[0m\u001b[0m\n\u001b[1;32m   1083\u001b[0m     \u001b[0;32mdef\u001b[0m \u001b[0m_get_job_params\u001b[0m\u001b[0;34m(\u001b[0m\u001b[0mself\u001b[0m\u001b[0;34m,\u001b[0m \u001b[0mcur_epoch\u001b[0m\u001b[0;34m)\u001b[0m\u001b[0;34m:\u001b[0m\u001b[0;34m\u001b[0m\u001b[0;34m\u001b[0m\u001b[0m\n",
      "\u001b[0;32m/Users/browz/opt/anaconda3/envs/ds01/lib/python3.6/site-packages/gensim/models/base_any2vec.py\u001b[0m in \u001b[0;36mtrain\u001b[0;34m(self, data_iterable, corpus_file, epochs, total_examples, total_words, queue_factor, report_delay, callbacks, **kwargs)\u001b[0m\n\u001b[1;32m    551\u001b[0m                 trained_word_count_epoch, raw_word_count_epoch, job_tally_epoch = self._train_epoch(\n\u001b[1;32m    552\u001b[0m                     \u001b[0mdata_iterable\u001b[0m\u001b[0;34m,\u001b[0m \u001b[0mcur_epoch\u001b[0m\u001b[0;34m=\u001b[0m\u001b[0mcur_epoch\u001b[0m\u001b[0;34m,\u001b[0m \u001b[0mtotal_examples\u001b[0m\u001b[0;34m=\u001b[0m\u001b[0mtotal_examples\u001b[0m\u001b[0;34m,\u001b[0m\u001b[0;34m\u001b[0m\u001b[0;34m\u001b[0m\u001b[0m\n\u001b[0;32m--> 553\u001b[0;31m                     total_words=total_words, queue_factor=queue_factor, report_delay=report_delay)\n\u001b[0m\u001b[1;32m    554\u001b[0m             \u001b[0;32melse\u001b[0m\u001b[0;34m:\u001b[0m\u001b[0;34m\u001b[0m\u001b[0;34m\u001b[0m\u001b[0m\n\u001b[1;32m    555\u001b[0m                 trained_word_count_epoch, raw_word_count_epoch, job_tally_epoch = self._train_epoch_corpusfile(\n",
      "\u001b[0;32m/Users/browz/opt/anaconda3/envs/ds01/lib/python3.6/site-packages/gensim/models/base_any2vec.py\u001b[0m in \u001b[0;36m_train_epoch\u001b[0;34m(self, data_iterable, cur_epoch, total_examples, total_words, queue_factor, report_delay)\u001b[0m\n\u001b[1;32m    487\u001b[0m         trained_word_count, raw_word_count, job_tally = self._log_epoch_progress(\n\u001b[1;32m    488\u001b[0m             \u001b[0mprogress_queue\u001b[0m\u001b[0;34m,\u001b[0m \u001b[0mjob_queue\u001b[0m\u001b[0;34m,\u001b[0m \u001b[0mcur_epoch\u001b[0m\u001b[0;34m=\u001b[0m\u001b[0mcur_epoch\u001b[0m\u001b[0;34m,\u001b[0m \u001b[0mtotal_examples\u001b[0m\u001b[0;34m=\u001b[0m\u001b[0mtotal_examples\u001b[0m\u001b[0;34m,\u001b[0m \u001b[0mtotal_words\u001b[0m\u001b[0;34m=\u001b[0m\u001b[0mtotal_words\u001b[0m\u001b[0;34m,\u001b[0m\u001b[0;34m\u001b[0m\u001b[0;34m\u001b[0m\u001b[0m\n\u001b[0;32m--> 489\u001b[0;31m             report_delay=report_delay, is_corpus_file_mode=False)\n\u001b[0m\u001b[1;32m    490\u001b[0m \u001b[0;34m\u001b[0m\u001b[0m\n\u001b[1;32m    491\u001b[0m         \u001b[0;32mreturn\u001b[0m \u001b[0mtrained_word_count\u001b[0m\u001b[0;34m,\u001b[0m \u001b[0mraw_word_count\u001b[0m\u001b[0;34m,\u001b[0m \u001b[0mjob_tally\u001b[0m\u001b[0;34m\u001b[0m\u001b[0;34m\u001b[0m\u001b[0m\n",
      "\u001b[0;32m/Users/browz/opt/anaconda3/envs/ds01/lib/python3.6/site-packages/gensim/models/base_any2vec.py\u001b[0m in \u001b[0;36m_log_epoch_progress\u001b[0;34m(self, progress_queue, job_queue, cur_epoch, total_examples, total_words, report_delay, is_corpus_file_mode)\u001b[0m\n\u001b[1;32m    344\u001b[0m \u001b[0;34m\u001b[0m\u001b[0m\n\u001b[1;32m    345\u001b[0m         \u001b[0;32mwhile\u001b[0m \u001b[0munfinished_worker_count\u001b[0m \u001b[0;34m>\u001b[0m \u001b[0;36m0\u001b[0m\u001b[0;34m:\u001b[0m\u001b[0;34m\u001b[0m\u001b[0;34m\u001b[0m\u001b[0m\n\u001b[0;32m--> 346\u001b[0;31m             \u001b[0mreport\u001b[0m \u001b[0;34m=\u001b[0m \u001b[0mprogress_queue\u001b[0m\u001b[0;34m.\u001b[0m\u001b[0mget\u001b[0m\u001b[0;34m(\u001b[0m\u001b[0;34m)\u001b[0m  \u001b[0;31m# blocks if workers too slow\u001b[0m\u001b[0;34m\u001b[0m\u001b[0;34m\u001b[0m\u001b[0m\n\u001b[0m\u001b[1;32m    347\u001b[0m             \u001b[0;32mif\u001b[0m \u001b[0mreport\u001b[0m \u001b[0;32mis\u001b[0m \u001b[0;32mNone\u001b[0m\u001b[0;34m:\u001b[0m  \u001b[0;31m# a thread reporting that it finished\u001b[0m\u001b[0;34m\u001b[0m\u001b[0;34m\u001b[0m\u001b[0m\n\u001b[1;32m    348\u001b[0m                 \u001b[0munfinished_worker_count\u001b[0m \u001b[0;34m-=\u001b[0m \u001b[0;36m1\u001b[0m\u001b[0;34m\u001b[0m\u001b[0;34m\u001b[0m\u001b[0m\n",
      "\u001b[0;32m/Users/browz/opt/anaconda3/envs/ds01/lib/python3.6/queue.py\u001b[0m in \u001b[0;36mget\u001b[0;34m(self, block, timeout)\u001b[0m\n\u001b[1;32m    162\u001b[0m             \u001b[0;32melif\u001b[0m \u001b[0mtimeout\u001b[0m \u001b[0;32mis\u001b[0m \u001b[0;32mNone\u001b[0m\u001b[0;34m:\u001b[0m\u001b[0;34m\u001b[0m\u001b[0;34m\u001b[0m\u001b[0m\n\u001b[1;32m    163\u001b[0m                 \u001b[0;32mwhile\u001b[0m \u001b[0;32mnot\u001b[0m \u001b[0mself\u001b[0m\u001b[0;34m.\u001b[0m\u001b[0m_qsize\u001b[0m\u001b[0;34m(\u001b[0m\u001b[0;34m)\u001b[0m\u001b[0;34m:\u001b[0m\u001b[0;34m\u001b[0m\u001b[0;34m\u001b[0m\u001b[0m\n\u001b[0;32m--> 164\u001b[0;31m                     \u001b[0mself\u001b[0m\u001b[0;34m.\u001b[0m\u001b[0mnot_empty\u001b[0m\u001b[0;34m.\u001b[0m\u001b[0mwait\u001b[0m\u001b[0;34m(\u001b[0m\u001b[0;34m)\u001b[0m\u001b[0;34m\u001b[0m\u001b[0;34m\u001b[0m\u001b[0m\n\u001b[0m\u001b[1;32m    165\u001b[0m             \u001b[0;32melif\u001b[0m \u001b[0mtimeout\u001b[0m \u001b[0;34m<\u001b[0m \u001b[0;36m0\u001b[0m\u001b[0;34m:\u001b[0m\u001b[0;34m\u001b[0m\u001b[0;34m\u001b[0m\u001b[0m\n\u001b[1;32m    166\u001b[0m                 \u001b[0;32mraise\u001b[0m \u001b[0mValueError\u001b[0m\u001b[0;34m(\u001b[0m\u001b[0;34m\"'timeout' must be a non-negative number\"\u001b[0m\u001b[0;34m)\u001b[0m\u001b[0;34m\u001b[0m\u001b[0;34m\u001b[0m\u001b[0m\n",
      "\u001b[0;32m/Users/browz/opt/anaconda3/envs/ds01/lib/python3.6/threading.py\u001b[0m in \u001b[0;36mwait\u001b[0;34m(self, timeout)\u001b[0m\n\u001b[1;32m    293\u001b[0m         \u001b[0;32mtry\u001b[0m\u001b[0;34m:\u001b[0m    \u001b[0;31m# restore state no matter what (e.g., KeyboardInterrupt)\u001b[0m\u001b[0;34m\u001b[0m\u001b[0;34m\u001b[0m\u001b[0m\n\u001b[1;32m    294\u001b[0m             \u001b[0;32mif\u001b[0m \u001b[0mtimeout\u001b[0m \u001b[0;32mis\u001b[0m \u001b[0;32mNone\u001b[0m\u001b[0;34m:\u001b[0m\u001b[0;34m\u001b[0m\u001b[0;34m\u001b[0m\u001b[0m\n\u001b[0;32m--> 295\u001b[0;31m                 \u001b[0mwaiter\u001b[0m\u001b[0;34m.\u001b[0m\u001b[0macquire\u001b[0m\u001b[0;34m(\u001b[0m\u001b[0;34m)\u001b[0m\u001b[0;34m\u001b[0m\u001b[0;34m\u001b[0m\u001b[0m\n\u001b[0m\u001b[1;32m    296\u001b[0m                 \u001b[0mgotit\u001b[0m \u001b[0;34m=\u001b[0m \u001b[0;32mTrue\u001b[0m\u001b[0;34m\u001b[0m\u001b[0;34m\u001b[0m\u001b[0m\n\u001b[1;32m    297\u001b[0m             \u001b[0;32melse\u001b[0m\u001b[0;34m:\u001b[0m\u001b[0;34m\u001b[0m\u001b[0;34m\u001b[0m\u001b[0m\n",
      "\u001b[0;31mKeyboardInterrupt\u001b[0m: "
     ]
    }
   ],
   "source": [
    "wvec_model.train(X_nn, total_examples=wvec_model.corpus_count, epochs = 10)"
   ]
  },
  {
   "cell_type": "code",
   "execution_count": 510,
   "id": "express-bubble",
   "metadata": {},
   "outputs": [
    {
     "ename": "ValueError",
     "evalue": "in user code:\n\n    /Users/browz/opt/anaconda3/envs/ds01/lib/python3.6/site-packages/tensorflow/python/keras/engine/training.py:805 train_function  *\n        return step_function(self, iterator)\n    /Users/browz/opt/anaconda3/envs/ds01/lib/python3.6/site-packages/tensorflow/python/keras/engine/training.py:795 step_function  **\n        outputs = model.distribute_strategy.run(run_step, args=(data,))\n    /Users/browz/opt/anaconda3/envs/ds01/lib/python3.6/site-packages/tensorflow/python/distribute/distribute_lib.py:1259 run\n        return self._extended.call_for_each_replica(fn, args=args, kwargs=kwargs)\n    /Users/browz/opt/anaconda3/envs/ds01/lib/python3.6/site-packages/tensorflow/python/distribute/distribute_lib.py:2730 call_for_each_replica\n        return self._call_for_each_replica(fn, args, kwargs)\n    /Users/browz/opt/anaconda3/envs/ds01/lib/python3.6/site-packages/tensorflow/python/distribute/distribute_lib.py:3417 _call_for_each_replica\n        return fn(*args, **kwargs)\n    /Users/browz/opt/anaconda3/envs/ds01/lib/python3.6/site-packages/tensorflow/python/keras/engine/training.py:788 run_step  **\n        outputs = model.train_step(data)\n    /Users/browz/opt/anaconda3/envs/ds01/lib/python3.6/site-packages/tensorflow/python/keras/engine/training.py:754 train_step\n        y_pred = self(x, training=True)\n    /Users/browz/opt/anaconda3/envs/ds01/lib/python3.6/site-packages/tensorflow/python/keras/engine/base_layer.py:998 __call__\n        input_spec.assert_input_compatibility(self.input_spec, inputs, self.name)\n    /Users/browz/opt/anaconda3/envs/ds01/lib/python3.6/site-packages/tensorflow/python/keras/engine/input_spec.py:223 assert_input_compatibility\n        str(tuple(shape)))\n\n    ValueError: Input 0 of layer sequential_3 is incompatible with the layer: expected ndim=3, found ndim=2. Full shape received: (None, 1)\n",
     "output_type": "error",
     "traceback": [
      "\u001b[0;31m---------------------------------------------------------------------------\u001b[0m",
      "\u001b[0;31mValueError\u001b[0m                                Traceback (most recent call last)",
      "\u001b[0;32m<ipython-input-510-837fbcfc7b69>\u001b[0m in \u001b[0;36m<module>\u001b[0;34m()\u001b[0m\n\u001b[1;32m      9\u001b[0m               metrics = ['BinaryAccuracy(), Recall(), AUC()'])\n\u001b[1;32m     10\u001b[0m \u001b[0;34m\u001b[0m\u001b[0m\n\u001b[0;32m---> 11\u001b[0;31m \u001b[0mmodel\u001b[0m\u001b[0;34m.\u001b[0m\u001b[0mfit\u001b[0m\u001b[0;34m(\u001b[0m\u001b[0mX_train\u001b[0m\u001b[0;34m,\u001b[0m \u001b[0my_train\u001b[0m\u001b[0;34m,\u001b[0m \u001b[0mvalidation_data\u001b[0m\u001b[0;34m=\u001b[0m\u001b[0;34m(\u001b[0m\u001b[0mX_test\u001b[0m\u001b[0;34m,\u001b[0m \u001b[0my_test\u001b[0m\u001b[0;34m)\u001b[0m\u001b[0;34m,\u001b[0m \u001b[0mbatch_size\u001b[0m\u001b[0;34m=\u001b[0m\u001b[0;36m1000\u001b[0m\u001b[0;34m,\u001b[0m \u001b[0mepochs\u001b[0m\u001b[0;34m=\u001b[0m\u001b[0;36m1\u001b[0m\u001b[0;34m)\u001b[0m\u001b[0;34m\u001b[0m\u001b[0;34m\u001b[0m\u001b[0m\n\u001b[0m",
      "\u001b[0;32m/Users/browz/opt/anaconda3/envs/ds01/lib/python3.6/site-packages/tensorflow/python/keras/engine/training.py\u001b[0m in \u001b[0;36mfit\u001b[0;34m(self, x, y, batch_size, epochs, verbose, callbacks, validation_split, validation_data, shuffle, class_weight, sample_weight, initial_epoch, steps_per_epoch, validation_steps, validation_batch_size, validation_freq, max_queue_size, workers, use_multiprocessing)\u001b[0m\n\u001b[1;32m   1098\u001b[0m                 _r=1):\n\u001b[1;32m   1099\u001b[0m               \u001b[0mcallbacks\u001b[0m\u001b[0;34m.\u001b[0m\u001b[0mon_train_batch_begin\u001b[0m\u001b[0;34m(\u001b[0m\u001b[0mstep\u001b[0m\u001b[0;34m)\u001b[0m\u001b[0;34m\u001b[0m\u001b[0;34m\u001b[0m\u001b[0m\n\u001b[0;32m-> 1100\u001b[0;31m               \u001b[0mtmp_logs\u001b[0m \u001b[0;34m=\u001b[0m \u001b[0mself\u001b[0m\u001b[0;34m.\u001b[0m\u001b[0mtrain_function\u001b[0m\u001b[0;34m(\u001b[0m\u001b[0miterator\u001b[0m\u001b[0;34m)\u001b[0m\u001b[0;34m\u001b[0m\u001b[0;34m\u001b[0m\u001b[0m\n\u001b[0m\u001b[1;32m   1101\u001b[0m               \u001b[0;32mif\u001b[0m \u001b[0mdata_handler\u001b[0m\u001b[0;34m.\u001b[0m\u001b[0mshould_sync\u001b[0m\u001b[0;34m:\u001b[0m\u001b[0;34m\u001b[0m\u001b[0;34m\u001b[0m\u001b[0m\n\u001b[1;32m   1102\u001b[0m                 \u001b[0mcontext\u001b[0m\u001b[0;34m.\u001b[0m\u001b[0masync_wait\u001b[0m\u001b[0;34m(\u001b[0m\u001b[0;34m)\u001b[0m\u001b[0;34m\u001b[0m\u001b[0;34m\u001b[0m\u001b[0m\n",
      "\u001b[0;32m/Users/browz/opt/anaconda3/envs/ds01/lib/python3.6/site-packages/tensorflow/python/eager/def_function.py\u001b[0m in \u001b[0;36m__call__\u001b[0;34m(self, *args, **kwds)\u001b[0m\n\u001b[1;32m    826\u001b[0m     \u001b[0mtracing_count\u001b[0m \u001b[0;34m=\u001b[0m \u001b[0mself\u001b[0m\u001b[0;34m.\u001b[0m\u001b[0mexperimental_get_tracing_count\u001b[0m\u001b[0;34m(\u001b[0m\u001b[0;34m)\u001b[0m\u001b[0;34m\u001b[0m\u001b[0;34m\u001b[0m\u001b[0m\n\u001b[1;32m    827\u001b[0m     \u001b[0;32mwith\u001b[0m \u001b[0mtrace\u001b[0m\u001b[0;34m.\u001b[0m\u001b[0mTrace\u001b[0m\u001b[0;34m(\u001b[0m\u001b[0mself\u001b[0m\u001b[0;34m.\u001b[0m\u001b[0m_name\u001b[0m\u001b[0;34m)\u001b[0m \u001b[0;32mas\u001b[0m \u001b[0mtm\u001b[0m\u001b[0;34m:\u001b[0m\u001b[0;34m\u001b[0m\u001b[0;34m\u001b[0m\u001b[0m\n\u001b[0;32m--> 828\u001b[0;31m       \u001b[0mresult\u001b[0m \u001b[0;34m=\u001b[0m \u001b[0mself\u001b[0m\u001b[0;34m.\u001b[0m\u001b[0m_call\u001b[0m\u001b[0;34m(\u001b[0m\u001b[0;34m*\u001b[0m\u001b[0margs\u001b[0m\u001b[0;34m,\u001b[0m \u001b[0;34m**\u001b[0m\u001b[0mkwds\u001b[0m\u001b[0;34m)\u001b[0m\u001b[0;34m\u001b[0m\u001b[0;34m\u001b[0m\u001b[0m\n\u001b[0m\u001b[1;32m    829\u001b[0m       \u001b[0mcompiler\u001b[0m \u001b[0;34m=\u001b[0m \u001b[0;34m\"xla\"\u001b[0m \u001b[0;32mif\u001b[0m \u001b[0mself\u001b[0m\u001b[0;34m.\u001b[0m\u001b[0m_experimental_compile\u001b[0m \u001b[0;32melse\u001b[0m \u001b[0;34m\"nonXla\"\u001b[0m\u001b[0;34m\u001b[0m\u001b[0;34m\u001b[0m\u001b[0m\n\u001b[1;32m    830\u001b[0m       \u001b[0mnew_tracing_count\u001b[0m \u001b[0;34m=\u001b[0m \u001b[0mself\u001b[0m\u001b[0;34m.\u001b[0m\u001b[0mexperimental_get_tracing_count\u001b[0m\u001b[0;34m(\u001b[0m\u001b[0;34m)\u001b[0m\u001b[0;34m\u001b[0m\u001b[0;34m\u001b[0m\u001b[0m\n",
      "\u001b[0;32m/Users/browz/opt/anaconda3/envs/ds01/lib/python3.6/site-packages/tensorflow/python/eager/def_function.py\u001b[0m in \u001b[0;36m_call\u001b[0;34m(self, *args, **kwds)\u001b[0m\n\u001b[1;32m    869\u001b[0m       \u001b[0;31m# This is the first call of __call__, so we have to initialize.\u001b[0m\u001b[0;34m\u001b[0m\u001b[0;34m\u001b[0m\u001b[0;34m\u001b[0m\u001b[0m\n\u001b[1;32m    870\u001b[0m       \u001b[0minitializers\u001b[0m \u001b[0;34m=\u001b[0m \u001b[0;34m[\u001b[0m\u001b[0;34m]\u001b[0m\u001b[0;34m\u001b[0m\u001b[0;34m\u001b[0m\u001b[0m\n\u001b[0;32m--> 871\u001b[0;31m       \u001b[0mself\u001b[0m\u001b[0;34m.\u001b[0m\u001b[0m_initialize\u001b[0m\u001b[0;34m(\u001b[0m\u001b[0margs\u001b[0m\u001b[0;34m,\u001b[0m \u001b[0mkwds\u001b[0m\u001b[0;34m,\u001b[0m \u001b[0madd_initializers_to\u001b[0m\u001b[0;34m=\u001b[0m\u001b[0minitializers\u001b[0m\u001b[0;34m)\u001b[0m\u001b[0;34m\u001b[0m\u001b[0;34m\u001b[0m\u001b[0m\n\u001b[0m\u001b[1;32m    872\u001b[0m     \u001b[0;32mfinally\u001b[0m\u001b[0;34m:\u001b[0m\u001b[0;34m\u001b[0m\u001b[0;34m\u001b[0m\u001b[0m\n\u001b[1;32m    873\u001b[0m       \u001b[0;31m# At this point we know that the initialization is complete (or less\u001b[0m\u001b[0;34m\u001b[0m\u001b[0;34m\u001b[0m\u001b[0;34m\u001b[0m\u001b[0m\n",
      "\u001b[0;32m/Users/browz/opt/anaconda3/envs/ds01/lib/python3.6/site-packages/tensorflow/python/eager/def_function.py\u001b[0m in \u001b[0;36m_initialize\u001b[0;34m(self, args, kwds, add_initializers_to)\u001b[0m\n\u001b[1;32m    724\u001b[0m     self._concrete_stateful_fn = (\n\u001b[1;32m    725\u001b[0m         self._stateful_fn._get_concrete_function_internal_garbage_collected(  # pylint: disable=protected-access\n\u001b[0;32m--> 726\u001b[0;31m             *args, **kwds))\n\u001b[0m\u001b[1;32m    727\u001b[0m \u001b[0;34m\u001b[0m\u001b[0m\n\u001b[1;32m    728\u001b[0m     \u001b[0;32mdef\u001b[0m \u001b[0minvalid_creator_scope\u001b[0m\u001b[0;34m(\u001b[0m\u001b[0;34m*\u001b[0m\u001b[0munused_args\u001b[0m\u001b[0;34m,\u001b[0m \u001b[0;34m**\u001b[0m\u001b[0munused_kwds\u001b[0m\u001b[0;34m)\u001b[0m\u001b[0;34m:\u001b[0m\u001b[0;34m\u001b[0m\u001b[0;34m\u001b[0m\u001b[0m\n",
      "\u001b[0;32m/Users/browz/opt/anaconda3/envs/ds01/lib/python3.6/site-packages/tensorflow/python/eager/function.py\u001b[0m in \u001b[0;36m_get_concrete_function_internal_garbage_collected\u001b[0;34m(self, *args, **kwargs)\u001b[0m\n\u001b[1;32m   2967\u001b[0m       \u001b[0margs\u001b[0m\u001b[0;34m,\u001b[0m \u001b[0mkwargs\u001b[0m \u001b[0;34m=\u001b[0m \u001b[0;32mNone\u001b[0m\u001b[0;34m,\u001b[0m \u001b[0;32mNone\u001b[0m\u001b[0;34m\u001b[0m\u001b[0;34m\u001b[0m\u001b[0m\n\u001b[1;32m   2968\u001b[0m     \u001b[0;32mwith\u001b[0m \u001b[0mself\u001b[0m\u001b[0;34m.\u001b[0m\u001b[0m_lock\u001b[0m\u001b[0;34m:\u001b[0m\u001b[0;34m\u001b[0m\u001b[0;34m\u001b[0m\u001b[0m\n\u001b[0;32m-> 2969\u001b[0;31m       \u001b[0mgraph_function\u001b[0m\u001b[0;34m,\u001b[0m \u001b[0m_\u001b[0m \u001b[0;34m=\u001b[0m \u001b[0mself\u001b[0m\u001b[0;34m.\u001b[0m\u001b[0m_maybe_define_function\u001b[0m\u001b[0;34m(\u001b[0m\u001b[0margs\u001b[0m\u001b[0;34m,\u001b[0m \u001b[0mkwargs\u001b[0m\u001b[0;34m)\u001b[0m\u001b[0;34m\u001b[0m\u001b[0;34m\u001b[0m\u001b[0m\n\u001b[0m\u001b[1;32m   2970\u001b[0m     \u001b[0;32mreturn\u001b[0m \u001b[0mgraph_function\u001b[0m\u001b[0;34m\u001b[0m\u001b[0;34m\u001b[0m\u001b[0m\n\u001b[1;32m   2971\u001b[0m \u001b[0;34m\u001b[0m\u001b[0m\n",
      "\u001b[0;32m/Users/browz/opt/anaconda3/envs/ds01/lib/python3.6/site-packages/tensorflow/python/eager/function.py\u001b[0m in \u001b[0;36m_maybe_define_function\u001b[0;34m(self, args, kwargs)\u001b[0m\n\u001b[1;32m   3359\u001b[0m \u001b[0;34m\u001b[0m\u001b[0m\n\u001b[1;32m   3360\u001b[0m           \u001b[0mself\u001b[0m\u001b[0;34m.\u001b[0m\u001b[0m_function_cache\u001b[0m\u001b[0;34m.\u001b[0m\u001b[0mmissed\u001b[0m\u001b[0;34m.\u001b[0m\u001b[0madd\u001b[0m\u001b[0;34m(\u001b[0m\u001b[0mcall_context_key\u001b[0m\u001b[0;34m)\u001b[0m\u001b[0;34m\u001b[0m\u001b[0;34m\u001b[0m\u001b[0m\n\u001b[0;32m-> 3361\u001b[0;31m           \u001b[0mgraph_function\u001b[0m \u001b[0;34m=\u001b[0m \u001b[0mself\u001b[0m\u001b[0;34m.\u001b[0m\u001b[0m_create_graph_function\u001b[0m\u001b[0;34m(\u001b[0m\u001b[0margs\u001b[0m\u001b[0;34m,\u001b[0m \u001b[0mkwargs\u001b[0m\u001b[0;34m)\u001b[0m\u001b[0;34m\u001b[0m\u001b[0;34m\u001b[0m\u001b[0m\n\u001b[0m\u001b[1;32m   3362\u001b[0m           \u001b[0mself\u001b[0m\u001b[0;34m.\u001b[0m\u001b[0m_function_cache\u001b[0m\u001b[0;34m.\u001b[0m\u001b[0mprimary\u001b[0m\u001b[0;34m[\u001b[0m\u001b[0mcache_key\u001b[0m\u001b[0;34m]\u001b[0m \u001b[0;34m=\u001b[0m \u001b[0mgraph_function\u001b[0m\u001b[0;34m\u001b[0m\u001b[0;34m\u001b[0m\u001b[0m\n\u001b[1;32m   3363\u001b[0m \u001b[0;34m\u001b[0m\u001b[0m\n",
      "\u001b[0;32m/Users/browz/opt/anaconda3/envs/ds01/lib/python3.6/site-packages/tensorflow/python/eager/function.py\u001b[0m in \u001b[0;36m_create_graph_function\u001b[0;34m(self, args, kwargs, override_flat_arg_shapes)\u001b[0m\n\u001b[1;32m   3204\u001b[0m             \u001b[0marg_names\u001b[0m\u001b[0;34m=\u001b[0m\u001b[0marg_names\u001b[0m\u001b[0;34m,\u001b[0m\u001b[0;34m\u001b[0m\u001b[0;34m\u001b[0m\u001b[0m\n\u001b[1;32m   3205\u001b[0m             \u001b[0moverride_flat_arg_shapes\u001b[0m\u001b[0;34m=\u001b[0m\u001b[0moverride_flat_arg_shapes\u001b[0m\u001b[0;34m,\u001b[0m\u001b[0;34m\u001b[0m\u001b[0;34m\u001b[0m\u001b[0m\n\u001b[0;32m-> 3206\u001b[0;31m             capture_by_value=self._capture_by_value),\n\u001b[0m\u001b[1;32m   3207\u001b[0m         \u001b[0mself\u001b[0m\u001b[0;34m.\u001b[0m\u001b[0m_function_attributes\u001b[0m\u001b[0;34m,\u001b[0m\u001b[0;34m\u001b[0m\u001b[0;34m\u001b[0m\u001b[0m\n\u001b[1;32m   3208\u001b[0m         \u001b[0mfunction_spec\u001b[0m\u001b[0;34m=\u001b[0m\u001b[0mself\u001b[0m\u001b[0;34m.\u001b[0m\u001b[0mfunction_spec\u001b[0m\u001b[0;34m,\u001b[0m\u001b[0;34m\u001b[0m\u001b[0;34m\u001b[0m\u001b[0m\n",
      "\u001b[0;32m/Users/browz/opt/anaconda3/envs/ds01/lib/python3.6/site-packages/tensorflow/python/framework/func_graph.py\u001b[0m in \u001b[0;36mfunc_graph_from_py_func\u001b[0;34m(name, python_func, args, kwargs, signature, func_graph, autograph, autograph_options, add_control_dependencies, arg_names, op_return_value, collections, capture_by_value, override_flat_arg_shapes)\u001b[0m\n\u001b[1;32m    988\u001b[0m         \u001b[0m_\u001b[0m\u001b[0;34m,\u001b[0m \u001b[0moriginal_func\u001b[0m \u001b[0;34m=\u001b[0m \u001b[0mtf_decorator\u001b[0m\u001b[0;34m.\u001b[0m\u001b[0munwrap\u001b[0m\u001b[0;34m(\u001b[0m\u001b[0mpython_func\u001b[0m\u001b[0;34m)\u001b[0m\u001b[0;34m\u001b[0m\u001b[0;34m\u001b[0m\u001b[0m\n\u001b[1;32m    989\u001b[0m \u001b[0;34m\u001b[0m\u001b[0m\n\u001b[0;32m--> 990\u001b[0;31m       \u001b[0mfunc_outputs\u001b[0m \u001b[0;34m=\u001b[0m \u001b[0mpython_func\u001b[0m\u001b[0;34m(\u001b[0m\u001b[0;34m*\u001b[0m\u001b[0mfunc_args\u001b[0m\u001b[0;34m,\u001b[0m \u001b[0;34m**\u001b[0m\u001b[0mfunc_kwargs\u001b[0m\u001b[0;34m)\u001b[0m\u001b[0;34m\u001b[0m\u001b[0;34m\u001b[0m\u001b[0m\n\u001b[0m\u001b[1;32m    991\u001b[0m \u001b[0;34m\u001b[0m\u001b[0m\n\u001b[1;32m    992\u001b[0m       \u001b[0;31m# invariant: `func_outputs` contains only Tensors, CompositeTensors,\u001b[0m\u001b[0;34m\u001b[0m\u001b[0;34m\u001b[0m\u001b[0;34m\u001b[0m\u001b[0m\n",
      "\u001b[0;32m/Users/browz/opt/anaconda3/envs/ds01/lib/python3.6/site-packages/tensorflow/python/eager/def_function.py\u001b[0m in \u001b[0;36mwrapped_fn\u001b[0;34m(*args, **kwds)\u001b[0m\n\u001b[1;32m    632\u001b[0m             \u001b[0mxla_context\u001b[0m\u001b[0;34m.\u001b[0m\u001b[0mExit\u001b[0m\u001b[0;34m(\u001b[0m\u001b[0;34m)\u001b[0m\u001b[0;34m\u001b[0m\u001b[0;34m\u001b[0m\u001b[0m\n\u001b[1;32m    633\u001b[0m         \u001b[0;32melse\u001b[0m\u001b[0;34m:\u001b[0m\u001b[0;34m\u001b[0m\u001b[0;34m\u001b[0m\u001b[0m\n\u001b[0;32m--> 634\u001b[0;31m           \u001b[0mout\u001b[0m \u001b[0;34m=\u001b[0m \u001b[0mweak_wrapped_fn\u001b[0m\u001b[0;34m(\u001b[0m\u001b[0;34m)\u001b[0m\u001b[0;34m.\u001b[0m\u001b[0m__wrapped__\u001b[0m\u001b[0;34m(\u001b[0m\u001b[0;34m*\u001b[0m\u001b[0margs\u001b[0m\u001b[0;34m,\u001b[0m \u001b[0;34m**\u001b[0m\u001b[0mkwds\u001b[0m\u001b[0;34m)\u001b[0m\u001b[0;34m\u001b[0m\u001b[0;34m\u001b[0m\u001b[0m\n\u001b[0m\u001b[1;32m    635\u001b[0m         \u001b[0;32mreturn\u001b[0m \u001b[0mout\u001b[0m\u001b[0;34m\u001b[0m\u001b[0;34m\u001b[0m\u001b[0m\n\u001b[1;32m    636\u001b[0m \u001b[0;34m\u001b[0m\u001b[0m\n",
      "\u001b[0;32m/Users/browz/opt/anaconda3/envs/ds01/lib/python3.6/site-packages/tensorflow/python/framework/func_graph.py\u001b[0m in \u001b[0;36mwrapper\u001b[0;34m(*args, **kwargs)\u001b[0m\n\u001b[1;32m    975\u001b[0m           \u001b[0;32mexcept\u001b[0m \u001b[0mException\u001b[0m \u001b[0;32mas\u001b[0m \u001b[0me\u001b[0m\u001b[0;34m:\u001b[0m  \u001b[0;31m# pylint:disable=broad-except\u001b[0m\u001b[0;34m\u001b[0m\u001b[0;34m\u001b[0m\u001b[0m\n\u001b[1;32m    976\u001b[0m             \u001b[0;32mif\u001b[0m \u001b[0mhasattr\u001b[0m\u001b[0;34m(\u001b[0m\u001b[0me\u001b[0m\u001b[0;34m,\u001b[0m \u001b[0;34m\"ag_error_metadata\"\u001b[0m\u001b[0;34m)\u001b[0m\u001b[0;34m:\u001b[0m\u001b[0;34m\u001b[0m\u001b[0;34m\u001b[0m\u001b[0m\n\u001b[0;32m--> 977\u001b[0;31m               \u001b[0;32mraise\u001b[0m \u001b[0me\u001b[0m\u001b[0;34m.\u001b[0m\u001b[0mag_error_metadata\u001b[0m\u001b[0;34m.\u001b[0m\u001b[0mto_exception\u001b[0m\u001b[0;34m(\u001b[0m\u001b[0me\u001b[0m\u001b[0;34m)\u001b[0m\u001b[0;34m\u001b[0m\u001b[0;34m\u001b[0m\u001b[0m\n\u001b[0m\u001b[1;32m    978\u001b[0m             \u001b[0;32melse\u001b[0m\u001b[0;34m:\u001b[0m\u001b[0;34m\u001b[0m\u001b[0;34m\u001b[0m\u001b[0m\n\u001b[1;32m    979\u001b[0m               \u001b[0;32mraise\u001b[0m\u001b[0;34m\u001b[0m\u001b[0;34m\u001b[0m\u001b[0m\n",
      "\u001b[0;31mValueError\u001b[0m: in user code:\n\n    /Users/browz/opt/anaconda3/envs/ds01/lib/python3.6/site-packages/tensorflow/python/keras/engine/training.py:805 train_function  *\n        return step_function(self, iterator)\n    /Users/browz/opt/anaconda3/envs/ds01/lib/python3.6/site-packages/tensorflow/python/keras/engine/training.py:795 step_function  **\n        outputs = model.distribute_strategy.run(run_step, args=(data,))\n    /Users/browz/opt/anaconda3/envs/ds01/lib/python3.6/site-packages/tensorflow/python/distribute/distribute_lib.py:1259 run\n        return self._extended.call_for_each_replica(fn, args=args, kwargs=kwargs)\n    /Users/browz/opt/anaconda3/envs/ds01/lib/python3.6/site-packages/tensorflow/python/distribute/distribute_lib.py:2730 call_for_each_replica\n        return self._call_for_each_replica(fn, args, kwargs)\n    /Users/browz/opt/anaconda3/envs/ds01/lib/python3.6/site-packages/tensorflow/python/distribute/distribute_lib.py:3417 _call_for_each_replica\n        return fn(*args, **kwargs)\n    /Users/browz/opt/anaconda3/envs/ds01/lib/python3.6/site-packages/tensorflow/python/keras/engine/training.py:788 run_step  **\n        outputs = model.train_step(data)\n    /Users/browz/opt/anaconda3/envs/ds01/lib/python3.6/site-packages/tensorflow/python/keras/engine/training.py:754 train_step\n        y_pred = self(x, training=True)\n    /Users/browz/opt/anaconda3/envs/ds01/lib/python3.6/site-packages/tensorflow/python/keras/engine/base_layer.py:998 __call__\n        input_spec.assert_input_compatibility(self.input_spec, inputs, self.name)\n    /Users/browz/opt/anaconda3/envs/ds01/lib/python3.6/site-packages/tensorflow/python/keras/engine/input_spec.py:223 assert_input_compatibility\n        str(tuple(shape)))\n\n    ValueError: Input 0 of layer sequential_3 is incompatible with the layer: expected ndim=3, found ndim=2. Full shape received: (None, 1)\n"
     ]
    }
   ],
   "source": [
    "model = keras.Sequential()\n",
    "model.add(layers.Bidirectional(layers.LSTM(64, return_sequences=True)))\n",
    "\n",
    "model.add(layers.Bidirectional(layers.LSTM(32)))\n",
    "model.add(layers.Dense(2))\n",
    "\n",
    "model.compile(loss=keras.losses.BinaryCrossentropy(from_logits=True),\n",
    "              optimizer = 'sgd',\n",
    "              metrics = ['BinaryAccuracy(), Recall(), AUC()'])\n",
    "\n",
    "model.fit(X_train, y_train, validation_data=(X_test, y_test), batch_size=1000, epochs=1)"
   ]
  },
  {
   "cell_type": "code",
   "execution_count": null,
   "id": "challenging-september",
   "metadata": {},
   "outputs": [],
   "source": []
  },
  {
   "cell_type": "code",
   "execution_count": null,
   "id": "weekly-farming",
   "metadata": {},
   "outputs": [],
   "source": []
  },
  {
   "cell_type": "code",
   "execution_count": null,
   "id": "passing-regression",
   "metadata": {},
   "outputs": [],
   "source": []
  },
  {
   "cell_type": "markdown",
   "id": "scenic-torture",
   "metadata": {},
   "source": [
    "## TF-IDF Vectorizer Modeling"
   ]
  },
  {
   "cell_type": "code",
   "execution_count": 462,
   "id": "ultimate-horse",
   "metadata": {},
   "outputs": [],
   "source": [
    "# train test split with stratification to account for class imbalance\n",
    "X_train, X_test, y_train, y_test = train_test_split(X, y, stratify=y)"
   ]
  },
  {
   "cell_type": "code",
   "execution_count": 463,
   "id": "meaningful-receiver",
   "metadata": {},
   "outputs": [],
   "source": [
    "# create dictionary holding class imbalnce\n",
    "class_weights = dict(y.value_counts(normalize=True))"
   ]
  },
  {
   "cell_type": "code",
   "execution_count": 464,
   "id": "controversial-australian",
   "metadata": {},
   "outputs": [],
   "source": [
    "# create TD-IDF to RandomForest pipeline. Set fixed parameters\n",
    "pipeline = Pipeline([('tfidf', TfidfVectorizer(stop_words=stopwords_list)),\n",
    "                     ('clf', RandomForestClassifier(class_weight=class_weights))])"
   ]
  },
  {
   "cell_type": "code",
   "execution_count": 465,
   "id": "front-transportation",
   "metadata": {},
   "outputs": [],
   "source": [
    "# create grid search parameters\n",
    "grid_params = {'clf__n_estimators': [100, 300, 600, 800],\n",
    "               'clf__criterion': ['gini', 'entropy'],\n",
    "               'clf__max_depth': [None, 5, 6, 10]}"
   ]
  },
  {
   "cell_type": "code",
   "execution_count": 466,
   "id": "sudden-munich",
   "metadata": {},
   "outputs": [],
   "source": [
    "grid_params2 = {'clf__criterion': ['entropy'], 'clf__max_depth': [None], 'clf__n_estimators': [100]}"
   ]
  },
  {
   "cell_type": "code",
   "execution_count": 467,
   "id": "occasional-lease",
   "metadata": {},
   "outputs": [
    {
     "data": {
      "text/plain": [
       "GridSearchCV(estimator=Pipeline(steps=[('tfidf',\n",
       "                                        TfidfVectorizer(stop_words=['i', 'me',\n",
       "                                                                    'my',\n",
       "                                                                    'myself',\n",
       "                                                                    'we', 'our',\n",
       "                                                                    'ours',\n",
       "                                                                    'ourselves',\n",
       "                                                                    'you',\n",
       "                                                                    \"you're\",\n",
       "                                                                    \"you've\",\n",
       "                                                                    \"you'll\",\n",
       "                                                                    \"you'd\",\n",
       "                                                                    'your',\n",
       "                                                                    'yours',\n",
       "                                                                    'yourself',\n",
       "                                                                    'yourselves',\n",
       "                                                                    'he', 'him',\n",
       "                                                                    'his',\n",
       "                                                                    'himself',\n",
       "                                                                    'she',\n",
       "                                                                    \"she's\",\n",
       "                                                                    'her',\n",
       "                                                                    'hers',\n",
       "                                                                    'herself',\n",
       "                                                                    'it',\n",
       "                                                                    \"it's\",\n",
       "                                                                    'its',\n",
       "                                                                    'itself', ...])),\n",
       "                                       ('clf',\n",
       "                                        RandomForestClassifier(class_weight={0.0: 0.2040640823195368,\n",
       "                                                                             1.0: 0.7959359176804632}))]),\n",
       "             n_jobs=-1,\n",
       "             param_grid={'clf__criterion': ['gini', 'entropy'],\n",
       "                         'clf__max_depth': [None, 5, 6, 10],\n",
       "                         'clf__n_estimators': [100, 300, 600, 800]})"
      ]
     },
     "execution_count": 467,
     "metadata": {},
     "output_type": "execute_result"
    }
   ],
   "source": [
    "# Instantiate gridsearch object \n",
    "gridsearch = GridSearchCV(pipeline, param_grid=grid_params, cv=3, n_jobs = -1)\n",
    "# fit to training set\n",
    "gridsearch.fit(X_train, y_train)"
   ]
  },
  {
   "cell_type": "code",
   "execution_count": 468,
   "id": "concrete-logging",
   "metadata": {},
   "outputs": [
    {
     "data": {
      "text/plain": [
       "{'clf__criterion': 'gini', 'clf__max_depth': None, 'clf__n_estimators': 800}"
      ]
     },
     "execution_count": 468,
     "metadata": {},
     "output_type": "execute_result"
    }
   ],
   "source": [
    "gridsearch.best_params_"
   ]
  },
  {
   "cell_type": "code",
   "execution_count": 469,
   "id": "plastic-classic",
   "metadata": {},
   "outputs": [
    {
     "data": {
      "text/plain": [
       "0.9137087447735966"
      ]
     },
     "execution_count": 469,
     "metadata": {},
     "output_type": "execute_result"
    }
   ],
   "source": [
    "# show pipeline accuracy score for best parameters\n",
    "gridsearch.score(X_test, y_test)"
   ]
  },
  {
   "cell_type": "code",
   "execution_count": 497,
   "id": "alternative-dallas",
   "metadata": {},
   "outputs": [],
   "source": [
    "# generate predictions \n",
    "y_pred_train = gridsearch.predict(X_train)\n",
    "y_pred = gridsearch.predict(X_test)"
   ]
  },
  {
   "cell_type": "code",
   "execution_count": 498,
   "id": "incorporated-gibson",
   "metadata": {},
   "outputs": [
    {
     "name": "stdout",
     "output_type": "stream",
     "text": [
      "Train Accuracy: 0.8111\n",
      "Train F1 Score: 0.8929\n",
      "------------------------------\n",
      "Test Accuracy:  0.8117\n",
      "Test F1 Score:  0.8932\n"
     ]
    }
   ],
   "source": [
    "# compare F1 and Accuracy scores to check for overfitting \n",
    "print(f'Train Accuracy: {round(accuracy_score(y_train, y_pred_train), 4)}')\n",
    "print(f'Train F1 Score: {round(f1_score(y_train, y_pred_train), 4)}')\n",
    "print('-----'*6)\n",
    "print(f'Test Accuracy:  {round(accuracy_score(y_test, y_pred), 4)}')\n",
    "print(f'Test F1 Score:  {round(f1_score(y_test, y_pred), 4)}')"
   ]
  },
  {
   "cell_type": "code",
   "execution_count": 500,
   "id": "relative-coupon",
   "metadata": {},
   "outputs": [
    {
     "data": {
      "image/png": "[encoded data removed]",
      "text/plain": [
       "<Figure size 432x288 with 2 Axes>"
      ]
     },
     "metadata": {
      "needs_background": "light"
     },
     "output_type": "display_data"
    }
   ],
   "source": [
    "# visualize confusion matrix for test data\n",
    "con_mat = confusion_matrix(y_test, y_pred)\n",
    "display = ConfusionMatrixDisplay(con_mat, display_labels=['denier', 'believer']).plot()"
   ]
  },
  {
   "cell_type": "markdown",
   "id": "cognitive-parks",
   "metadata": {},
   "source": [
    "\n",
    "# Test on external dataset\n",
    "\n",
    "A dataset from kaggle with labeled tweets as climate deniers or believers is imported for further validation of model\n",
    "\n",
    "https://www.kaggle.com/edqian/twitter-climate-change-sentiment-dataset"
   ]
  },
  {
   "cell_type": "code",
   "execution_count": 473,
   "id": "functioning-adaptation",
   "metadata": {},
   "outputs": [],
   "source": [
    "val_df = pd.read_csv('data/twitter_sentiment_data.csv')"
   ]
  },
  {
   "cell_type": "code",
   "execution_count": 474,
   "id": "black-stadium",
   "metadata": {},
   "outputs": [],
   "source": [
    "# re-map sentiment array to match existing model\n",
    "\n",
    "cond_list = [val_df['sentiment'] == -1, \n",
    "             val_df['sentiment'] == 0,\n",
    "             val_df['sentiment'] == 1,\n",
    "             val_df['sentiment'] == 2]\n",
    "\n",
    "choice_list = [0, None, val_df['sentiment'], None]\n",
    "\n",
    "val_df['sentiment'] = np.select(cond_list, choice_list, 10)"
   ]
  },
  {
   "cell_type": "code",
   "execution_count": 475,
   "id": "alpha-johnson",
   "metadata": {},
   "outputs": [
    {
     "data": {
      "text/plain": [
       "1    22962\n",
       "0     3990\n",
       "Name: sentiment, dtype: int64"
      ]
     },
     "execution_count": 475,
     "metadata": {},
     "output_type": "execute_result"
    }
   ],
   "source": [
    "# check for errors\n",
    "val_df['sentiment'].value_counts()"
   ]
  },
  {
   "cell_type": "code",
   "execution_count": 476,
   "id": "funky-printer",
   "metadata": {},
   "outputs": [],
   "source": [
    "# check for matching tweets across datasets\n",
    "count = 0\n",
    "for id_ in val_df['tweetid']:\n",
    "    if id_ in tweets['id']:\n",
    "        count += 1\n",
    "        print(id_)"
   ]
  },
  {
   "cell_type": "code",
   "execution_count": 477,
   "id": "color-russia",
   "metadata": {
    "scrolled": true
   },
   "outputs": [],
   "source": [
    "# remove rows without usable ground truth\n",
    "val_df_sub = val_df.dropna(subset = ['sentiment'])\n",
    "\n",
    "# remove retweets\n",
    "val_df_sub = val_df_sub[~val_df_sub['message'].str.startswith('RT ')]"
   ]
  },
  {
   "cell_type": "code",
   "execution_count": 478,
   "id": "nominated-joint",
   "metadata": {},
   "outputs": [],
   "source": [
    "# clean tweets\n",
    "val_processed_text = val_df_sub['message'].apply(lambda x: clean_and_lem(x))"
   ]
  },
  {
   "cell_type": "code",
   "execution_count": 496,
   "id": "heated-terrace",
   "metadata": {},
   "outputs": [
    {
     "data": {
      "text/plain": [
       "GridSearchCV(estimator=Pipeline(steps=[('tfidf',\n",
       "                                        TfidfVectorizer(stop_words=['i', 'me',\n",
       "                                                                    'my',\n",
       "                                                                    'myself',\n",
       "                                                                    'we', 'our',\n",
       "                                                                    'ours',\n",
       "                                                                    'ourselves',\n",
       "                                                                    'you',\n",
       "                                                                    \"you're\",\n",
       "                                                                    \"you've\",\n",
       "                                                                    \"you'll\",\n",
       "                                                                    \"you'd\",\n",
       "                                                                    'your',\n",
       "                                                                    'yours',\n",
       "                                                                    'yourself',\n",
       "                                                                    'yourselves',\n",
       "                                                                    'he', 'him',\n",
       "                                                                    'his',\n",
       "                                                                    'himself',\n",
       "                                                                    'she',\n",
       "                                                                    \"she's\",\n",
       "                                                                    'her',\n",
       "                                                                    'hers',\n",
       "                                                                    'herself',\n",
       "                                                                    'it',\n",
       "                                                                    \"it's\",\n",
       "                                                                    'its',\n",
       "                                                                    'itself', ...])),\n",
       "                                       ('clf',\n",
       "                                        RandomForestClassifier(class_weight={0.0: 0.2040640823195368,\n",
       "                                                                             1.0: 0.7959359176804632}))]),\n",
       "             n_jobs=-1,\n",
       "             param_grid={'clf__criterion': ['gini', 'entropy'],\n",
       "                         'clf__max_depth': [None, 5, 6, 10],\n",
       "                         'clf__n_estimators': [100, 300, 600, 800]})"
      ]
     },
     "execution_count": 496,
     "metadata": {},
     "output_type": "execute_result"
    }
   ],
   "source": [
    "# Instantiate gridsearch object \n",
    "gridsearch = GridSearchCV(pipeline, param_grid=grid_params, n_jobs = -1)\n",
    "# fit to training set\n",
    "gridsearch.fit(val_processed_text, val_df_sub['sentiment'].astype(int))"
   ]
  },
  {
   "cell_type": "code",
   "execution_count": 479,
   "id": "experienced-impression",
   "metadata": {},
   "outputs": [],
   "source": [
    "# make predictions on validation data\n",
    "val_predict = gridsearch.predict(val_processed_text)\n",
    "y = val_df_sub['sentiment'].astype(int)"
   ]
  },
  {
   "cell_type": "code",
   "execution_count": 487,
   "id": "environmental-grain",
   "metadata": {},
   "outputs": [
    {
     "name": "stdout",
     "output_type": "stream",
     "text": [
      "Accuracy Score :      0.8316\n",
      "Validation F1 Score : 0.8983\n"
     ]
    },
    {
     "data": {
      "image/png": "[encoded data removed]",
      "text/plain": [
       "<Figure size 432x288 with 2 Axes>"
      ]
     },
     "metadata": {
      "needs_background": "light"
     },
     "output_type": "display_data"
    }
   ],
   "source": [
    "print(f\"Accuracy Score :      {round(accuracy_score(y, val_predict), 4)}\")\n",
    "print(f\"Validation F1 Score : {round(f1_score(y, val_predict), 4)}\")\n",
    "\n",
    "ConfusionMatrixDisplay(confusion_matrix(y, val_predict, normalize='true'), display_labels=['denier', 'believer']).plot();"
   ]
  },
  {
   "cell_type": "markdown",
   "id": "conditional-float",
   "metadata": {},
   "source": [
    "## Apply Classifier to remainder dataset\n",
    "\n",
    "Run the entire dataset through the gridsearch pipeline to make predictions on each tweet"
   ]
  },
  {
   "cell_type": "code",
   "execution_count": 481,
   "id": "crude-developer",
   "metadata": {},
   "outputs": [],
   "source": [
    "# remove irrelevant response tweets\n",
    "tweets_final = tweets[tweets['in_reply_to_screen_name'].isna()]"
   ]
  },
  {
   "cell_type": "code",
   "execution_count": 482,
   "id": "stupid-mounting",
   "metadata": {},
   "outputs": [
    {
     "name": "stderr",
     "output_type": "stream",
     "text": [
      "/Users/browz/opt/anaconda3/envs/ds01/lib/python3.6/site-packages/ipykernel_launcher.py:2: SettingWithCopyWarning: \n",
      "A value is trying to be set on a copy of a slice from a DataFrame.\n",
      "Try using .loc[row_indexer,col_indexer] = value instead\n",
      "\n",
      "See the caveats in the documentation: https://pandas.pydata.org/pandas-docs/stable/user_guide/indexing.html#returning-a-view-versus-a-copy\n",
      "  \n"
     ]
    }
   ],
   "source": [
    "# prepare tweets for model\n",
    "tweets_final['clean_text'] = tweets_final['full_text'].apply(lambda x: clean_and_lem(x)) \n",
    "tweets_final = tweets_final[tweets_final.clean_text.str.strip() != '']\n",
    "tweets_final = tweets_final[tweets_final.clean_text.str.strip() != ' ']\n",
    "# run text through model\n",
    "tweets_final['believer_pred'] = gridsearch.predict(tweets_final['clean_text'])"
   ]
  },
  {
   "cell_type": "code",
   "execution_count": 483,
   "id": "proof-twelve",
   "metadata": {},
   "outputs": [
    {
     "data": {
      "text/plain": [
       "1.0    0.931323\n",
       "0.0    0.068677\n",
       "Name: believer_pred, dtype: float64"
      ]
     },
     "execution_count": 483,
     "metadata": {},
     "output_type": "execute_result"
    }
   ],
   "source": [
    "tweets_final['believer_pred'].value_counts(normalize=True)"
   ]
  },
  {
   "cell_type": "code",
   "execution_count": null,
   "id": "sixth-universal",
   "metadata": {},
   "outputs": [],
   "source": []
  },
  {
   "cell_type": "code",
   "execution_count": 484,
   "id": "indonesian-lighter",
   "metadata": {},
   "outputs": [],
   "source": [
    "# sanity check on predictions\n",
    "def check_pred(df, n=None):\n",
    "    if n == None:\n",
    "        n = np.random.randint(0,len(df)-1)\n",
    "    print(df.iloc[n]['full_text'], '\\n', df.iloc[n]['believer_pred'])\n",
    "    print(f'https://twitter.com/{df.iloc[n][\"screen_names\"]}/status/{df.iloc[n][\"id\"]}')"
   ]
  },
  {
   "cell_type": "code",
   "execution_count": 485,
   "id": "corrected-abuse",
   "metadata": {},
   "outputs": [
    {
     "name": "stdout",
     "output_type": "stream",
     "text": [
      "Is this picture supposed to tie wildfires w/ climate change?  Perhaps you should use a picture of illegals and homeless sitting arounf their campfires, this is how it's happening &amp; this is why they are more frequent.  CA has most illegals and most homeless, all use fire to warm. https://t.co/3tXda23CpG \n",
      " 0.0\n",
      "https://twitter.com/jacob_patricia/status/1067199457056514050\n"
     ]
    }
   ],
   "source": [
    "check_pred(tweets_final[tweets_final['believer_pred']==0])"
   ]
  },
  {
   "cell_type": "markdown",
   "id": "brutal-liberal",
   "metadata": {},
   "source": [
    "# Sentiment Analysis"
   ]
  },
  {
   "cell_type": "code",
   "execution_count": null,
   "id": "identified-scientist",
   "metadata": {},
   "outputs": [],
   "source": [
    "def sentiment_score(sentence): \n",
    "  \n",
    "    # Instntiate SentimentIntensityAnalyzer object\n",
    "    sid_obj = SentimentIntensityAnalyzer() \n",
    "  \n",
    "    # store scoring data in dictionary  \n",
    "    sentiment_dict = sid_obj.polarity_scores(sentence) \n",
    "    \n",
    "    return sentiment_dict['compound']"
   ]
  },
  {
   "cell_type": "code",
   "execution_count": 416,
   "id": "clinical-brass",
   "metadata": {},
   "outputs": [],
   "source": [
    "sentiment = to_train['full_text'].apply(lambda x: sentiment_score(x))"
   ]
  },
  {
   "cell_type": "code",
   "execution_count": 418,
   "id": "deluxe-argument",
   "metadata": {},
   "outputs": [],
   "source": [
    "to_train = to_train.assign(sent = sentiment)"
   ]
  },
  {
   "cell_type": "code",
   "execution_count": 421,
   "id": "binding-software",
   "metadata": {},
   "outputs": [
    {
     "data": {
      "text/plain": [
       "believer\n",
       "0.0   -0.023605\n",
       "1.0    0.060707\n",
       "Name: sent, dtype: float64"
      ]
     },
     "execution_count": 421,
     "metadata": {},
     "output_type": "execute_result"
    }
   ],
   "source": [
    "to_train.groupby(['believer'])['sent'].mean()"
   ]
  },
  {
   "cell_type": "code",
   "execution_count": 457,
   "id": "tested-friendship",
   "metadata": {},
   "outputs": [],
   "source": [
    "sent_df = to_train[to_train['sent'] != 0].copy()\n",
    "sent_df['sent'] = sent_df['sent'].multiply(100)"
   ]
  },
  {
   "cell_type": "code",
   "execution_count": 458,
   "id": "nearby-stamp",
   "metadata": {},
   "outputs": [],
   "source": [
    "conditions = [sent_df['sent'].isin(range(-100,-50)),\n",
    "              sent_df['sent'].isin(range(-50, 0)),\n",
    "              sent_df['sent'].isin(range(0, 50)),\n",
    "              sent_df['sent'].isin(range(50, 100))]\n",
    "\n",
    "choices =[-2,-1,0,1]\n",
    "\n",
    "sent_df['sent_cat'] = np.select(condlist=conditions, choicelist=choices)"
   ]
  },
  {
   "cell_type": "code",
   "execution_count": 459,
   "id": "serial-while",
   "metadata": {},
   "outputs": [
    {
     "data": {
      "text/plain": [
       " 0    70797\n",
       "-1     1418\n",
       " 1      182\n",
       "-2       92\n",
       "Name: sent_cat, dtype: int64"
      ]
     },
     "execution_count": 459,
     "metadata": {},
     "output_type": "execute_result"
    }
   ],
   "source": [
    "sent_df['sent_cat'].value_counts()"
   ]
  },
  {
   "cell_type": "code",
   "execution_count": null,
   "id": "restricted-tsunami",
   "metadata": {},
   "outputs": [],
   "source": []
  }
 ],
 "metadata": {
  "kernelspec": {
   "display_name": "Python [conda env:ds01] *",
   "language": "python",
   "name": "conda-env-ds01-py"
  },
  "language_info": {
   "codemirror_mode": {
    "name": "ipython",
    "version": 3
   },
   "file_extension": ".py",
   "mimetype": "text/x-python",
   "name": "python",
   "nbconvert_exporter": "python",
   "pygments_lexer": "ipython3",
   "version": "3.6.9"
  }
 },
 "nbformat": 4,
 "nbformat_minor": 5
}
