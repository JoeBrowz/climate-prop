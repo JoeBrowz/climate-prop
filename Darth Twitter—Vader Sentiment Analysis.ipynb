{
 "cells": [
  {
   "cell_type": "code",
   "execution_count": 2,
   "id": "internal-knowing",
   "metadata": {},
   "outputs": [],
   "source": [
    "import twint\n",
    "import nest_asyncio\n",
    "nest_asyncio.apply()\n",
    "import pandas as pd\n",
    "import yfinance as yf\n",
    "import json\n",
    "import requests\n",
    "import datetime\n",
    "\n",
    "from nltk.sentiment.vader import SentimentIntensityAnalyzer"
   ]
  },
  {
   "cell_type": "code",
   "execution_count": 28,
   "id": "undefined-harvey",
   "metadata": {},
   "outputs": [
    {
     "data": {
      "text/plain": [
       "[DatetimeIndex(['2020-01-01', '2020-03-01'], dtype='datetime64[ns]', freq='2MS'),\n",
       " DatetimeIndex(['2020-01-31', '2020-02-29', '2020-03-31', '2020-04-30'], dtype='datetime64[ns]', freq='M')]"
      ]
     },
     "execution_count": 28,
     "metadata": {},
     "output_type": "execute_result"
    }
   ],
   "source": [
    "org = 'microsoft'\n",
    "s_date = '2020-01-01'\n",
    "e_date = '2020-04-30'\n",
    "\n",
    "months = [pd.date_range(start=s_date, end=e_date, freq='2MS'), pd.date_range(start=s_date, end=e_date, freq='M')]\n",
    "months"
   ]
  },
  {
   "cell_type": "code",
   "execution_count": 25,
   "id": "reasonable-banner",
   "metadata": {},
   "outputs": [],
   "source": [
    "class Organization:\n",
    "    '''\n",
    "    Class contains organization, related keywords, and methods for gathering tweets and financial data. \n",
    "    Pass the name of the organization as a string to instantiate.\n",
    "    '''\n",
    "    \n",
    "    def __init__(self, name, key_words=None):\n",
    "        self.name = name\n",
    "        if key_words == None:\n",
    "            self.keywords = set(input().lower().split(\", \"))\n",
    "        else:\n",
    "            self.keywords = set(key_words)        \n",
    "    \n",
    "    def tweet_scrape(self, key_word, start, end, tweets_per):\n",
    "        c = twint.Config()\n",
    "        c.Search = key_word\n",
    "        c.Limit = tweets_per\n",
    "        c.Lang = 'en'\n",
    "        c.Since = start\n",
    "        c.Until = end\n",
    "        c.Pandas = True\n",
    "        c.Hide_output = True\n",
    "        c.Count = True\n",
    "        c.Replies = True\n",
    "        \n",
    "        twint.run.Search(c)\n",
    "        \n",
    "        cols = ['date', 'username', 'name', 'tweet', 'hashtags', 'nlikes', 'search']\n",
    "        \n",
    "        df = twint.storage.panda.Tweets_df\n",
    "        \n",
    "        return df[cols]\n",
    "    \n",
    "    def get_all_tweets(self, start, end, frequency='M', tweets_per=200):    \n",
    "        '''\n",
    "        takes Organization's keywords and name and returns a pandas dataframe with tweets scraped from the input time range and the datetime requence code, see pandas.date_range documentation\n",
    "        \n",
    "        '''\n",
    "        self.start_interest = start\n",
    "        self.stop_interest = end\n",
    "        \n",
    "        df = pd.DataFrame()\n",
    "        months = [pd.date_range(start=start, end=end, freq=f'{frequency}S'), pd.date_range(start=start, end=end, freq=frequency)]\n",
    "        for i in range(len(months[0])):\n",
    "            df = pd.concat([df, self.tweet_scrape(self.name, str(months[0][i]), str(months[1][i]), tweets_per)])\n",
    "            for key in self.keywords:\n",
    "                df = pd.concat([df, self.tweet_scrape(key, str(months[0][i]), str(months[1][i]), tweets_per)])\n",
    "        \n",
    "        return df \n",
    "            \n",
    "      \n",
    "    def quarterly_rev(self):\n",
    "        f = open(\".keys/alpha_vantage.JSON\")\n",
    "        key = json.load(f)\n",
    "        # if cloning and running, own api key required\n",
    "        api_key = key['api_key']\n",
    "        try:\n",
    "            self.ticker\n",
    "        except AttributeError:\n",
    "            self.ticker = input()\n",
    "        url = f\"https://www.alphavantage.co/query?function=EARNINGS&symbol={self.ticker}&apikey={api_key}\"\n",
    "\n",
    "        resp = requests.get(url)\n",
    "            \n",
    "        stonk = json.loads(resp.text)\n",
    "        \n",
    "        return stonk['quarterlyEarnings']\n",
    "    \n",
    "    def relevent_earnings(self):\n",
    "        earnings = {dic['fiscalDateEnding']: dic['reportedEPS'] for dic in self.quarterly_rev}\n",
    "        \n",
    "        relevent_quarters: []\n",
    "        if self.start_interest in earnings.keys():\n",
    "            relevent_quarters.append(self.start_interst)\n",
    "        "
   ]
  },
  {
   "cell_type": "code",
   "execution_count": 26,
   "id": "first-filename",
   "metadata": {},
   "outputs": [
    {
     "data": {
      "text/plain": [
       "'microsoft'"
      ]
     },
     "execution_count": 26,
     "metadata": {},
     "output_type": "execute_result"
    }
   ],
   "source": [
    "msft = Organization('microsoft', key_words = ['pc', 'windows 10', 'surface pro', 'xbox'])\n",
    "msft.name"
   ]
  },
  {
   "cell_type": "code",
   "execution_count": 15,
   "id": "regular-termination",
   "metadata": {},
   "outputs": [
    {
     "name": "stdout",
     "output_type": "stream",
     "text": [
      "[+] Finished: Successfully collected 200 Tweets.\n",
      "[+] Finished: Successfully collected 200 Tweets.\n",
      "[+] Finished: Successfully collected 200 Tweets.\n",
      "[+] Finished: Successfully collected 200 Tweets.\n",
      "[+] Finished: Successfully collected 200 Tweets.\n",
      "[+] Finished: Successfully collected 200 Tweets.\n",
      "[+] Finished: Successfully collected 200 Tweets.\n",
      "[+] Finished: Successfully collected 200 Tweets.\n",
      "[+] Finished: Successfully collected 200 Tweets.\n",
      "[+] Finished: Successfully collected 200 Tweets.\n",
      "[+] Finished: Successfully collected 200 Tweets.\n",
      "[+] Finished: Successfully collected 200 Tweets.\n",
      "[+] Finished: Successfully collected 200 Tweets.\n",
      "[+] Finished: Successfully collected 200 Tweets.\n",
      "[+] Finished: Successfully collected 200 Tweets.\n",
      "[+] Finished: Successfully collected 200 Tweets.\n",
      "[+] Finished: Successfully collected 200 Tweets.\n",
      "[+] Finished: Successfully collected 200 Tweets.\n",
      "[+] Finished: Successfully collected 268 Tweets.\n",
      "[+] Finished: Successfully collected 200 Tweets.\n"
     ]
    }
   ],
   "source": [
    "# msft.related_keys(['pc', 'windows 10', 'surface pro', 'xbox'])\n",
    "tweets = msft.get_all_tweets('2020-01-01', '2020-04-30')\n"
   ]
  },
  {
   "cell_type": "code",
   "execution_count": 29,
   "id": "beginning-logan",
   "metadata": {},
   "outputs": [
    {
     "ename": "NameError",
     "evalue": "name 'tweets' is not defined",
     "output_type": "error",
     "traceback": [
      "\u001b[0;31m---------------------------------------------------------------------------\u001b[0m",
      "\u001b[0;31mNameError\u001b[0m                                 Traceback (most recent call last)",
      "\u001b[0;32m<ipython-input-29-57fc2c7c7187>\u001b[0m in \u001b[0;36m<module>\u001b[0;34m()\u001b[0m\n\u001b[0;32m----> 1\u001b[0;31m \u001b[0mtweets\u001b[0m\u001b[0;34m\u001b[0m\u001b[0;34m\u001b[0m\u001b[0m\n\u001b[0m",
      "\u001b[0;31mNameError\u001b[0m: name 'tweets' is not defined"
     ]
    }
   ],
   "source": [
    "tweets"
   ]
  },
  {
   "cell_type": "code",
   "execution_count": null,
   "id": "foster-taste",
   "metadata": {},
   "outputs": [],
   "source": [
    "def sentiment_score(sentence): \n",
    "  \n",
    "    # Instntiate SentimentIntensityAnalyzer object\n",
    "    sid_obj = SentimentIntensityAnalyzer() \n",
    "  \n",
    "    # store scoring data in dictionary  \n",
    "    sentiment_dict = sid_obj.polarity_scores(sentence) \n",
    "    \n",
    "    return sentiment_dict['compound']"
   ]
  },
  {
   "cell_type": "code",
   "execution_count": null,
   "id": "hispanic-russia",
   "metadata": {},
   "outputs": [],
   "source": [
    "tweets['vader'] = tweets['tweet'].map(lambda x: sentiment_score(x))"
   ]
  },
  {
   "cell_type": "code",
   "execution_count": null,
   "id": "quantitative-shame",
   "metadata": {},
   "outputs": [],
   "source": [
    "sent_score = tweets.vader.mean()"
   ]
  },
  {
   "cell_type": "code",
   "execution_count": null,
   "id": "opening-denmark",
   "metadata": {},
   "outputs": [],
   "source": [
    "print(f\"Between {s_date} and {e_date}, the sentiment score for {key_word} was on average {round(sent_score, 3)}.\")"
   ]
  },
  {
   "cell_type": "code",
   "execution_count": null,
   "id": "excess-spotlight",
   "metadata": {},
   "outputs": [],
   "source": [
    "tweets.head()"
   ]
  },
  {
   "cell_type": "markdown",
   "id": "lightweight-massage",
   "metadata": {},
   "source": [
    "## Financial Data"
   ]
  },
  {
   "cell_type": "code",
   "execution_count": null,
   "id": "municipal-clerk",
   "metadata": {},
   "outputs": [],
   "source": [
    "## implement function to get ticker symbol from company name"
   ]
  },
  {
   "cell_type": "code",
   "execution_count": 27,
   "id": "judicial-adapter",
   "metadata": {
    "scrolled": true
   },
   "outputs": [
    {
     "name": "stdout",
     "output_type": "stream",
     "text": [
      "msft\n"
     ]
    },
    {
     "data": {
      "text/plain": [
       "{'2020-12-31': '2.03',\n",
       " '2020-09-30': '1.82',\n",
       " '2020-06-30': '1.46',\n",
       " '2020-03-31': '1.4',\n",
       " '2019-12-31': '1.51',\n",
       " '2019-09-30': '1.38',\n",
       " '2019-06-30': '1.37',\n",
       " '2019-03-31': '1.14',\n",
       " '2018-12-31': '1.1',\n",
       " '2018-09-30': '1.14',\n",
       " '2018-06-30': '1.13',\n",
       " '2018-03-31': '0.95',\n",
       " '2017-12-31': '0.96',\n",
       " '2017-09-30': '0.84',\n",
       " '2017-06-30': '0.98',\n",
       " '2017-03-31': '0.73',\n",
       " '2016-12-31': '0.84',\n",
       " '2016-09-30': '0.76',\n",
       " '2016-06-30': '0.69',\n",
       " '2016-03-31': '0.62',\n",
       " '2015-12-31': '0.78',\n",
       " '2015-09-30': '0.67',\n",
       " '2015-06-30': '0.6',\n",
       " '2015-03-31': '0.61',\n",
       " '2014-12-31': '0.71',\n",
       " '2014-09-30': '0.54',\n",
       " '2014-06-30': '0.55',\n",
       " '2014-03-31': '0.68',\n",
       " '2013-12-31': '0.78',\n",
       " '2013-09-30': '0.62',\n",
       " '2013-06-30': '0.66',\n",
       " '2013-03-31': '0.72',\n",
       " '2012-12-31': '0.76',\n",
       " '2012-09-30': '0.53',\n",
       " '2012-06-30': '0.67',\n",
       " '2012-03-31': '0.6',\n",
       " '2011-12-31': '0.78',\n",
       " '2011-09-30': '0.68',\n",
       " '2011-06-30': '0.69',\n",
       " '2011-03-31': '0.61',\n",
       " '2010-12-31': '0.77',\n",
       " '2010-09-30': '0.62',\n",
       " '2010-06-30': '0.51',\n",
       " '2010-03-31': '0.45',\n",
       " '2009-12-31': '0.74',\n",
       " '2009-09-30': '0.4',\n",
       " '2009-06-30': '0.36',\n",
       " '2009-03-31': '0.39',\n",
       " '2008-12-31': '0.47',\n",
       " '2008-09-30': '0.48',\n",
       " '2008-06-30': '0.46',\n",
       " '2008-03-31': '0.47',\n",
       " '2007-12-31': '0.5',\n",
       " '2007-09-30': '0.45',\n",
       " '2007-06-30': '0.39',\n",
       " '2007-03-31': '0.49',\n",
       " '2006-12-31': '0.26',\n",
       " '2006-09-30': '0.35',\n",
       " '2006-06-30': '0.31',\n",
       " '2006-03-31': '0.32',\n",
       " '2005-12-31': '0.33',\n",
       " '2005-09-30': '0.31',\n",
       " '2005-06-30': '0.32',\n",
       " '2005-03-31': '0.32',\n",
       " '2004-12-31': '0.35',\n",
       " '2004-09-30': '0.31',\n",
       " '2004-06-30': '0.28',\n",
       " '2004-03-31': '0.34',\n",
       " '2003-12-31': '0.34',\n",
       " '2003-09-30': '0.3',\n",
       " '2003-06-30': '0.23',\n",
       " '2003-03-31': '0.27',\n",
       " '2002-12-31': '0.27',\n",
       " '2002-09-30': '0.28',\n",
       " '2002-06-30': '0.21',\n",
       " '2002-03-31': '0.25',\n",
       " '2001-12-31': '0.25',\n",
       " '2001-09-30': '0.22',\n",
       " '2001-06-30': '0.22',\n",
       " '2001-03-31': '0.22',\n",
       " '2000-12-31': '0.24',\n",
       " '2000-09-30': '0.23',\n",
       " '2000-06-30': '0.22',\n",
       " '2000-03-31': '0.22',\n",
       " '1999-12-31': '0.24',\n",
       " '1999-09-30': '0.19',\n",
       " '1999-06-30': '0.2',\n",
       " '1999-03-31': '0.19',\n",
       " '1998-12-31': '0.18',\n",
       " '1998-09-30': '0.14',\n",
       " '1998-06-30': '0.13',\n",
       " '1998-03-31': '0.13',\n",
       " '1997-12-31': '0.11',\n",
       " '1997-09-30': '0.09',\n",
       " '1997-06-30': '0.1',\n",
       " '1997-03-31': '0.1',\n",
       " '1996-12-31': '0.07',\n",
       " '1996-09-30': '0.06',\n",
       " '1996-06-30': '0.05',\n",
       " '1996-03-31': '0.06'}"
      ]
     },
     "execution_count": 27,
     "metadata": {},
     "output_type": "execute_result"
    }
   ],
   "source": [
    "msft.quarterly_rev()"
   ]
  },
  {
   "cell_type": "code",
   "execution_count": null,
   "id": "ordered-minority",
   "metadata": {},
   "outputs": [],
   "source": [
    "\"0x1a8E53C684f38E1AC640f3f510B0CbA3aFd3EE70\" == \"0x1a8E53C684f38E1AC640f3f510B0CbA3aFd3EE70\""
   ]
  },
  {
   "cell_type": "code",
   "execution_count": null,
   "id": "lightweight-memorial",
   "metadata": {},
   "outputs": [],
   "source": []
  }
 ],
 "metadata": {
  "kernelspec": {
   "display_name": "Python [conda env:ds01] *",
   "language": "python",
   "name": "conda-env-ds01-py"
  },
  "language_info": {
   "codemirror_mode": {
    "name": "ipython",
    "version": 3
   },
   "file_extension": ".py",
   "mimetype": "text/x-python",
   "name": "python",
   "nbconvert_exporter": "python",
   "pygments_lexer": "ipython3",
   "version": "3.6.9"
  }
 },
 "nbformat": 4,
 "nbformat_minor": 5
}
