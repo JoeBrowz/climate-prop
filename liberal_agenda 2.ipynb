{
 "cells": [
  {
   "cell_type": "markdown",
   "id": "challenging-prairie",
   "metadata": {},
   "source": [
    "# Import Packages"
   ]
  },
  {
   "cell_type": "code",
   "execution_count": 36,
   "id": "empty-lecture",
   "metadata": {},
   "outputs": [],
   "source": [
    "import pandas as pd\n",
    "import numpy as np\n",
    "import pickle\n",
    "import matplotlib.pyplot as plt\n",
    "import re\n",
    "import matplotlib.pyplot as plt\n",
    "%matplotlib inline\n",
    "\n",
    "import nltk\n",
    "# nltk.download('wordnet')\n",
    "from nltk.stem import WordNetLemmatizer\n",
    "from nltk.corpus import stopwords\n",
    "import string\n",
    "from nltk import word_tokenize, FreqDist\n",
    "from nltk.sentiment.vader import SentimentIntensityAnalyzer\n",
    "\n",
    "from sklearn.pipeline import Pipeline\n",
    "from sklearn.model_selection import train_test_split, GridSearchCV\n",
    "from sklearn.feature_extraction.text import TfidfVectorizer, CountVectorizer, TfidfTransformer\n",
    "from sklearn.metrics import accuracy_score, f1_score\n",
    "from sklearn.metrics import confusion_matrix, ConfusionMatrixDisplay\n",
    "from sklearn.experimental import enable_hist_gradient_boosting\n",
    "from sklearn.ensemble import RandomForestClassifier, HistGradientBoostingClassifier\n",
    "from sklearn.naive_bayes import MultinomialNB\n",
    "from xgboost import XGBClassifier"
   ]
  },
  {
   "cell_type": "markdown",
   "id": "protective-edinburgh",
   "metadata": {},
   "source": [
    "### Load in Pickeled DataFrame"
   ]
  },
  {
   "cell_type": "code",
   "execution_count": 2,
   "id": "practical-penetration",
   "metadata": {},
   "outputs": [],
   "source": [
    "tweets = pd.read_pickle('data/pickle_jar/cleaned2.pkl')"
   ]
  },
  {
   "cell_type": "markdown",
   "id": "bronze-cabin",
   "metadata": {},
   "source": [
    "## Explore Data"
   ]
  },
  {
   "cell_type": "code",
   "execution_count": 3,
   "id": "shared-madrid",
   "metadata": {},
   "outputs": [
    {
     "name": "stdout",
     "output_type": "stream",
     "text": [
      "<class 'pandas.core.frame.DataFrame'>\n",
      "RangeIndex: 1970258 entries, 0 to 1970257\n",
      "Data columns (total 21 columns):\n",
      " #   Column                   Dtype         \n",
      "---  ------                   -----         \n",
      " 0   created_at               datetime64[ns]\n",
      " 1   id                       int64         \n",
      " 2   full_text                object        \n",
      " 3   truncated                bool          \n",
      " 4   in_reply_to_screen_name  object        \n",
      " 5   is_quote_status          bool          \n",
      " 6   retweet_count            int64         \n",
      " 7   favorite_count           int64         \n",
      " 8   lang                     object        \n",
      " 9   retweeted_status         object        \n",
      " 10  names                    object        \n",
      " 11  screen_names             object        \n",
      " 12  locations                object        \n",
      " 13  follower_counts          int64         \n",
      " 14  user_created_at          object        \n",
      " 15  verified                 bool          \n",
      " 16  statuses_counts          int64         \n",
      " 17  location                 object        \n",
      " 18  country                  object        \n",
      " 19  hashtags                 object        \n",
      " 20  withheld_in_countries    object        \n",
      "dtypes: bool(3), datetime64[ns](1), int64(5), object(12)\n",
      "memory usage: 276.2+ MB\n"
     ]
    }
   ],
   "source": [
    "# verify import\n",
    "tweets.info()"
   ]
  },
  {
   "cell_type": "code",
   "execution_count": 4,
   "id": "interpreted-mitchell",
   "metadata": {},
   "outputs": [
    {
     "data": {
      "text/plain": [
       "created_at                       0\n",
       "id                               0\n",
       "full_text                        0\n",
       "truncated                        0\n",
       "in_reply_to_screen_name    1525932\n",
       "is_quote_status                  0\n",
       "retweet_count                    0\n",
       "favorite_count                   0\n",
       "lang                             0\n",
       "retweeted_status           1970258\n",
       "names                            0\n",
       "screen_names                     0\n",
       "locations                        0\n",
       "follower_counts                  0\n",
       "user_created_at                  0\n",
       "verified                         0\n",
       "statuses_counts                  0\n",
       "location                   1889581\n",
       "country                    1889581\n",
       "hashtags                   1234431\n",
       "withheld_in_countries      1970213\n",
       "dtype: int64"
      ]
     },
     "execution_count": 4,
     "metadata": {},
     "output_type": "execute_result"
    }
   ],
   "source": [
    "# look at missing values\n",
    "tweets.isna().sum()"
   ]
  },
  {
   "cell_type": "markdown",
   "id": "beneficial-croatia",
   "metadata": {},
   "source": [
    "## Prepare Data for Modeling\n",
    "\n",
    "First, ground truth must be determined. To do this, hashtags are examined and parsed to find ones that clearly indicate a person's view on climate change. Then all tweets containing those tweets are labeled and prepared for modeling"
   ]
  },
  {
   "cell_type": "code",
   "execution_count": 5,
   "id": "rubber-departure",
   "metadata": {},
   "outputs": [],
   "source": [
    "# subset data that contains hashtags\n",
    "df = tweets.dropna(subset=['hashtags'])"
   ]
  },
  {
   "cell_type": "code",
   "execution_count": 6,
   "id": "celtic-diploma",
   "metadata": {},
   "outputs": [],
   "source": [
    "# create a list of all hashtags\n",
    "\n",
    "hashtags_all = []\n",
    "for row in df['hashtags']:\n",
    "    for item in row:\n",
    "        hashtags_all.append(item.lower())"
   ]
  },
  {
   "cell_type": "code",
   "execution_count": 7,
   "id": "relevant-vienna",
   "metadata": {},
   "outputs": [
    {
     "name": "stdout",
     "output_type": "stream",
     "text": [
      "['climatechange', 'globalwarming', 'climateaction', 'environment', 'climate']\n"
     ]
    }
   ],
   "source": [
    "# see hashtag count and sort by frequency\n",
    "unique_hashtags = list(pd.Series(hashtags_all).value_counts().index)\n",
    "# view top 5 for reference\n",
    "print(unique_hashtags[:5])"
   ]
  },
  {
   "cell_type": "code",
   "execution_count": 8,
   "id": "egyptian-visitor",
   "metadata": {},
   "outputs": [],
   "source": [
    "# most common tags associated with sample of tweets presenting climate denial\n",
    "denier_tags = ['climatechangeisfalse', 'climatechangenotreal', 'climatechangehoax', \n",
    "               'globalwarminghoax', 'tcot', 'ccot', 'tlot', 'pjnet', 'rednationrising', 'votered', \n",
    "               'libtard', 'libtards', 'maga']\n",
    "\n",
    "# most common tags associated with sample of tweets indicating belief in climate science\n",
    "believer_tags = ['climatechangeisreal', 'actonclimate', 'extinctionrebellion', 'climateemergency', \n",
    "                 'climateactionnow', 'capitalism', 'public_health', 'climateaction', 'humanityextinction',\n",
    "                 'activism', 'noplanetb', 'savetheplanet']"
   ]
  },
  {
   "cell_type": "code",
   "execution_count": 10,
   "id": "ultimate-vitamin",
   "metadata": {
    "scrolled": true
   },
   "outputs": [],
   "source": [
    "# assign believer status to each row in the dataset\n",
    "denier_series = []\n",
    "for idx, row in df['hashtags'].iteritems():\n",
    "    # set a count for matching tags in row\n",
    "    believe = 0\n",
    "    deny = 0 \n",
    "    for tag in row:\n",
    "        if tag.lower() in denier_tags:\n",
    "            deny += 1\n",
    "        elif tag.lower() in believer_tags:\n",
    "            believe += 1\n",
    "    \n",
    "    # check that only one type of tag appears\n",
    "    if (believe > 0) and (deny == 0):\n",
    "        denier_series.append(0)\n",
    "    elif (believe == 0) and (deny > 0):\n",
    "        denier_series.append(1)\n",
    "    else: # <-- if no matching tag OR if both appear, label as unknown using nonetype \n",
    "        denier_series.append(None)"
   ]
  },
  {
   "cell_type": "markdown",
   "id": "substantial-vertical",
   "metadata": {},
   "source": [
    "### Add believer status to DataFrame"
   ]
  },
  {
   "cell_type": "code",
   "execution_count": 11,
   "id": "respective-prague",
   "metadata": {},
   "outputs": [],
   "source": [
    "df = df.assign(denier = denier_series)"
   ]
  },
  {
   "cell_type": "code",
   "execution_count": 12,
   "id": "demographic-record",
   "metadata": {},
   "outputs": [],
   "source": [
    "# subset dataframe to only include positive and negative cases\n",
    "to_train = df.dropna(subset=['denier'])"
   ]
  },
  {
   "cell_type": "markdown",
   "id": "better-limit",
   "metadata": {},
   "source": [
    "### Create function to prep text for NLP processing\n",
    "\n",
    "Remove unwanted character types, hashtags, usernames, and URLs. Remove line breaks and extra spaces\n",
    "\n",
    "Tokenize, remove stopwords, lemmatize, join to string"
   ]
  },
  {
   "cell_type": "code",
   "execution_count": 50,
   "id": "painted-seven",
   "metadata": {},
   "outputs": [],
   "source": [
    "# Instantiate nltk lemmatizer\n",
    "lemmatizer = WordNetLemmatizer()\n",
    "\n",
    "# create stop word list from default list, punctuation, and hashtags used to create classifcation params\n",
    "stopwords_list = stopwords.words('english') + (list(string.punctuation) + \n",
    "                                               denier_tags + believer_tags + unique_hashtags[:25])\n",
    "\n",
    "def re_clean(tweet):\n",
    "    # regex cleaning\n",
    "    tweet = tweet.lower()\n",
    "    tweet = re.sub(r'[@][\\w]+','', tweet)\n",
    "    tweet = re.sub(r'[#]','', tweet)\n",
    "    tweet = re.sub(r'http[s]?://(?:[a-zA-Z]|[0-9]|[$-_@.&+]|[!*\\(\\),]|(?:%[0-9a-fA-F][0-9a-fA-F]))+', '', tweet)\n",
    "    tweet = re.sub(r'\\s{2,15}', ' ', tweet)\n",
    "    tweet = re.sub(r'\\n', ' ', tweet)\n",
    "    tweet = re.sub(r'\\s\\s', ' ', tweet)\n",
    "    tweet = tweet.strip()\n",
    "    \n",
    "    # tokenize, remove stop words, lemmatize\n",
    "    tok = nltk.regexp_tokenize(tweet, r\"([a-zA-Z]+(?:'[a-z]+)?)\")\n",
    "    toks = [word.lower() for word in tok if word.lower() not in stopwords_list]\n",
    "    lemma = [lemmatizer.lemmatize(token) for token in toks]\n",
    "    \n",
    "    return ' '.join(lemma)"
   ]
  },
  {
   "cell_type": "code",
   "execution_count": 51,
   "id": "incorporated-korea",
   "metadata": {},
   "outputs": [
    {
     "name": "stdout",
     "output_type": "stream",
     "text": [
      "ORIGINAL: \n",
      "What can nature teach us about living in peace, and protecting her? Learn more here: https://t.co/I7Y5LKgxnf\n",
      "#climatechange #climateaction \n",
      "#environment \n",
      "#energy https://t.co/oIfSTgLG7A \n",
      "\n",
      "CLEANED: \n",
      "teach u living peace protecting learn\n"
     ]
    }
   ],
   "source": [
    "# create function to compare original text to cleaned text \n",
    "def check_cleaned(df, n = None):\n",
    "    if not n:\n",
    "        n = np.random.randint(0, len(df) - 1)\n",
    "    print(f\"ORIGINAL: \\n{df.iloc[n]['full_text']} \\n\")\n",
    "    print(f\"CLEANED: \\n{re_clean(df.iloc[n]['full_text'])}\")\n",
    "    \n",
    "check_cleaned(to_train)"
   ]
  },
  {
   "cell_type": "markdown",
   "id": "private-advance",
   "metadata": {},
   "source": [
    "### Clean Dataset text"
   ]
  },
  {
   "cell_type": "code",
   "execution_count": 52,
   "id": "fitted-mitchell",
   "metadata": {},
   "outputs": [],
   "source": [
    "# run function on each row\n",
    "process_tweets = to_train['full_text'].apply(lambda x: re_clean(x))"
   ]
  },
  {
   "cell_type": "code",
   "execution_count": 53,
   "id": "upset-brick",
   "metadata": {},
   "outputs": [],
   "source": [
    "# create target variable\n",
    "y = to_train['denier']"
   ]
  },
  {
   "cell_type": "markdown",
   "id": "scenic-torture",
   "metadata": {},
   "source": [
    "## TF-IDF Vectorizer Modeling"
   ]
  },
  {
   "cell_type": "code",
   "execution_count": 54,
   "id": "ultimate-horse",
   "metadata": {},
   "outputs": [],
   "source": [
    "# train test split with stratification to account for class imbalance\n",
    "X_train, X_test, y_train, y_test = train_test_split(process_tweets, y, stratify=y)"
   ]
  },
  {
   "cell_type": "code",
   "execution_count": 55,
   "id": "boxed-literature",
   "metadata": {},
   "outputs": [],
   "source": [
    "# create dictionary holding class imbalnce\n",
    "class_weights = dict(y.value_counts(normalize=True))"
   ]
  },
  {
   "cell_type": "code",
   "execution_count": 70,
   "id": "controversial-australian",
   "metadata": {},
   "outputs": [
    {
     "data": {
      "text/plain": [
       "Pipeline(steps=[('tfidf', TfidfVectorizer()),\n",
       "                ('clf',\n",
       "                 RandomForestClassifier(class_weight={0.0: 0.9338267911038436,\n",
       "                                                      1.0: 0.06617320889615642},\n",
       "                                        criterion='entropy', n_jobs=-1))])"
      ]
     },
     "execution_count": 70,
     "metadata": {},
     "output_type": "execute_result"
    }
   ],
   "source": [
    "# create TD-IDF to RandomForest pipeline. Set fixed parameters\n",
    "pipeline = Pipeline([('tfidf', TfidfVectorizer()),\n",
    "                     ('clf', RandomForestClassifier(class_weight=class_weights, criterion='entropy', n_jobs=-1))])\n",
    "pipeline.fit(X_train, y_train)"
   ]
  },
  {
   "cell_type": "code",
   "execution_count": 79,
   "id": "sunset-essay",
   "metadata": {},
   "outputs": [],
   "source": [
    "# # create grid search parameters\n",
    "# grid_params = {'clf__n_estimators': [100, 450, 800],\n",
    "#                'clf__criterion': ['gini', 'entropy'],\n",
    "#                'clf__max_depth': [None, 6, 10]}"
   ]
  },
  {
   "cell_type": "code",
   "execution_count": 80,
   "id": "occasional-lease",
   "metadata": {},
   "outputs": [
    {
     "data": {
      "text/plain": [
       "GridSearchCV(estimator=Pipeline(steps=[('tfidf', TfidfVectorizer()),\n",
       "                                       ('clf',\n",
       "                                        RandomForestClassifier(class_weight={0.0: 0.06617320889615642,\n",
       "                                                                             1.0: 0.9338267911038436}))]),\n",
       "             n_jobs=-1,\n",
       "             param_grid={'clf__criterion': ['gini', 'entropy'],\n",
       "                         'clf__max_depth': [None, 6, 10],\n",
       "                         'clf__n_estimators': [100, 450, 800]})"
      ]
     },
     "execution_count": 80,
     "metadata": {},
     "output_type": "execute_result"
    }
   ],
   "source": [
    "# # Instantiate gridsearch object \n",
    "# gridsearch = GridSearchCV(pipeline, param_grid=grid_params, n_jobs = -1)\n",
    "# # fit to training set\n",
    "# gridsearch.fit(X_train, y_train)"
   ]
  },
  {
   "cell_type": "code",
   "execution_count": 81,
   "id": "nonprofit-concert",
   "metadata": {},
   "outputs": [
    {
     "data": {
      "text/plain": [
       "{'clf__criterion': 'entropy', 'clf__max_depth': None, 'clf__n_estimators': 100}"
      ]
     },
     "execution_count": 81,
     "metadata": {},
     "output_type": "execute_result"
    }
   ],
   "source": [
    "# gridsearch.best_params_"
   ]
  },
  {
   "cell_type": "code",
   "execution_count": 57,
   "id": "plastic-classic",
   "metadata": {},
   "outputs": [
    {
     "data": {
      "text/plain": [
       "0.966774519013325"
      ]
     },
     "execution_count": 57,
     "metadata": {},
     "output_type": "execute_result"
    }
   ],
   "source": [
    "# show pipeline accuracy score for best parameters\n",
    "pipeline.score(X_test, y_test)"
   ]
  },
  {
   "cell_type": "code",
   "execution_count": 58,
   "id": "alternative-dallas",
   "metadata": {},
   "outputs": [],
   "source": [
    "# generate predictions \n",
    "y_pred_train = pipeline.predict(X_train)\n",
    "y_pred = pipeline.predict(X_test)"
   ]
  },
  {
   "cell_type": "code",
   "execution_count": 59,
   "id": "incorporated-gibson",
   "metadata": {},
   "outputs": [
    {
     "name": "stdout",
     "output_type": "stream",
     "text": [
      "Train Accuracy: 0.9669\n",
      "Train F1 Score: 0.6682\n",
      "------------------------------\n",
      "Test Accuracy:  0.9668\n",
      "Test F1 Score:  0.6655\n"
     ]
    }
   ],
   "source": [
    "# compare F1 and Accuracy scores to check for overfitting \n",
    "print(f'Train Accuracy: {round(accuracy_score(y_train, y_pred_train), 4)}')\n",
    "print(f'Train F1 Score: {round(f1_score(y_train, y_pred_train), 4)}')\n",
    "print('-----'*6)\n",
    "print(f'Test Accuracy:  {round(accuracy_score(y_test, y_pred), 4)}')\n",
    "print(f'Test F1 Score:  {round(f1_score(y_test, y_pred), 4)}')"
   ]
  },
  {
   "cell_type": "code",
   "execution_count": 60,
   "id": "relative-coupon",
   "metadata": {},
   "outputs": [
    {
     "data": {
      "image/png": "[encoded data removed]",
      "text/plain": [
       "<Figure size 432x288 with 2 Axes>"
      ]
     },
     "metadata": {
      "needs_background": "light"
     },
     "output_type": "display_data"
    }
   ],
   "source": [
    "# visualize confusion matrix\n",
    "con_mat = confusion_matrix(y_test, y_pred)\n",
    "display = ConfusionMatrixDisplay(con_mat, display_labels=['denier', 'believer']).plot()"
   ]
  },
  {
   "cell_type": "markdown",
   "id": "intense-classics",
   "metadata": {},
   "source": [
    "\n",
    "# Test on external dataset\n",
    "\n",
    "A dataset from kaggle with labeled tweets as climate deniers or believers is imported for further validation of model\n",
    "\n",
    "https://www.kaggle.com/edqian/twitter-climate-change-sentiment-dataset"
   ]
  },
  {
   "cell_type": "code",
   "execution_count": 61,
   "id": "absolute-malaysia",
   "metadata": {},
   "outputs": [],
   "source": [
    "val_df = pd.read_csv('data/twitter_sentiment_data.csv')"
   ]
  },
  {
   "cell_type": "code",
   "execution_count": 62,
   "id": "level-suffering",
   "metadata": {},
   "outputs": [],
   "source": [
    "# re-map sentiment array to match existing model\n",
    "\n",
    "cond_list = [val_df['sentiment'] == -1, \n",
    "             val_df['sentiment'] == 0,\n",
    "             val_df['sentiment'] == 1,\n",
    "             val_df['sentiment'] == 2]\n",
    "\n",
    "choice_list = [1, None, 0, None]\n",
    "\n",
    "val_df['sentiment'] = np.select(cond_list, choice_list, 10)"
   ]
  },
  {
   "cell_type": "code",
   "execution_count": 63,
   "id": "placed-partition",
   "metadata": {},
   "outputs": [
    {
     "data": {
      "text/plain": [
       "0    22962\n",
       "1     3990\n",
       "Name: sentiment, dtype: int64"
      ]
     },
     "execution_count": 63,
     "metadata": {},
     "output_type": "execute_result"
    }
   ],
   "source": [
    "# check for errors\n",
    "val_df['sentiment'].value_counts()"
   ]
  },
  {
   "cell_type": "code",
   "execution_count": 64,
   "id": "intelligent-mounting",
   "metadata": {},
   "outputs": [],
   "source": [
    "# check for matching tweets across datasets\n",
    "count = 0\n",
    "for id_ in val_df['tweetid']:\n",
    "    if id_ in tweets['id']:\n",
    "        count += 1\n",
    "        print(id_)"
   ]
  },
  {
   "cell_type": "code",
   "execution_count": 65,
   "id": "charged-trance",
   "metadata": {
    "scrolled": true
   },
   "outputs": [],
   "source": [
    "# remove rows without usable ground truth\n",
    "val_df_sub = val_df.dropna(subset = ['sentiment'])\n",
    "\n",
    "# remove retweets\n",
    "val_df_sub = val_df_sub[~val_df_sub['message'].str.startswith('RT ')]"
   ]
  },
  {
   "cell_type": "code",
   "execution_count": 66,
   "id": "another-external",
   "metadata": {},
   "outputs": [],
   "source": [
    "# clean tweets\n",
    "val_processed_text = val_df_sub['message'].apply(lambda x: re_clean(x))"
   ]
  },
  {
   "cell_type": "code",
   "execution_count": 67,
   "id": "southwest-labor",
   "metadata": {},
   "outputs": [],
   "source": [
    "# make predictions on validation data\n",
    "val_predict = pipeline.predict(val_processed_text)\n",
    "y = val_df_sub['sentiment'].astype(int)"
   ]
  },
  {
   "cell_type": "code",
   "execution_count": 68,
   "id": "understanding-craft",
   "metadata": {},
   "outputs": [
    {
     "name": "stdout",
     "output_type": "stream",
     "text": [
      "Accuracy Score :      0.8142\n",
      "Validation F1 Score : 0.0272\n"
     ]
    },
    {
     "data": {
      "image/png": "[encoded data removed]",
      "text/plain": [
       "<Figure size 432x288 with 2 Axes>"
      ]
     },
     "metadata": {
      "needs_background": "light"
     },
     "output_type": "display_data"
    }
   ],
   "source": [
    "print(f\"Accuracy Score :      {round(accuracy_score(y, val_predict), 4)}\")\n",
    "print(f\"Validation F1 Score : {round(f1_score(y, val_predict), 4)}\")\n",
    "\n",
    "ConfusionMatrixDisplay(confusion_matrix(y, val_predict), display_labels=['denier', 'believer']).plot();"
   ]
  },
  {
   "cell_type": "markdown",
   "id": "conditional-float",
   "metadata": {},
   "source": [
    "## Apply Classifier to remainder dataset\n",
    "\n",
    "Run the entire dataset through the gridsearch pipeline to make predictions on each tweet"
   ]
  },
  {
   "cell_type": "code",
   "execution_count": 225,
   "id": "right-nurse",
   "metadata": {},
   "outputs": [],
   "source": [
    "# remove irrelevant response tweets\n",
    "tweets_final = tweets[tweets['in_reply_to_screen_name'].isna()]"
   ]
  },
  {
   "cell_type": "code",
   "execution_count": 226,
   "id": "stupid-mounting",
   "metadata": {},
   "outputs": [
    {
     "name": "stderr",
     "output_type": "stream",
     "text": [
      "/Users/browz/opt/anaconda3/envs/ds01/lib/python3.6/site-packages/ipykernel_launcher.py:2: SettingWithCopyWarning: \n",
      "A value is trying to be set on a copy of a slice from a DataFrame.\n",
      "Try using .loc[row_indexer,col_indexer] = value instead\n",
      "\n",
      "See the caveats in the documentation: https://pandas.pydata.org/pandas-docs/stable/user_guide/indexing.html#returning-a-view-versus-a-copy\n",
      "  \n"
     ]
    }
   ],
   "source": [
    "# prepare tweets for model\n",
    "tweets_final['clean_text'] = tweets_final['full_text'].apply(lambda x: re_clean(x)) \n",
    "tweets_final = tweets_final[tweets_final.clean_text.str.strip() != '']\n",
    "tweets_final = tweets_final[tweets_final.clean_text.str.strip() != ' ']\n",
    "# run text through model\n",
    "tweets_final['believer_pred'] = gridsearch.predict(tweets_final['clean_text'])"
   ]
  },
  {
   "cell_type": "code",
   "execution_count": 260,
   "id": "short-giving",
   "metadata": {},
   "outputs": [
    {
     "data": {
      "text/plain": [
       "1.0    0.989312\n",
       "0.0    0.010688\n",
       "Name: believer_pred, dtype: float64"
      ]
     },
     "execution_count": 260,
     "metadata": {},
     "output_type": "execute_result"
    }
   ],
   "source": [
    "tweets_final['believer_pred'].value_counts(normalize=True)"
   ]
  },
  {
   "cell_type": "code",
   "execution_count": 243,
   "id": "indonesian-lighter",
   "metadata": {},
   "outputs": [],
   "source": [
    "# sanity check on predictions\n",
    "def check_pred(df, n=None):\n",
    "    if n == None:\n",
    "        n = np.random.randint(0,len(df)-1)\n",
    "    print(df.iloc[n]['full_text'], '\\n', df.iloc[n]['believer_pred'])\n",
    "    print(f'https://twitter.com/{df.iloc[n][\"screen_names\"]}/status/{df.iloc[n][\"id\"]}')"
   ]
  },
  {
   "cell_type": "code",
   "execution_count": 267,
   "id": "corrected-abuse",
   "metadata": {},
   "outputs": [
    {
     "name": "stdout",
     "output_type": "stream",
     "text": [
      "MAKE IT STOP! Solar energy is trying to force conformity https://t.co/y0aOyOMDci #tcot #tlot #climatechange #solar \n",
      " 0.0\n",
      "https://twitter.com/SolarSecrets/status/1019344789660151809\n"
     ]
    }
   ],
   "source": [
    "check_pred(tweets_final[tweets_final['believer_pred']==0])"
   ]
  },
  {
   "cell_type": "code",
   "execution_count": null,
   "id": "wired-sharing",
   "metadata": {},
   "outputs": [],
   "source": []
  }
 ],
 "metadata": {
  "kernelspec": {
   "display_name": "Python [conda env:ds01] *",
   "language": "python",
   "name": "conda-env-ds01-py"
  },
  "language_info": {
   "codemirror_mode": {
    "name": "ipython",
    "version": 3
   },
   "file_extension": ".py",
   "mimetype": "text/x-python",
   "name": "python",
   "nbconvert_exporter": "python",
   "pygments_lexer": "ipython3",
   "version": "3.6.9"
  }
 },
 "nbformat": 4,
 "nbformat_minor": 5
}
