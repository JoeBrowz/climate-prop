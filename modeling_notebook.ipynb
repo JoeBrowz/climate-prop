{
 "cells": [
  {
   "cell_type": "markdown",
   "id": "challenging-prairie",
   "metadata": {},
   "source": [
    "# Import Packages"
   ]
  },
  {
   "cell_type": "code",
   "execution_count": 1,
   "id": "empty-lecture",
   "metadata": {},
   "outputs": [],
   "source": [
    "from custom_functions import *\n",
    "sns.set_style('darkgrid')\n",
    "%matplotlib inline\n",
    "\n",
    "from wordcloud import WordCloud, STOPWORDS\n",
    "import matplotlib.colors as mcolors\n",
    "import string\n",
    "\n",
    "import nltk\n",
    "from nltk.corpus import stopwords\n",
    "from nltk.stem import WordNetLemmatizer\n",
    "from nltk import word_tokenize, FreqDist\n",
    "from nltk.sentiment.vader import SentimentIntensityAnalyzer\n",
    "# nltk.download('wordnet')\n",
    "\n",
    "from gensim.corpora import Dictionary\n",
    "from gensim.models import Word2Vec\n",
    "\n",
    "from sklearn.pipeline import Pipeline\n",
    "from sklearn.linear_model import LogisticRegression\n",
    "from sklearn.model_selection import train_test_split, GridSearchCV\n",
    "from sklearn.feature_extraction.text import TfidfVectorizer, CountVectorizer, TfidfTransformer\n",
    "from sklearn.metrics import accuracy_score, f1_score\n",
    "from sklearn.metrics import confusion_matrix, ConfusionMatrixDisplay\n",
    "from sklearn.experimental import enable_hist_gradient_boosting # <-- enables experimental LightGBM Classifier\n",
    "from sklearn.ensemble import RandomForestClassifier, HistGradientBoostingClassifier\n",
    "from sklearn.naive_bayes import MultinomialNB\n",
    "from xgboost import XGBClassifier"
   ]
  },
  {
   "cell_type": "markdown",
   "id": "active-vatican",
   "metadata": {},
   "source": [
    "### Load in Pickeled Data"
   ]
  },
  {
   "cell_type": "code",
   "execution_count": 2,
   "id": "urban-respondent",
   "metadata": {},
   "outputs": [],
   "source": [
    "tweets = pd.read_pickle('data/pickle_jar/cleaned2.pkl')\n",
    "\n",
    "# read X and y from EDA notebook\n",
    "with open('data/pickle_jar/X_y', 'rb') as pickle_in:\n",
    "    X, y = pickle.load(pickle_in)\n",
    "\n",
    "# debrine stop word pickle\n",
    "with open('data/pickle_jar/all_stops', 'rb') as pickle_in:\n",
    "    stopwords_list = pickle.load(pickle_in)"
   ]
  },
  {
   "cell_type": "code",
   "execution_count": 6,
   "id": "banned-portable",
   "metadata": {},
   "outputs": [],
   "source": [
    "'''Uncomment this to load pickled models'''\n",
    "\n",
    "with open(f'data/pickle_jar/lr1_grid.pkl', 'rb') as pickle_in:\n",
    "    lr1_grid = pickle.load(pickle_in)\n",
    "    \n",
    "with open(f'data/pickle_jar/lr2_grid.pkl', 'rb') as pickle_in:\n",
    "    lr2_grid = pickle.load(pickle_in)\n",
    "    \n",
    "with open(f'data/pickle_jar/rfc_grid.pkl', 'rb') as pickle_in:\n",
    "    rfc_grid = pickle.load(pickle_in)"
   ]
  },
  {
   "cell_type": "markdown",
   "id": "scenic-torture",
   "metadata": {},
   "source": [
    "## TF-IDF Vectorizer Modeling\n",
    "\n",
    "Data will be split into training and testing data, passed into a TF-IDF vectorizer, then run through several Sci-Kit Learn clasiffier models. They will be validated on an outside data source then the best model will be used to predict on the full dataset "
   ]
  },
  {
   "cell_type": "code",
   "execution_count": 7,
   "id": "ultimate-horse",
   "metadata": {},
   "outputs": [],
   "source": [
    "# train test split with stratification to account for class imbalance\n",
    "X_train, X_test, y_train, y_test = train_test_split(X, y, stratify=y, random_state=42)\n",
    "\n",
    "# instantiate vectorizer\n",
    "vectorizer = TfidfVectorizer(stop_words=stopwords_list, ngram_range=(1,2), max_df = 0.9)\n",
    "\n",
    "# vectorize data\n",
    "X_tfidf_train = vectorizer.fit_transform(X_train)\n",
    "X_tfidf_test = vectorizer.transform(X_test)"
   ]
  },
  {
   "cell_type": "code",
   "execution_count": 9,
   "id": "sustained-sierra",
   "metadata": {},
   "outputs": [],
   "source": [
    "with open('data/pickle_jar/vec.pkl', 'wb') as pickle_out:\n",
    "    pickle.dump(vectorizer, pickle_out)"
   ]
  },
  {
   "cell_type": "code",
   "execution_count": 10,
   "id": "accomplished-satisfaction",
   "metadata": {},
   "outputs": [],
   "source": [
    "# pickle data for sharing in other notebook\n",
    "pickle_sandwich = (X_tfidf_train, X_tfidf_test, y, y_train, y_test)\n",
    "with open('data/pickle_jar/X_tfidf.pkl', 'wb') as pickle_out:\n",
    "    pickle.dump(pickle_sandwich, pickle_out)"
   ]
  },
  {
   "cell_type": "code",
   "execution_count": 11,
   "id": "meaningful-receiver",
   "metadata": {},
   "outputs": [],
   "source": [
    "# create dictionary holding class imbalnce\n",
    "class_weights = dict(y.value_counts(normalize=True))"
   ]
  },
  {
   "cell_type": "code",
   "execution_count": 12,
   "id": "front-transportation",
   "metadata": {},
   "outputs": [],
   "source": [
    "# create grid search parameters\n",
    "rfc_grid_params =  {'n_estimators': [100, 450, 800],\n",
    "                    'criterion': ['gini', 'entropy'],\n",
    "                    'max_depth': [None, 6, 10],\n",
    "                    'class_weight': [class_weights]}\n",
    "\n",
    "lr1_grid_params = {'C': [1, 1e3, 1e7, 1e12],\n",
    "                   'penalty': ['l1', 'elasticnet'],\n",
    "                   'solver': ['saga'],\n",
    "                   'class_weight': [class_weights]}\n",
    "\n",
    "lr2_grid_params = {'C': [1, 1e3, 1e7, 1e12],\n",
    "                   'penalty': ['l2', 'none'],\n",
    "                   'solver': ['sag'],\n",
    "                   'class_weight': [class_weights]}\n",
    "\n",
    "gbt_grid_params = {'learning_rate': [0.001, 0.1, 1]}"
   ]
  },
  {
   "cell_type": "markdown",
   "id": "present-boundary",
   "metadata": {},
   "source": [
    "### Logistic Regression with L1 Normalization"
   ]
  },
  {
   "cell_type": "code",
   "execution_count": null,
   "id": "christian-february",
   "metadata": {},
   "outputs": [],
   "source": [
    "# Instantiate Logistic Regression L1 gridsearch object \n",
    "lr1_grid = GridSearchCV(LogisticRegression(random_state=42), param_grid=lr1_grid_params, cv=3, n_jobs = -1)\n",
    "# fit to training set\n",
    "lr1_grid.fit(X_tfidf_train, y_train)\n",
    "\n",
    "# preserve for convenience\n",
    "with open('data/pickle_jar/lr1_grid', 'wb') as pickle_out:\n",
    "    pickle.dump(lr1_grid, pickle_out)"
   ]
  },
  {
   "cell_type": "markdown",
   "id": "stone-sense",
   "metadata": {},
   "source": [
    "### Logistic Regression with L2 Normalization"
   ]
  },
  {
   "cell_type": "code",
   "execution_count": null,
   "id": "intimate-treat",
   "metadata": {},
   "outputs": [],
   "source": [
    "# Instantiate Logistic Regression L2 gridsearch object \n",
    "lr2_grid = GridSearchCV(LogisticRegression(random_state=42), param_grid=lr2_grid_params, cv=3, n_jobs = -1)\n",
    "# fit to training set\n",
    "lr2_grid.fit(X_tfidf_train, y_train)\n",
    "\n",
    "# preserve for convenience\n",
    "with open('data/pickle_jar/lr2_grid', 'wb') as pickle_out:\n",
    "    pickle.dump(lr2_grid, pickle_out)"
   ]
  },
  {
   "cell_type": "markdown",
   "id": "transparent-slope",
   "metadata": {},
   "source": [
    "### Random Forest Classifier"
   ]
  },
  {
   "cell_type": "code",
   "execution_count": null,
   "id": "occasional-lease",
   "metadata": {},
   "outputs": [],
   "source": [
    "# Instantiate Random Forest gridsearch object \n",
    "rfc_grid = GridSearchCV(RandomForestClassifier(random_state=42), param_grid=rfc_grid_params, cv=3, n_jobs = -1)\n",
    "# fit to training set\n",
    "rfc_grid.fit(X_tfidf_train, y_train)\n",
    "\n",
    "# preserve for convenience\n",
    "with open('data/pickle_jar/rfc_grid', 'wb') as pickle_out:\n",
    "    pickle.dump(rfc_grid, pickle_out)"
   ]
  },
  {
   "cell_type": "markdown",
   "id": "stupid-lightweight",
   "metadata": {},
   "source": [
    "### LightGBM Classifier\n",
    "Commented out due to compatibility error. Seeking work around"
   ]
  },
  {
   "cell_type": "code",
   "execution_count": null,
   "id": "plastic-rendering",
   "metadata": {},
   "outputs": [],
   "source": [
    "'''\n",
    "\n",
    "# Instantiate Gradient Boosted Tree gridsearch object \n",
    "gbt_grid = GridSearchCV(HistGradientBoostingClassifier(random_state=42), param_grid=gbt_grid_params, cv=3, n_jobs = -1)\n",
    "# fit to training set\n",
    "gbt_grid.fit(X_tfidf_train, y_train)\n",
    "\n",
    "# preserve for convenience\n",
    "with open('data/pickle_jar/gbt_grid', 'wb') as pickle_out:\n",
    "    pickle.dump(gbt_grid, pickle_out)\n",
    "\n",
    "'''"
   ]
  },
  {
   "cell_type": "markdown",
   "id": "subtle-pricing",
   "metadata": {},
   "source": [
    "#### Show best parameters for all models"
   ]
  },
  {
   "cell_type": "code",
   "execution_count": 120,
   "id": "concrete-logging",
   "metadata": {
    "scrolled": true
   },
   "outputs": [
    {
     "name": "stdout",
     "output_type": "stream",
     "text": [
      "{'C': 1000.0, 'class_weight': {1.0: 0.7959359176804632, 0.0: 0.2040640823195368}, 'penalty': 'l1', 'solver': 'saga'}\n",
      "{'C': 1, 'class_weight': {1.0: 0.7959359176804632, 0.0: 0.2040640823195368}, 'penalty': 'none', 'solver': 'sag'}\n"
     ]
    }
   ],
   "source": [
    "print(lr1_grid.best_params_)\n",
    "print(lr2_grid.best_params_)\n",
    "print(rfc_grid.best_params_)\n",
    "# print(gbt_grid.best_params_)"
   ]
  },
  {
   "cell_type": "markdown",
   "id": "foster-analysis",
   "metadata": {},
   "source": [
    "#### generate predictions for metric calculations"
   ]
  },
  {
   "cell_type": "code",
   "execution_count": 122,
   "id": "alternative-dallas",
   "metadata": {},
   "outputs": [],
   "source": [
    "# generate predictions for L1 Logistic Regression model\n",
    "lr1_pred_train = lr1_grid.predict(X_tfidf_train)\n",
    "lr1_y_pred = lr1_grid.predict(X_tfidf_test)\n",
    "# generate predictions for L2 Logistic Regression model\n",
    "lr2_pred_train = lr2_grid.predict(X_tfidf_train)\n",
    "lr2_y_pred = lr2_grid.predict(X_tfidf_test)\n",
    "# generate predictions for Random Forest model\n",
    "rfc_pred_train = rfc_grid.predict(X_tfidf_train)\n",
    "rfc_y_pred = rfc_grid.predict(X_tfidf_test)\n",
    "## generate predictions for Gradient Boosted Trees model\n",
    "# gbt_pred_train = gbt_grid.predict(X_tfidf_train)\n",
    "# gbt_y_pred = gbt_grid.predict(X_tfidf_test)"
   ]
  },
  {
   "cell_type": "markdown",
   "id": "academic-rebate",
   "metadata": {},
   "source": [
    "### Compare metrics of the four classifiers"
   ]
  },
  {
   "cell_type": "code",
   "execution_count": 199,
   "id": "analyzed-reservation",
   "metadata": {},
   "outputs": [],
   "source": [
    "# function to show metrics\n",
    "def acc_f1(name, y_pred, y_test, y_train_pred=[]):\n",
    "    if y_train_pred != []:\n",
    "        train_acc = round(accuracy_score(y_train, y_train_pred), 4)\n",
    "        train_f1 =  round(f1_score(y_train, y_train_pred), 4)\n",
    "        print(f'{name} Train Acc: {train_acc}      {name} Train F1: {train_f1}')\n",
    "        print('-----'*12)\n",
    "        \n",
    "    test_acc =  round(accuracy_score(y_test, y_pred), 4)\n",
    "    test_f1 =   round(f1_score(y_test, y_pred), 4)\n",
    "    print(f'{name} Test Acc:  {test_acc}      {name} Test F1:  {test_f1} \\n\\n')\n",
    "    \n",
    "    return test_acc, test_f1"
   ]
  },
  {
   "cell_type": "code",
   "execution_count": 200,
   "id": "incorporated-gibson",
   "metadata": {},
   "outputs": [
    {
     "name": "stdout",
     "output_type": "stream",
     "text": [
      "LR1 Train Acc: 0.9691      LR1 Train F1: 0.981\n",
      "------------------------------------------------------------\n",
      "LR1 Test Acc:  0.9178      LR1 Test F1:  0.9501 \n",
      "\n",
      "\n",
      "LR2 Train Acc: 0.9693      LR2 Train F1: 0.9811\n",
      "------------------------------------------------------------\n",
      "LR2 Test Acc:  0.9177      LR2 Test F1:  0.95 \n",
      "\n",
      "\n"
     ]
    },
    {
     "name": "stderr",
     "output_type": "stream",
     "text": [
      "/Users/browz/opt/anaconda3/envs/ds01/lib/python3.6/site-packages/ipykernel_launcher.py:3: DeprecationWarning: elementwise comparison failed; this will raise an error in the future.\n",
      "  This is separate from the ipykernel package so we can avoid doing imports until\n"
     ]
    }
   ],
   "source": [
    "# # compare F1 and Accuracy scores for each model\n",
    "lr1_acc, lr1_f1 = acc_f1('LR1', lr1_y_pred, y_test, lr1_pred_train)\n",
    "lr2_acc, lr2_f1 = acc_f1('LR2', lr2_y_pred, y_test, lr2_pred_train)\n",
    "rfc_acc, rfc_f1 = acc_f1('RFC', rfc_y_pred, rfc_pred_train)\n",
    "# gbt_acc, gbt_f1 = acc_f1('GBT', gbt_y_pred, gbt_pred_train)"
   ]
  },
  {
   "cell_type": "markdown",
   "id": "tribal-cemetery",
   "metadata": {},
   "source": [
    "#### Show confusion matrix for each classifier "
   ]
  },
  {
   "cell_type": "code",
   "execution_count": 190,
   "id": "relative-coupon",
   "metadata": {},
   "outputs": [],
   "source": [
    "# visualize confusion matrix for test data\n",
    "def plot_conf(name, y_true, y_pred):\n",
    "    \n",
    "    con_mat = confusion_matrix(y_true, y_pred)\n",
    "\n",
    "    ConfusionMatrixDisplay(con_mat, display_labels=['denier', 'believer']).plot()\n",
    "    plt.grid(b=None)\n",
    "    plt.title(f'{name} Confusion Matrix')\n",
    "    plt.show()"
   ]
  },
  {
   "cell_type": "code",
   "execution_count": 191,
   "id": "beneficial-parcel",
   "metadata": {},
   "outputs": [
    {
     "data": {
      "image/png": "[encoded data removed]",
      "text/plain": [
       "<Figure size 432x288 with 2 Axes>"
      ]
     },
     "metadata": {
      "needs_background": "light"
     },
     "output_type": "display_data"
    },
    {
     "data": {
      "image/png": "[encoded data removed]",
      "text/plain": [
       "<Figure size 432x288 with 2 Axes>"
      ]
     },
     "metadata": {
      "needs_background": "light"
     },
     "output_type": "display_data"
    }
   ],
   "source": [
    "plot_conf('LR1', y_test, lr1_y_pred)\n",
    "plot_conf('LR2', y_test, lr2_y_pred)\n",
    "plot_conf('RFC', rfc_y_pred)\n",
    "# plot_conf('GBT', gbt_y_pred)"
   ]
  },
  {
   "cell_type": "markdown",
   "id": "cognitive-parks",
   "metadata": {},
   "source": [
    "\n",
    "# Test on external dataset\n",
    "\n",
    "A dataset from kaggle with labeled tweets as climate deniers or believers is imported for further validation of model\n",
    "\n",
    "https://www.kaggle.com/edqian/twitter-climate-change-sentiment-dataset"
   ]
  },
  {
   "cell_type": "code",
   "execution_count": 138,
   "id": "functioning-adaptation",
   "metadata": {},
   "outputs": [],
   "source": [
    "val_df = pd.read_csv('data/twitter_sentiment_data.csv')"
   ]
  },
  {
   "cell_type": "code",
   "execution_count": 139,
   "id": "black-stadium",
   "metadata": {},
   "outputs": [],
   "source": [
    "# re-map sentiment array to match existing model\n",
    "\n",
    "cond_list = [val_df['sentiment'] == -1, \n",
    "             val_df['sentiment'] == 0,\n",
    "             val_df['sentiment'] == 1,\n",
    "             val_df['sentiment'] == 2]\n",
    "\n",
    "choice_list = [0, None, val_df['sentiment'], None]\n",
    "\n",
    "val_df['sentiment'] = np.select(cond_list, choice_list, 10)"
   ]
  },
  {
   "cell_type": "code",
   "execution_count": 140,
   "id": "alpha-johnson",
   "metadata": {},
   "outputs": [
    {
     "data": {
      "text/plain": [
       "1    22962\n",
       "0     3990\n",
       "Name: sentiment, dtype: int64"
      ]
     },
     "execution_count": 140,
     "metadata": {},
     "output_type": "execute_result"
    }
   ],
   "source": [
    "# check for errors\n",
    "val_df['sentiment'].value_counts()"
   ]
  },
  {
   "cell_type": "markdown",
   "id": "norwegian-insulation",
   "metadata": {},
   "source": [
    "##### Check to see if there are any tweets repeated in this dataset\n",
    "\n"
   ]
  },
  {
   "cell_type": "code",
   "execution_count": 141,
   "id": "strategic-scoop",
   "metadata": {},
   "outputs": [],
   "source": [
    "count = 0\n",
    "for id_ in val_df['tweetid']:\n",
    "    if id_ in tweets['id']:\n",
    "        count += 1\n",
    "        print(id_)"
   ]
  },
  {
   "cell_type": "markdown",
   "id": "inside-actor",
   "metadata": {},
   "source": [
    "Remove unusable or unwanted rows"
   ]
  },
  {
   "cell_type": "code",
   "execution_count": 184,
   "id": "color-russia",
   "metadata": {
    "scrolled": true
   },
   "outputs": [],
   "source": [
    "# remove rows without usable ground truth\n",
    "val_df_sub = val_df.dropna(subset = ['sentiment'])\n",
    "\n",
    "# remove retweets\n",
    "val_df_sub = val_df_sub[~val_df_sub['message'].str.startswith('RT ')]"
   ]
  },
  {
   "cell_type": "markdown",
   "id": "happy-pursuit",
   "metadata": {},
   "source": [
    "#### Clean tweets"
   ]
  },
  {
   "cell_type": "code",
   "execution_count": 185,
   "id": "nominated-joint",
   "metadata": {},
   "outputs": [],
   "source": [
    "# clean and lemmatize\n",
    "lemmatizer = WordNetLemmatizer()\n",
    "val_processed_text = val_df_sub['message'].apply(lambda x: clean_and_lem(x, lemmatizer))\n",
    "X_val = vectorizer.transform(val_processed_text)"
   ]
  },
  {
   "cell_type": "code",
   "execution_count": 186,
   "id": "experienced-impression",
   "metadata": {},
   "outputs": [],
   "source": [
    "# set target\n",
    "y_val = val_df_sub['sentiment'].astype(int)"
   ]
  },
  {
   "cell_type": "markdown",
   "id": "informational-light",
   "metadata": {},
   "source": [
    "#### Evaluate Performance of models on validation set"
   ]
  },
  {
   "cell_type": "code",
   "execution_count": 187,
   "id": "premium-banks",
   "metadata": {},
   "outputs": [],
   "source": [
    "# make predictions on validation data\n",
    "lr1_val = lr1_grid.predict(X_val)\n",
    "lr2_val = lr2_grid.predict(X_val)\n",
    "rfc_val = rfc_grid.predict(X_val)\n",
    "# gbt_val = gbt_grid.predict(X_val)"
   ]
  },
  {
   "cell_type": "code",
   "execution_count": 201,
   "id": "environmental-grain",
   "metadata": {},
   "outputs": [
    {
     "name": "stdout",
     "output_type": "stream",
     "text": [
      "LR1 Val Test Acc:  0.8283      LR1 Val Test F1:  0.894 \n",
      "\n",
      "\n",
      "LR2 Val Test Acc:  0.8236      LR2 Val Test F1:  0.8908 \n",
      "\n",
      "\n"
     ]
    }
   ],
   "source": [
    "# # compare F1 and Accuracy scores for each model\n",
    "lr1_acc, lr1_f1 = acc_f1('LR1 Val', lr1_val, y_val)\n",
    "lr2_acc, lr2_f1 = acc_f1('LR2 Val', lr2_val, y_val)\n",
    "lr1_acc, lr1_f1 = acc_f1('RFC Val', rfc_val, y_val)\n",
    "# gbt_acc, gbt_f1 = acc_f1('GBT Val', gbt_val, y_val)"
   ]
  },
  {
   "cell_type": "code",
   "execution_count": 202,
   "id": "affecting-ministry",
   "metadata": {},
   "outputs": [
    {
     "data": {
      "image/png": "[encoded data removed]",
      "text/plain": [
       "<Figure size 432x288 with 2 Axes>"
      ]
     },
     "metadata": {
      "needs_background": "light"
     },
     "output_type": "display_data"
    },
    {
     "data": {
      "image/png": "[encoded data removed]",
      "text/plain": [
       "<Figure size 432x288 with 2 Axes>"
      ]
     },
     "metadata": {
      "needs_background": "light"
     },
     "output_type": "display_data"
    }
   ],
   "source": [
    "# fig, ax = plt.subplots(nrows=2, ncols=2, figsize=(20,14))\n",
    "plot_conf('LR1 Val', y_val, lr1_val)\n",
    "plot_conf('LR2 Val', y_val, lr2_val)\n",
    "plot_conf('RFC Val', rfc_val)\n",
    "# plot_conf('GBT Val', gbt_val)"
   ]
  },
  {
   "cell_type": "code",
   "execution_count": null,
   "id": "asian-lobby",
   "metadata": {},
   "outputs": [],
   "source": [
    "ConfusionMatrixDisplay(confusion_matrix(y, val_predict), display_labels=['denier', 'believer']).plot()\n",
    "plt.grid(b=None)\n",
    "plt.show()"
   ]
  },
  {
   "cell_type": "markdown",
   "id": "conditional-float",
   "metadata": {},
   "source": [
    "## Apply Classifier to remainder dataset\n",
    "\n",
    "Run the entire dataset through the gridsearch pipeline to make predictions on each tweet"
   ]
  },
  {
   "cell_type": "code",
   "execution_count": 205,
   "id": "crude-developer",
   "metadata": {},
   "outputs": [],
   "source": [
    "# remove irrelevant response tweets\n",
    "tweets_final = tweets[tweets['in_reply_to_screen_name'].isna()]"
   ]
  },
  {
   "cell_type": "code",
   "execution_count": 210,
   "id": "alpine-updating",
   "metadata": {},
   "outputs": [
    {
     "data": {
      "text/plain": [
       "<1x520835 sparse matrix of type '<class 'numpy.float64'>'\n",
       "\twith 3 stored elements in Compressed Sparse Row format>"
      ]
     },
     "execution_count": 210,
     "metadata": {},
     "output_type": "execute_result"
    }
   ],
   "source": [
    "vectorizer.transform(['whas othe oadjfe the best way'])"
   ]
  },
  {
   "cell_type": "code",
   "execution_count": 207,
   "id": "stupid-mounting",
   "metadata": {},
   "outputs": [
    {
     "name": "stderr",
     "output_type": "stream",
     "text": [
      "/Users/browz/opt/anaconda3/envs/ds01/lib/python3.6/site-packages/ipykernel_launcher.py:2: SettingWithCopyWarning: \n",
      "A value is trying to be set on a copy of a slice from a DataFrame.\n",
      "Try using .loc[row_indexer,col_indexer] = value instead\n",
      "\n",
      "See the caveats in the documentation: https://pandas.pydata.org/pandas-docs/stable/user_guide/indexing.html#returning-a-view-versus-a-copy\n",
      "  \n"
     ]
    },
    {
     "ename": "NameError",
     "evalue": "name 'rf_grid' is not defined",
     "output_type": "error",
     "traceback": [
      "\u001b[0;31m---------------------------------------------------------------------------\u001b[0m",
      "\u001b[0;31mNameError\u001b[0m                                 Traceback (most recent call last)",
      "\u001b[0;32m<ipython-input-207-e2177db27afb>\u001b[0m in \u001b[0;36m<module>\u001b[0;34m()\u001b[0m\n\u001b[1;32m      4\u001b[0m \u001b[0mtweets_final\u001b[0m \u001b[0;34m=\u001b[0m \u001b[0mtweets_final\u001b[0m\u001b[0;34m[\u001b[0m\u001b[0mtweets_final\u001b[0m\u001b[0;34m.\u001b[0m\u001b[0mclean_text\u001b[0m\u001b[0;34m.\u001b[0m\u001b[0mstr\u001b[0m\u001b[0;34m.\u001b[0m\u001b[0mstrip\u001b[0m\u001b[0;34m(\u001b[0m\u001b[0;34m)\u001b[0m \u001b[0;34m!=\u001b[0m \u001b[0;34m' '\u001b[0m\u001b[0;34m]\u001b[0m\u001b[0;34m\u001b[0m\u001b[0;34m\u001b[0m\u001b[0m\n\u001b[1;32m      5\u001b[0m \u001b[0;31m# run text through model\u001b[0m\u001b[0;34m\u001b[0m\u001b[0;34m\u001b[0m\u001b[0;34m\u001b[0m\u001b[0m\n\u001b[0;32m----> 6\u001b[0;31m \u001b[0mtweets_final\u001b[0m\u001b[0;34m[\u001b[0m\u001b[0;34m'believer_pred'\u001b[0m\u001b[0;34m]\u001b[0m \u001b[0;34m=\u001b[0m \u001b[0mrf_grid\u001b[0m\u001b[0;34m.\u001b[0m\u001b[0mpredict\u001b[0m\u001b[0;34m(\u001b[0m\u001b[0mtweets_final\u001b[0m\u001b[0;34m[\u001b[0m\u001b[0;34m'clean_text'\u001b[0m\u001b[0;34m]\u001b[0m\u001b[0;34m)\u001b[0m\u001b[0;34m\u001b[0m\u001b[0;34m\u001b[0m\u001b[0m\n\u001b[0m",
      "\u001b[0;31mNameError\u001b[0m: name 'rf_grid' is not defined"
     ]
    }
   ],
   "source": [
    "# prepare tweets for model\n",
    "tweets_final['clean_text'] = tweets_final['full_text'].apply(lambda x: clean_and_lem(x, lemmatizer)) \n",
    "tweets_final = tweets_final[tweets_final.clean_text.str.strip() != '']\n",
    "tweets_final = tweets_final[tweets_final.clean_text.str.strip() != ' ']\n",
    "# run text through model\n",
    "tweets_final['believer_pred'] = lr1_grid.predict(tweets_final['clean_text'])"
   ]
  },
  {
   "cell_type": "code",
   "execution_count": 35,
   "id": "proof-twelve",
   "metadata": {},
   "outputs": [
    {
     "data": {
      "text/plain": [
       "1.0    0.931688\n",
       "0.0    0.068312\n",
       "Name: believer_pred, dtype: float64"
      ]
     },
     "execution_count": 35,
     "metadata": {},
     "output_type": "execute_result"
    }
   ],
   "source": [
    "# check distribution of predictions\n",
    "tweets_final['believer_pred'].value_counts(normalize=True)"
   ]
  },
  {
   "cell_type": "markdown",
   "id": "express-lyric",
   "metadata": {},
   "source": [
    "### Sanity check the classified tweets"
   ]
  },
  {
   "cell_type": "code",
   "execution_count": 36,
   "id": "indonesian-lighter",
   "metadata": {},
   "outputs": [],
   "source": [
    "# sanity check on predictions\n",
    "def check_pred(df, n=None):\n",
    "    if n == None:\n",
    "        n = np.random.randint(0,len(df)-1)\n",
    "    print(df.iloc[n]['full_text'], '\\n', df.iloc[n]['believer_pred'])\n",
    "    print(f'https://twitter.com/{df.iloc[n][\"screen_names\"]}/status/{df.iloc[n][\"id\"]}')"
   ]
  },
  {
   "cell_type": "code",
   "execution_count": 37,
   "id": "corrected-abuse",
   "metadata": {},
   "outputs": [
    {
     "name": "stdout",
     "output_type": "stream",
     "text": [
      "Ayo Mueller man, where are you? These Hollywood niggas got you looking funny in the light. Pull up! https://t.co/6SrmAvjZbG \n",
      " 0.0\n",
      "https://twitter.com/Lady_RHOalye/status/1026982347487498245\n"
     ]
    }
   ],
   "source": [
    "check_pred(tweets_final[tweets_final['believer_pred']==0])"
   ]
  },
  {
   "cell_type": "markdown",
   "id": "brutal-liberal",
   "metadata": {},
   "source": [
    "# Sentiment Analysis\n",
    "\n",
    "An incomplete look at sentiment of the tweets to gain more complete picture of the conversation"
   ]
  },
  {
   "cell_type": "code",
   "execution_count": 61,
   "id": "identified-scientist",
   "metadata": {},
   "outputs": [],
   "source": [
    "def sentiment_score(sentence): \n",
    "  \n",
    "    # Instntiate SentimentIntensityAnalyzer object\n",
    "    sid_obj = SentimentIntensityAnalyzer() \n",
    "  \n",
    "    # store scoring data in dictionary  \n",
    "    sentiment_dict = sid_obj.polarity_scores(sentence) \n",
    "    \n",
    "    # return compound score for comparison's sake\n",
    "    return sentiment_dict['compound']"
   ]
  },
  {
   "cell_type": "code",
   "execution_count": 72,
   "id": "clinical-brass",
   "metadata": {},
   "outputs": [],
   "source": [
    "# get a sentiment score for each tweet\n",
    "sentiment = X.apply(lambda x: sentiment_score(x))"
   ]
  },
  {
   "cell_type": "code",
   "execution_count": 105,
   "id": "fresh-context",
   "metadata": {},
   "outputs": [],
   "source": [
    "# put sentiment score in dataframe with the tweets and target variable\n",
    "sent_df = pd.DataFrame(X)\n",
    "sent_df = sent_df.assign(target = y)\n",
    "sent_df = sent_df.assign(sent = sentiment)"
   ]
  },
  {
   "cell_type": "code",
   "execution_count": 106,
   "id": "based-opera",
   "metadata": {},
   "outputs": [],
   "source": [
    "# remove any rows that have exactly a 0 sentiment\n",
    "sent_df = sent_df[sent_df['sent'] != 0]"
   ]
  },
  {
   "cell_type": "code",
   "execution_count": 107,
   "id": "informal-archive",
   "metadata": {},
   "outputs": [
    {
     "data": {
      "text/plain": [
       "target\n",
       "0.0    0.069639\n",
       "1.0    0.053663\n",
       "Name: sent, dtype: float64"
      ]
     },
     "execution_count": 107,
     "metadata": {},
     "output_type": "execute_result"
    }
   ],
   "source": [
    "# look at average sentiment score for each class\n",
    "sent_df.groupby(['target'])['sent'].mean()"
   ]
  },
  {
   "cell_type": "markdown",
   "id": "useful-tiger",
   "metadata": {},
   "source": [
    "This doesn't tell us much, though cursory analysis indicates that climate denial tweets have a higher average sentiment score than do climate believers."
   ]
  },
  {
   "cell_type": "markdown",
   "id": "enhanced-evanescence",
   "metadata": {},
   "source": [
    "#### compress sentiment scores into categories"
   ]
  },
  {
   "cell_type": "code",
   "execution_count": 108,
   "id": "sufficient-ranch",
   "metadata": {},
   "outputs": [],
   "source": [
    "sent_df['sent'] = sent_df['sent'].multiply(100)\n",
    "\n",
    "conditions = [sent_df['sent'].isin(range(-100,-50)),\n",
    "              sent_df['sent'].isin(range(-50, 0)),\n",
    "              sent_df['sent'] == 0,\n",
    "              sent_df['sent'].isin(range(1, 50)),\n",
    "              sent_df['sent'].isin(range(50, 100))]\n",
    "\n",
    "choices =[-2,-1,0,1,2]\n",
    "\n",
    "sent_df['sent_cat'] = np.select(condlist=conditions, choicelist=choices)"
   ]
  },
  {
   "cell_type": "code",
   "execution_count": 109,
   "id": "respected-leisure",
   "metadata": {},
   "outputs": [
    {
     "data": {
      "text/plain": [
       " 0    93724\n",
       " 1     1987\n",
       "-1     1805\n",
       " 2       90\n",
       "-2       44\n",
       "Name: sent_cat, dtype: int64"
      ]
     },
     "execution_count": 109,
     "metadata": {},
     "output_type": "execute_result"
    }
   ],
   "source": [
    "sent_df['sent_cat'].value_counts()"
   ]
  },
  {
   "cell_type": "code",
   "execution_count": 110,
   "id": "educational-nursery",
   "metadata": {},
   "outputs": [
    {
     "data": {
      "image/png": "[encoded data removed]",
      "text/plain": [
       "<Figure size 288x216 with 1 Axes>"
      ]
     },
     "metadata": {
      "needs_background": "light"
     },
     "output_type": "display_data"
    }
   ],
   "source": [
    "# look at distribution of sentiment\n",
    "plt.figure(figsize=(4,3))\n",
    "sns.countplot(x=sent_df['sent_cat'])\n",
    "plt.title('Sentiment for all Tweets')\n",
    "plt.show()"
   ]
  },
  {
   "cell_type": "markdown",
   "id": "charitable-jenny",
   "metadata": {},
   "source": [
    "Clearly there is a strong skew to neutrality\n",
    "\n",
    "#### breakdown categorical distribution for each class"
   ]
  },
  {
   "cell_type": "code",
   "execution_count": 114,
   "id": "spread-raising",
   "metadata": {},
   "outputs": [
    {
     "data": {
      "text/html": [
       "<div>\n",
       "<style scoped>\n",
       "    .dataframe tbody tr th:only-of-type {\n",
       "        vertical-align: middle;\n",
       "    }\n",
       "\n",
       "    .dataframe tbody tr th {\n",
       "        vertical-align: top;\n",
       "    }\n",
       "\n",
       "    .dataframe thead th {\n",
       "        text-align: right;\n",
       "    }\n",
       "</style>\n",
       "<table border=\"1\" class=\"dataframe\">\n",
       "  <thead>\n",
       "    <tr style=\"text-align: right;\">\n",
       "      <th></th>\n",
       "      <th></th>\n",
       "      <th>full_text</th>\n",
       "    </tr>\n",
       "    <tr>\n",
       "      <th>target</th>\n",
       "      <th>sent_cat</th>\n",
       "      <th></th>\n",
       "    </tr>\n",
       "  </thead>\n",
       "  <tbody>\n",
       "    <tr>\n",
       "      <th rowspan=\"5\" valign=\"top\">0.0</th>\n",
       "      <th>-2</th>\n",
       "      <td>3</td>\n",
       "    </tr>\n",
       "    <tr>\n",
       "      <th>-1</th>\n",
       "      <td>22</td>\n",
       "    </tr>\n",
       "    <tr>\n",
       "      <th>0</th>\n",
       "      <td>1280</td>\n",
       "    </tr>\n",
       "    <tr>\n",
       "      <th>1</th>\n",
       "      <td>38</td>\n",
       "    </tr>\n",
       "    <tr>\n",
       "      <th>2</th>\n",
       "      <td>2</td>\n",
       "    </tr>\n",
       "    <tr>\n",
       "      <th rowspan=\"5\" valign=\"top\">1.0</th>\n",
       "      <th>-2</th>\n",
       "      <td>7</td>\n",
       "    </tr>\n",
       "    <tr>\n",
       "      <th>-1</th>\n",
       "      <td>141</td>\n",
       "    </tr>\n",
       "    <tr>\n",
       "      <th>0</th>\n",
       "      <td>5730</td>\n",
       "    </tr>\n",
       "    <tr>\n",
       "      <th>1</th>\n",
       "      <td>113</td>\n",
       "    </tr>\n",
       "    <tr>\n",
       "      <th>2</th>\n",
       "      <td>3</td>\n",
       "    </tr>\n",
       "  </tbody>\n",
       "</table>\n",
       "</div>"
      ],
      "text/plain": [
       "                 full_text\n",
       "target sent_cat           \n",
       "0.0    -2                3\n",
       "       -1               22\n",
       "        0             1280\n",
       "        1               38\n",
       "        2                2\n",
       "1.0    -2                7\n",
       "       -1              141\n",
       "        0             5730\n",
       "        1              113\n",
       "        2                3"
      ]
     },
     "execution_count": 114,
     "metadata": {},
     "output_type": "execute_result"
    }
   ],
   "source": [
    "grouped_believe = sent_df.groupby(['target', 'sent_cat'])['full_text'].count()\n",
    "grp_df = pd.DataFrame(grouped_believe)\n",
    "grp_df"
   ]
  }
 ],
 "metadata": {
  "kernelspec": {
   "display_name": "Python [conda env:ds01] *",
   "language": "python",
   "name": "conda-env-ds01-py"
  },
  "language_info": {
   "codemirror_mode": {
    "name": "ipython",
    "version": 3
   },
   "file_extension": ".py",
   "mimetype": "text/x-python",
   "name": "python",
   "nbconvert_exporter": "python",
   "pygments_lexer": "ipython3",
   "version": "3.6.9"
  }
 },
 "nbformat": 4,
 "nbformat_minor": 5
}
